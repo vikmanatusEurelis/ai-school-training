{
 "cells": [
  {
   "cell_type": "code",
   "execution_count": 111,
   "metadata": {},
   "outputs": [
    {
     "name": "stdout",
     "output_type": "stream",
     "text": [
      "Begining dataset cleaning\n",
      "--------------------------------- Begining reading 📖 ---------------------------------\n",
      "\n",
      "\n",
      "--------------------------------- Reading done ✅ ---------------------------------\n",
      "\n",
      "\n",
      "--------------------------------- Begining dataset cleaning 🗑 ---------------------------------\n",
      "\n",
      "\n"
     ]
    },
    {
     "data": {
      "text/html": [
       "<div>\n",
       "<style scoped>\n",
       "    .dataframe tbody tr th:only-of-type {\n",
       "        vertical-align: middle;\n",
       "    }\n",
       "\n",
       "    .dataframe tbody tr th {\n",
       "        vertical-align: top;\n",
       "    }\n",
       "\n",
       "    .dataframe thead th {\n",
       "        text-align: right;\n",
       "    }\n",
       "</style>\n",
       "<table border=\"1\" class=\"dataframe\">\n",
       "  <thead>\n",
       "    <tr style=\"text-align: right;\">\n",
       "      <th></th>\n",
       "      <th>datasetid</th>\n",
       "      <th>recordid</th>\n",
       "      <th>fields</th>\n",
       "      <th>geometry</th>\n",
       "      <th>record_timestamp</th>\n",
       "    </tr>\n",
       "  </thead>\n",
       "  <tbody>\n",
       "    <tr>\n",
       "      <th>0</th>\n",
       "      <td>comptage-velo-donnees-compteurs</td>\n",
       "      <td>ef5a8926e5ffa2afe942a22bce813d3b7b5ed91b</td>\n",
       "      <td>{'url_photos_n1': 'https://www.eco-visio.net/P...</td>\n",
       "      <td>{'type': 'Point', 'coordinates': [2.33338, 48....</td>\n",
       "      <td>2021-11-23T08:00:03.265+01:00</td>\n",
       "    </tr>\n",
       "    <tr>\n",
       "      <th>1</th>\n",
       "      <td>comptage-velo-donnees-compteurs</td>\n",
       "      <td>da9f82c7397ded76ccca768ac1de7227f19bb83b</td>\n",
       "      <td>{'url_photos_n1': 'https://www.eco-visio.net/P...</td>\n",
       "      <td>{'type': 'Point', 'coordinates': [2.33338, 48....</td>\n",
       "      <td>2021-11-23T08:00:03.265+01:00</td>\n",
       "    </tr>\n",
       "    <tr>\n",
       "      <th>2</th>\n",
       "      <td>comptage-velo-donnees-compteurs</td>\n",
       "      <td>343bbbe29dc14c67aaf3d82fab5494e9325179c3</td>\n",
       "      <td>{'url_photos_n1': 'https://www.eco-visio.net/P...</td>\n",
       "      <td>{'type': 'Point', 'coordinates': [2.33338, 48....</td>\n",
       "      <td>2021-11-23T08:00:03.265+01:00</td>\n",
       "    </tr>\n",
       "    <tr>\n",
       "      <th>3</th>\n",
       "      <td>comptage-velo-donnees-compteurs</td>\n",
       "      <td>ae6176a583ba76bb82a6176cba4938dc2bcf8f10</td>\n",
       "      <td>{'url_photos_n1': 'https://www.eco-visio.net/P...</td>\n",
       "      <td>{'type': 'Point', 'coordinates': [2.33338, 48....</td>\n",
       "      <td>2021-11-23T08:00:03.265+01:00</td>\n",
       "    </tr>\n",
       "    <tr>\n",
       "      <th>4</th>\n",
       "      <td>comptage-velo-donnees-compteurs</td>\n",
       "      <td>2758a1656d8b58b6a3f676750521c0e4ad07828b</td>\n",
       "      <td>{'url_photos_n1': 'https://www.eco-visio.net/P...</td>\n",
       "      <td>{'type': 'Point', 'coordinates': [2.33338, 48....</td>\n",
       "      <td>2021-11-23T08:00:03.265+01:00</td>\n",
       "    </tr>\n",
       "    <tr>\n",
       "      <th>...</th>\n",
       "      <td>...</td>\n",
       "      <td>...</td>\n",
       "      <td>...</td>\n",
       "      <td>...</td>\n",
       "      <td>...</td>\n",
       "    </tr>\n",
       "    <tr>\n",
       "      <th>950413</th>\n",
       "      <td>comptage-velo-donnees-compteurs</td>\n",
       "      <td>456b49cd4a0db242bc4e415f2075fd0550f45c40</td>\n",
       "      <td>{'url_photos_n1': 'https://www.eco-visio.net/P...</td>\n",
       "      <td>{'type': 'Point', 'coordinates': [2.32203, 48....</td>\n",
       "      <td>2021-11-23T08:39:53.355+01:00</td>\n",
       "    </tr>\n",
       "    <tr>\n",
       "      <th>950414</th>\n",
       "      <td>comptage-velo-donnees-compteurs</td>\n",
       "      <td>e24b85cd2fb73b6beec79444177ddba7962b95e0</td>\n",
       "      <td>{'url_photos_n1': 'https://www.eco-visio.net/P...</td>\n",
       "      <td>{'type': 'Point', 'coordinates': [2.32203, 48....</td>\n",
       "      <td>2021-11-23T08:39:53.355+01:00</td>\n",
       "    </tr>\n",
       "    <tr>\n",
       "      <th>950415</th>\n",
       "      <td>comptage-velo-donnees-compteurs</td>\n",
       "      <td>0f1bd184cd5618677173cefb1398c0905099779e</td>\n",
       "      <td>{'url_photos_n1': 'https://www.eco-visio.net/P...</td>\n",
       "      <td>{'type': 'Point', 'coordinates': [2.32203, 48....</td>\n",
       "      <td>2021-11-23T08:39:53.355+01:00</td>\n",
       "    </tr>\n",
       "    <tr>\n",
       "      <th>950416</th>\n",
       "      <td>comptage-velo-donnees-compteurs</td>\n",
       "      <td>bbde2fee1241eabb6d66f01f430af234ea42c364</td>\n",
       "      <td>{'url_photos_n1': 'https://www.eco-visio.net/P...</td>\n",
       "      <td>{'type': 'Point', 'coordinates': [2.32203, 48....</td>\n",
       "      <td>2021-11-23T08:39:53.355+01:00</td>\n",
       "    </tr>\n",
       "    <tr>\n",
       "      <th>950417</th>\n",
       "      <td>comptage-velo-donnees-compteurs</td>\n",
       "      <td>f8028016d8aff5aab588edef6f2c07d7cd2b437e</td>\n",
       "      <td>{'url_photos_n1': 'https://www.eco-visio.net/P...</td>\n",
       "      <td>{'type': 'Point', 'coordinates': [2.32203, 48....</td>\n",
       "      <td>2021-11-23T08:39:53.355+01:00</td>\n",
       "    </tr>\n",
       "  </tbody>\n",
       "</table>\n",
       "<p>950418 rows × 5 columns</p>\n",
       "</div>"
      ],
      "text/plain": [
       "                              datasetid  \\\n",
       "0       comptage-velo-donnees-compteurs   \n",
       "1       comptage-velo-donnees-compteurs   \n",
       "2       comptage-velo-donnees-compteurs   \n",
       "3       comptage-velo-donnees-compteurs   \n",
       "4       comptage-velo-donnees-compteurs   \n",
       "...                                 ...   \n",
       "950413  comptage-velo-donnees-compteurs   \n",
       "950414  comptage-velo-donnees-compteurs   \n",
       "950415  comptage-velo-donnees-compteurs   \n",
       "950416  comptage-velo-donnees-compteurs   \n",
       "950417  comptage-velo-donnees-compteurs   \n",
       "\n",
       "                                        recordid  \\\n",
       "0       ef5a8926e5ffa2afe942a22bce813d3b7b5ed91b   \n",
       "1       da9f82c7397ded76ccca768ac1de7227f19bb83b   \n",
       "2       343bbbe29dc14c67aaf3d82fab5494e9325179c3   \n",
       "3       ae6176a583ba76bb82a6176cba4938dc2bcf8f10   \n",
       "4       2758a1656d8b58b6a3f676750521c0e4ad07828b   \n",
       "...                                          ...   \n",
       "950413  456b49cd4a0db242bc4e415f2075fd0550f45c40   \n",
       "950414  e24b85cd2fb73b6beec79444177ddba7962b95e0   \n",
       "950415  0f1bd184cd5618677173cefb1398c0905099779e   \n",
       "950416  bbde2fee1241eabb6d66f01f430af234ea42c364   \n",
       "950417  f8028016d8aff5aab588edef6f2c07d7cd2b437e   \n",
       "\n",
       "                                                   fields  \\\n",
       "0       {'url_photos_n1': 'https://www.eco-visio.net/P...   \n",
       "1       {'url_photos_n1': 'https://www.eco-visio.net/P...   \n",
       "2       {'url_photos_n1': 'https://www.eco-visio.net/P...   \n",
       "3       {'url_photos_n1': 'https://www.eco-visio.net/P...   \n",
       "4       {'url_photos_n1': 'https://www.eco-visio.net/P...   \n",
       "...                                                   ...   \n",
       "950413  {'url_photos_n1': 'https://www.eco-visio.net/P...   \n",
       "950414  {'url_photos_n1': 'https://www.eco-visio.net/P...   \n",
       "950415  {'url_photos_n1': 'https://www.eco-visio.net/P...   \n",
       "950416  {'url_photos_n1': 'https://www.eco-visio.net/P...   \n",
       "950417  {'url_photos_n1': 'https://www.eco-visio.net/P...   \n",
       "\n",
       "                                                 geometry  \\\n",
       "0       {'type': 'Point', 'coordinates': [2.33338, 48....   \n",
       "1       {'type': 'Point', 'coordinates': [2.33338, 48....   \n",
       "2       {'type': 'Point', 'coordinates': [2.33338, 48....   \n",
       "3       {'type': 'Point', 'coordinates': [2.33338, 48....   \n",
       "4       {'type': 'Point', 'coordinates': [2.33338, 48....   \n",
       "...                                                   ...   \n",
       "950413  {'type': 'Point', 'coordinates': [2.32203, 48....   \n",
       "950414  {'type': 'Point', 'coordinates': [2.32203, 48....   \n",
       "950415  {'type': 'Point', 'coordinates': [2.32203, 48....   \n",
       "950416  {'type': 'Point', 'coordinates': [2.32203, 48....   \n",
       "950417  {'type': 'Point', 'coordinates': [2.32203, 48....   \n",
       "\n",
       "                     record_timestamp  \n",
       "0       2021-11-23T08:00:03.265+01:00  \n",
       "1       2021-11-23T08:00:03.265+01:00  \n",
       "2       2021-11-23T08:00:03.265+01:00  \n",
       "3       2021-11-23T08:00:03.265+01:00  \n",
       "4       2021-11-23T08:00:03.265+01:00  \n",
       "...                               ...  \n",
       "950413  2021-11-23T08:39:53.355+01:00  \n",
       "950414  2021-11-23T08:39:53.355+01:00  \n",
       "950415  2021-11-23T08:39:53.355+01:00  \n",
       "950416  2021-11-23T08:39:53.355+01:00  \n",
       "950417  2021-11-23T08:39:53.355+01:00  \n",
       "\n",
       "[950418 rows x 5 columns]"
      ]
     },
     "execution_count": 111,
     "metadata": {},
     "output_type": "execute_result"
    }
   ],
   "source": [
    "import pandas as pd\n",
    "from prophet import Prophet\n",
    "from datetime import datetime, timedelta\n",
    "message = \"Begining dataset cleaning\"\n",
    "print(message)\n",
    "\n",
    "print('--------------------------------- Begining reading 📖 ---------------------------------')\n",
    "print('\\n')\n",
    "dataset = pd.read_json('./data/comptage-velo-donnees-compteurs.json')\n",
    "print('--------------------------------- Reading done ✅ ---------------------------------')\n",
    "print('\\n')\n",
    "data = pd.DataFrame(dataset).from_dict(dataset)\n",
    "print('--------------------------------- Begining dataset cleaning 🗑 ---------------------------------')\n",
    "print('\\n')\n",
    "data\n"
   ]
  },
  {
   "cell_type": "code",
   "execution_count": 112,
   "metadata": {},
   "outputs": [
    {
     "name": "stdout",
     "output_type": "stream",
     "text": [
      "{'url_photos_n1': 'https://www.eco-visio.net/Photos/100003096/https:', 'name': '97 avenue Denfert Rochereau', 'nom_compteur': '97 avenue Denfert Rochereau SO-NE', 'sum_counts': 41.0, 'counter': 'X2H20012081', 'coordinates': [48.83511, 2.33338], 'installation_date': '2012-02-22', 'date': '2020-10-01T18:00:00+02:00', 'id_compteur': '100003096-353242251', 'id': '100003096'}\n",
      "Debugging\n",
      "[2.33338, 48.83511]\n",
      "--------------------------------- Dataset cleaned ✅ ---------------------------------\n",
      "\n",
      "\n"
     ]
    },
    {
     "data": {
      "text/html": [
       "<div>\n",
       "<style scoped>\n",
       "    .dataframe tbody tr th:only-of-type {\n",
       "        vertical-align: middle;\n",
       "    }\n",
       "\n",
       "    .dataframe tbody tr th {\n",
       "        vertical-align: top;\n",
       "    }\n",
       "\n",
       "    .dataframe thead th {\n",
       "        text-align: right;\n",
       "    }\n",
       "</style>\n",
       "<table border=\"1\" class=\"dataframe\">\n",
       "  <thead>\n",
       "    <tr style=\"text-align: right;\">\n",
       "      <th></th>\n",
       "      <th>recordid</th>\n",
       "      <th>nom_compteur</th>\n",
       "      <th>counter_update</th>\n",
       "      <th>sum_counts</th>\n",
       "      <th>id</th>\n",
       "      <th>id_compteur</th>\n",
       "      <th>name</th>\n",
       "      <th>latitude</th>\n",
       "      <th>longitude</th>\n",
       "    </tr>\n",
       "  </thead>\n",
       "  <tbody>\n",
       "    <tr>\n",
       "      <th>0</th>\n",
       "      <td>ef5a8926e5ffa2afe942a22bce813d3b7b5ed91b</td>\n",
       "      <td>97 avenue Denfert Rochereau SO-NE</td>\n",
       "      <td>2020-10-01T04:00:00+02:00</td>\n",
       "      <td>0.0</td>\n",
       "      <td>100003096</td>\n",
       "      <td>100003096-353242251</td>\n",
       "      <td>97 avenue Denfert Rochereau</td>\n",
       "      <td>48.83511</td>\n",
       "      <td>2.33338</td>\n",
       "    </tr>\n",
       "    <tr>\n",
       "      <th>1</th>\n",
       "      <td>da9f82c7397ded76ccca768ac1de7227f19bb83b</td>\n",
       "      <td>97 avenue Denfert Rochereau SO-NE</td>\n",
       "      <td>2020-10-01T03:00:00+02:00</td>\n",
       "      <td>1.0</td>\n",
       "      <td>100003096</td>\n",
       "      <td>100003096-353242251</td>\n",
       "      <td>97 avenue Denfert Rochereau</td>\n",
       "      <td>48.83511</td>\n",
       "      <td>2.33338</td>\n",
       "    </tr>\n",
       "    <tr>\n",
       "      <th>2</th>\n",
       "      <td>343bbbe29dc14c67aaf3d82fab5494e9325179c3</td>\n",
       "      <td>97 avenue Denfert Rochereau SO-NE</td>\n",
       "      <td>2020-10-01T05:00:00+02:00</td>\n",
       "      <td>2.0</td>\n",
       "      <td>100003096</td>\n",
       "      <td>100003096-353242251</td>\n",
       "      <td>97 avenue Denfert Rochereau</td>\n",
       "      <td>48.83511</td>\n",
       "      <td>2.33338</td>\n",
       "    </tr>\n",
       "    <tr>\n",
       "      <th>3</th>\n",
       "      <td>ae6176a583ba76bb82a6176cba4938dc2bcf8f10</td>\n",
       "      <td>97 avenue Denfert Rochereau SO-NE</td>\n",
       "      <td>2020-10-01T08:00:00+02:00</td>\n",
       "      <td>42.0</td>\n",
       "      <td>100003096</td>\n",
       "      <td>100003096-353242251</td>\n",
       "      <td>97 avenue Denfert Rochereau</td>\n",
       "      <td>48.83511</td>\n",
       "      <td>2.33338</td>\n",
       "    </tr>\n",
       "    <tr>\n",
       "      <th>4</th>\n",
       "      <td>2758a1656d8b58b6a3f676750521c0e4ad07828b</td>\n",
       "      <td>97 avenue Denfert Rochereau SO-NE</td>\n",
       "      <td>2020-10-01T13:00:00+02:00</td>\n",
       "      <td>38.0</td>\n",
       "      <td>100003096</td>\n",
       "      <td>100003096-353242251</td>\n",
       "      <td>97 avenue Denfert Rochereau</td>\n",
       "      <td>48.83511</td>\n",
       "      <td>2.33338</td>\n",
       "    </tr>\n",
       "    <tr>\n",
       "      <th>...</th>\n",
       "      <td>...</td>\n",
       "      <td>...</td>\n",
       "      <td>...</td>\n",
       "      <td>...</td>\n",
       "      <td>...</td>\n",
       "      <td>...</td>\n",
       "      <td>...</td>\n",
       "      <td>...</td>\n",
       "      <td>...</td>\n",
       "    </tr>\n",
       "    <tr>\n",
       "      <th>950413</th>\n",
       "      <td>456b49cd4a0db242bc4e415f2075fd0550f45c40</td>\n",
       "      <td>Quai des Tuileries SE-NO</td>\n",
       "      <td>2021-11-22T14:00:00+01:00</td>\n",
       "      <td>53.0</td>\n",
       "      <td>100056035</td>\n",
       "      <td>100056035-353266460</td>\n",
       "      <td>Quai des Tuileries</td>\n",
       "      <td>48.86357</td>\n",
       "      <td>2.32203</td>\n",
       "    </tr>\n",
       "    <tr>\n",
       "      <th>950414</th>\n",
       "      <td>e24b85cd2fb73b6beec79444177ddba7962b95e0</td>\n",
       "      <td>Quai des Tuileries SE-NO</td>\n",
       "      <td>2021-11-22T16:00:00+01:00</td>\n",
       "      <td>62.0</td>\n",
       "      <td>100056035</td>\n",
       "      <td>100056035-353266460</td>\n",
       "      <td>Quai des Tuileries</td>\n",
       "      <td>48.86357</td>\n",
       "      <td>2.32203</td>\n",
       "    </tr>\n",
       "    <tr>\n",
       "      <th>950415</th>\n",
       "      <td>0f1bd184cd5618677173cefb1398c0905099779e</td>\n",
       "      <td>Quai des Tuileries SE-NO</td>\n",
       "      <td>2021-11-22T19:00:00+01:00</td>\n",
       "      <td>148.0</td>\n",
       "      <td>100056035</td>\n",
       "      <td>100056035-353266460</td>\n",
       "      <td>Quai des Tuileries</td>\n",
       "      <td>48.86357</td>\n",
       "      <td>2.32203</td>\n",
       "    </tr>\n",
       "    <tr>\n",
       "      <th>950416</th>\n",
       "      <td>bbde2fee1241eabb6d66f01f430af234ea42c364</td>\n",
       "      <td>Quai des Tuileries SE-NO</td>\n",
       "      <td>2021-11-22T22:00:00+01:00</td>\n",
       "      <td>5.0</td>\n",
       "      <td>100056035</td>\n",
       "      <td>100056035-353266460</td>\n",
       "      <td>Quai des Tuileries</td>\n",
       "      <td>48.86357</td>\n",
       "      <td>2.32203</td>\n",
       "    </tr>\n",
       "    <tr>\n",
       "      <th>950417</th>\n",
       "      <td>f8028016d8aff5aab588edef6f2c07d7cd2b437e</td>\n",
       "      <td>Quai des Tuileries SE-NO</td>\n",
       "      <td>2021-11-22T23:00:00+01:00</td>\n",
       "      <td>3.0</td>\n",
       "      <td>100056035</td>\n",
       "      <td>100056035-353266460</td>\n",
       "      <td>Quai des Tuileries</td>\n",
       "      <td>48.86357</td>\n",
       "      <td>2.32203</td>\n",
       "    </tr>\n",
       "  </tbody>\n",
       "</table>\n",
       "<p>950418 rows × 9 columns</p>\n",
       "</div>"
      ],
      "text/plain": [
       "                                        recordid  \\\n",
       "0       ef5a8926e5ffa2afe942a22bce813d3b7b5ed91b   \n",
       "1       da9f82c7397ded76ccca768ac1de7227f19bb83b   \n",
       "2       343bbbe29dc14c67aaf3d82fab5494e9325179c3   \n",
       "3       ae6176a583ba76bb82a6176cba4938dc2bcf8f10   \n",
       "4       2758a1656d8b58b6a3f676750521c0e4ad07828b   \n",
       "...                                          ...   \n",
       "950413  456b49cd4a0db242bc4e415f2075fd0550f45c40   \n",
       "950414  e24b85cd2fb73b6beec79444177ddba7962b95e0   \n",
       "950415  0f1bd184cd5618677173cefb1398c0905099779e   \n",
       "950416  bbde2fee1241eabb6d66f01f430af234ea42c364   \n",
       "950417  f8028016d8aff5aab588edef6f2c07d7cd2b437e   \n",
       "\n",
       "                             nom_compteur             counter_update  \\\n",
       "0       97 avenue Denfert Rochereau SO-NE  2020-10-01T04:00:00+02:00   \n",
       "1       97 avenue Denfert Rochereau SO-NE  2020-10-01T03:00:00+02:00   \n",
       "2       97 avenue Denfert Rochereau SO-NE  2020-10-01T05:00:00+02:00   \n",
       "3       97 avenue Denfert Rochereau SO-NE  2020-10-01T08:00:00+02:00   \n",
       "4       97 avenue Denfert Rochereau SO-NE  2020-10-01T13:00:00+02:00   \n",
       "...                                   ...                        ...   \n",
       "950413           Quai des Tuileries SE-NO  2021-11-22T14:00:00+01:00   \n",
       "950414           Quai des Tuileries SE-NO  2021-11-22T16:00:00+01:00   \n",
       "950415           Quai des Tuileries SE-NO  2021-11-22T19:00:00+01:00   \n",
       "950416           Quai des Tuileries SE-NO  2021-11-22T22:00:00+01:00   \n",
       "950417           Quai des Tuileries SE-NO  2021-11-22T23:00:00+01:00   \n",
       "\n",
       "        sum_counts         id          id_compteur  \\\n",
       "0              0.0  100003096  100003096-353242251   \n",
       "1              1.0  100003096  100003096-353242251   \n",
       "2              2.0  100003096  100003096-353242251   \n",
       "3             42.0  100003096  100003096-353242251   \n",
       "4             38.0  100003096  100003096-353242251   \n",
       "...            ...        ...                  ...   \n",
       "950413        53.0  100056035  100056035-353266460   \n",
       "950414        62.0  100056035  100056035-353266460   \n",
       "950415       148.0  100056035  100056035-353266460   \n",
       "950416         5.0  100056035  100056035-353266460   \n",
       "950417         3.0  100056035  100056035-353266460   \n",
       "\n",
       "                               name  latitude  longitude  \n",
       "0       97 avenue Denfert Rochereau  48.83511    2.33338  \n",
       "1       97 avenue Denfert Rochereau  48.83511    2.33338  \n",
       "2       97 avenue Denfert Rochereau  48.83511    2.33338  \n",
       "3       97 avenue Denfert Rochereau  48.83511    2.33338  \n",
       "4       97 avenue Denfert Rochereau  48.83511    2.33338  \n",
       "...                             ...       ...        ...  \n",
       "950413           Quai des Tuileries  48.86357    2.32203  \n",
       "950414           Quai des Tuileries  48.86357    2.32203  \n",
       "950415           Quai des Tuileries  48.86357    2.32203  \n",
       "950416           Quai des Tuileries  48.86357    2.32203  \n",
       "950417           Quai des Tuileries  48.86357    2.32203  \n",
       "\n",
       "[950418 rows x 9 columns]"
      ]
     },
     "execution_count": 112,
     "metadata": {},
     "output_type": "execute_result"
    }
   ],
   "source": [
    "dataframe_fields = data['fields']\n",
    "counter_name_column = []\n",
    "sum_couts_holrder = []\n",
    "ids_holder = []\n",
    "id_compteur_holder = []\n",
    "names_holder = []\n",
    "latitude_holder = []\n",
    "longitude_holder = []\n",
    "records_dates_holder = []\n",
    "for index, value in enumerate(dataframe_fields):\n",
    "    if(index == 10):\n",
    "        print(value)\n",
    "    counter_name_column.append(value['nom_compteur'])\n",
    "    records_dates_holder.append(value['date'])\n",
    "    sum_couts_holrder.append(value['sum_counts'])\n",
    "    ids_holder.append(value['id'])\n",
    "    id_compteur_holder.append(value['id_compteur'])\n",
    "    names_holder.append(value['name'])\n",
    "data['nom_compteur'] = counter_name_column\n",
    "data['counter_update'] = records_dates_holder\n",
    "data['sum_counts'] = sum_couts_holrder\n",
    "data['id'] = ids_holder\n",
    "data['id_compteur'] = id_compteur_holder\n",
    "data['name'] = names_holder\n",
    "for index, value in enumerate(data['geometry']):\n",
    "    if(index == 10):\n",
    "        print('Debugging')\n",
    "        print(value['coordinates'])\n",
    "    longitude_holder.append(value['coordinates'][0])\n",
    "    latitude_holder.append(value['coordinates'][1])\n",
    "data['latitude'] = latitude_holder\n",
    "data['longitude'] = longitude_holder\n",
    "data.pop('geometry')\n",
    "data.pop('record_timestamp')\n",
    "data.pop('fields')\n",
    "data.pop('datasetid')\n",
    "print('--------------------------------- Dataset cleaned ✅ ---------------------------------')\n",
    "print('\\n')\n",
    "data\n",
    "# data['nom_compteur'].unique()\n",
    "# print(data.loc[data['fields'] ==\n",
    "#       'ef5a8926e5ffa2afe942a22bce813d3b7b5ed91b'])\n",
    "# data.loc(data['nom_compteur' == '97 avenue Denfert Rochereau SO-NE'])\n"
   ]
  },
  {
   "cell_type": "code",
   "execution_count": 113,
   "metadata": {},
   "outputs": [
    {
     "data": {
      "text/html": [
       "<div>\n",
       "<style scoped>\n",
       "    .dataframe tbody tr th:only-of-type {\n",
       "        vertical-align: middle;\n",
       "    }\n",
       "\n",
       "    .dataframe tbody tr th {\n",
       "        vertical-align: top;\n",
       "    }\n",
       "\n",
       "    .dataframe thead th {\n",
       "        text-align: right;\n",
       "    }\n",
       "</style>\n",
       "<table border=\"1\" class=\"dataframe\">\n",
       "  <thead>\n",
       "    <tr style=\"text-align: right;\">\n",
       "      <th></th>\n",
       "      <th>recordid</th>\n",
       "      <th>nom_compteur</th>\n",
       "      <th>counter_update</th>\n",
       "      <th>sum_counts</th>\n",
       "      <th>id</th>\n",
       "      <th>id_compteur</th>\n",
       "      <th>name</th>\n",
       "      <th>latitude</th>\n",
       "      <th>longitude</th>\n",
       "    </tr>\n",
       "  </thead>\n",
       "  <tbody>\n",
       "    <tr>\n",
       "      <th>0</th>\n",
       "      <td>ef5a8926e5ffa2afe942a22bce813d3b7b5ed91b</td>\n",
       "      <td>97 avenue Denfert Rochereau SO-NE</td>\n",
       "      <td>2020-10-01 02:00:00</td>\n",
       "      <td>0.0</td>\n",
       "      <td>100003096</td>\n",
       "      <td>100003096-353242251</td>\n",
       "      <td>97 avenue Denfert Rochereau</td>\n",
       "      <td>48.83511</td>\n",
       "      <td>2.33338</td>\n",
       "    </tr>\n",
       "    <tr>\n",
       "      <th>1</th>\n",
       "      <td>da9f82c7397ded76ccca768ac1de7227f19bb83b</td>\n",
       "      <td>97 avenue Denfert Rochereau SO-NE</td>\n",
       "      <td>2020-10-01 01:00:00</td>\n",
       "      <td>1.0</td>\n",
       "      <td>100003096</td>\n",
       "      <td>100003096-353242251</td>\n",
       "      <td>97 avenue Denfert Rochereau</td>\n",
       "      <td>48.83511</td>\n",
       "      <td>2.33338</td>\n",
       "    </tr>\n",
       "    <tr>\n",
       "      <th>2</th>\n",
       "      <td>343bbbe29dc14c67aaf3d82fab5494e9325179c3</td>\n",
       "      <td>97 avenue Denfert Rochereau SO-NE</td>\n",
       "      <td>2020-10-01 03:00:00</td>\n",
       "      <td>2.0</td>\n",
       "      <td>100003096</td>\n",
       "      <td>100003096-353242251</td>\n",
       "      <td>97 avenue Denfert Rochereau</td>\n",
       "      <td>48.83511</td>\n",
       "      <td>2.33338</td>\n",
       "    </tr>\n",
       "    <tr>\n",
       "      <th>3</th>\n",
       "      <td>ae6176a583ba76bb82a6176cba4938dc2bcf8f10</td>\n",
       "      <td>97 avenue Denfert Rochereau SO-NE</td>\n",
       "      <td>2020-10-01 06:00:00</td>\n",
       "      <td>42.0</td>\n",
       "      <td>100003096</td>\n",
       "      <td>100003096-353242251</td>\n",
       "      <td>97 avenue Denfert Rochereau</td>\n",
       "      <td>48.83511</td>\n",
       "      <td>2.33338</td>\n",
       "    </tr>\n",
       "    <tr>\n",
       "      <th>4</th>\n",
       "      <td>2758a1656d8b58b6a3f676750521c0e4ad07828b</td>\n",
       "      <td>97 avenue Denfert Rochereau SO-NE</td>\n",
       "      <td>2020-10-01 11:00:00</td>\n",
       "      <td>38.0</td>\n",
       "      <td>100003096</td>\n",
       "      <td>100003096-353242251</td>\n",
       "      <td>97 avenue Denfert Rochereau</td>\n",
       "      <td>48.83511</td>\n",
       "      <td>2.33338</td>\n",
       "    </tr>\n",
       "    <tr>\n",
       "      <th>...</th>\n",
       "      <td>...</td>\n",
       "      <td>...</td>\n",
       "      <td>...</td>\n",
       "      <td>...</td>\n",
       "      <td>...</td>\n",
       "      <td>...</td>\n",
       "      <td>...</td>\n",
       "      <td>...</td>\n",
       "      <td>...</td>\n",
       "    </tr>\n",
       "    <tr>\n",
       "      <th>950413</th>\n",
       "      <td>456b49cd4a0db242bc4e415f2075fd0550f45c40</td>\n",
       "      <td>Quai des Tuileries SE-NO</td>\n",
       "      <td>2021-11-22 13:00:00</td>\n",
       "      <td>53.0</td>\n",
       "      <td>100056035</td>\n",
       "      <td>100056035-353266460</td>\n",
       "      <td>Quai des Tuileries</td>\n",
       "      <td>48.86357</td>\n",
       "      <td>2.32203</td>\n",
       "    </tr>\n",
       "    <tr>\n",
       "      <th>950414</th>\n",
       "      <td>e24b85cd2fb73b6beec79444177ddba7962b95e0</td>\n",
       "      <td>Quai des Tuileries SE-NO</td>\n",
       "      <td>2021-11-22 15:00:00</td>\n",
       "      <td>62.0</td>\n",
       "      <td>100056035</td>\n",
       "      <td>100056035-353266460</td>\n",
       "      <td>Quai des Tuileries</td>\n",
       "      <td>48.86357</td>\n",
       "      <td>2.32203</td>\n",
       "    </tr>\n",
       "    <tr>\n",
       "      <th>950415</th>\n",
       "      <td>0f1bd184cd5618677173cefb1398c0905099779e</td>\n",
       "      <td>Quai des Tuileries SE-NO</td>\n",
       "      <td>2021-11-22 18:00:00</td>\n",
       "      <td>148.0</td>\n",
       "      <td>100056035</td>\n",
       "      <td>100056035-353266460</td>\n",
       "      <td>Quai des Tuileries</td>\n",
       "      <td>48.86357</td>\n",
       "      <td>2.32203</td>\n",
       "    </tr>\n",
       "    <tr>\n",
       "      <th>950416</th>\n",
       "      <td>bbde2fee1241eabb6d66f01f430af234ea42c364</td>\n",
       "      <td>Quai des Tuileries SE-NO</td>\n",
       "      <td>2021-11-22 21:00:00</td>\n",
       "      <td>5.0</td>\n",
       "      <td>100056035</td>\n",
       "      <td>100056035-353266460</td>\n",
       "      <td>Quai des Tuileries</td>\n",
       "      <td>48.86357</td>\n",
       "      <td>2.32203</td>\n",
       "    </tr>\n",
       "    <tr>\n",
       "      <th>950417</th>\n",
       "      <td>f8028016d8aff5aab588edef6f2c07d7cd2b437e</td>\n",
       "      <td>Quai des Tuileries SE-NO</td>\n",
       "      <td>2021-11-22 22:00:00</td>\n",
       "      <td>3.0</td>\n",
       "      <td>100056035</td>\n",
       "      <td>100056035-353266460</td>\n",
       "      <td>Quai des Tuileries</td>\n",
       "      <td>48.86357</td>\n",
       "      <td>2.32203</td>\n",
       "    </tr>\n",
       "  </tbody>\n",
       "</table>\n",
       "<p>950418 rows × 9 columns</p>\n",
       "</div>"
      ],
      "text/plain": [
       "                                        recordid  \\\n",
       "0       ef5a8926e5ffa2afe942a22bce813d3b7b5ed91b   \n",
       "1       da9f82c7397ded76ccca768ac1de7227f19bb83b   \n",
       "2       343bbbe29dc14c67aaf3d82fab5494e9325179c3   \n",
       "3       ae6176a583ba76bb82a6176cba4938dc2bcf8f10   \n",
       "4       2758a1656d8b58b6a3f676750521c0e4ad07828b   \n",
       "...                                          ...   \n",
       "950413  456b49cd4a0db242bc4e415f2075fd0550f45c40   \n",
       "950414  e24b85cd2fb73b6beec79444177ddba7962b95e0   \n",
       "950415  0f1bd184cd5618677173cefb1398c0905099779e   \n",
       "950416  bbde2fee1241eabb6d66f01f430af234ea42c364   \n",
       "950417  f8028016d8aff5aab588edef6f2c07d7cd2b437e   \n",
       "\n",
       "                             nom_compteur      counter_update  sum_counts  \\\n",
       "0       97 avenue Denfert Rochereau SO-NE 2020-10-01 02:00:00         0.0   \n",
       "1       97 avenue Denfert Rochereau SO-NE 2020-10-01 01:00:00         1.0   \n",
       "2       97 avenue Denfert Rochereau SO-NE 2020-10-01 03:00:00         2.0   \n",
       "3       97 avenue Denfert Rochereau SO-NE 2020-10-01 06:00:00        42.0   \n",
       "4       97 avenue Denfert Rochereau SO-NE 2020-10-01 11:00:00        38.0   \n",
       "...                                   ...                 ...         ...   \n",
       "950413           Quai des Tuileries SE-NO 2021-11-22 13:00:00        53.0   \n",
       "950414           Quai des Tuileries SE-NO 2021-11-22 15:00:00        62.0   \n",
       "950415           Quai des Tuileries SE-NO 2021-11-22 18:00:00       148.0   \n",
       "950416           Quai des Tuileries SE-NO 2021-11-22 21:00:00         5.0   \n",
       "950417           Quai des Tuileries SE-NO 2021-11-22 22:00:00         3.0   \n",
       "\n",
       "               id          id_compteur                         name  latitude  \\\n",
       "0       100003096  100003096-353242251  97 avenue Denfert Rochereau  48.83511   \n",
       "1       100003096  100003096-353242251  97 avenue Denfert Rochereau  48.83511   \n",
       "2       100003096  100003096-353242251  97 avenue Denfert Rochereau  48.83511   \n",
       "3       100003096  100003096-353242251  97 avenue Denfert Rochereau  48.83511   \n",
       "4       100003096  100003096-353242251  97 avenue Denfert Rochereau  48.83511   \n",
       "...           ...                  ...                          ...       ...   \n",
       "950413  100056035  100056035-353266460           Quai des Tuileries  48.86357   \n",
       "950414  100056035  100056035-353266460           Quai des Tuileries  48.86357   \n",
       "950415  100056035  100056035-353266460           Quai des Tuileries  48.86357   \n",
       "950416  100056035  100056035-353266460           Quai des Tuileries  48.86357   \n",
       "950417  100056035  100056035-353266460           Quai des Tuileries  48.86357   \n",
       "\n",
       "        longitude  \n",
       "0         2.33338  \n",
       "1         2.33338  \n",
       "2         2.33338  \n",
       "3         2.33338  \n",
       "4         2.33338  \n",
       "...           ...  \n",
       "950413    2.32203  \n",
       "950414    2.32203  \n",
       "950415    2.32203  \n",
       "950416    2.32203  \n",
       "950417    2.32203  \n",
       "\n",
       "[950418 rows x 9 columns]"
      ]
     },
     "execution_count": 113,
     "metadata": {},
     "output_type": "execute_result"
    }
   ],
   "source": [
    "data['counter_update'] = pd.to_datetime(data['counter_update'],utc=True).dt.tz_localize(None)\n",
    "data\n"
   ]
  },
  {
   "cell_type": "code",
   "execution_count": 114,
   "metadata": {},
   "outputs": [
    {
     "data": {
      "text/plain": [
       "[<matplotlib.lines.Line2D at 0x1bd7fb490>]"
      ]
     },
     "execution_count": 114,
     "metadata": {},
     "output_type": "execute_result"
    },
    {
     "data": {
      "image/png": "[encoded data removed]",
      "text/plain": [
       "<Figure size 432x288 with 1 Axes>"
      ]
     },
     "metadata": {},
     "output_type": "display_data"
    }
   ],
   "source": [
    "import matplotlib.pyplot as plt\n",
    "# can save 1,20\n",
    "fig = plt.figure(facecolor='w')\n",
    "plt.plot(data.counter_update, data.sum_counts)\n"
   ]
  },
  {
   "cell_type": "code",
   "execution_count": 115,
   "metadata": {},
   "outputs": [
    {
     "data": {
      "text/html": [
       "<div>\n",
       "<style scoped>\n",
       "    .dataframe tbody tr th:only-of-type {\n",
       "        vertical-align: middle;\n",
       "    }\n",
       "\n",
       "    .dataframe tbody tr th {\n",
       "        vertical-align: top;\n",
       "    }\n",
       "\n",
       "    .dataframe thead th {\n",
       "        text-align: right;\n",
       "    }\n",
       "</style>\n",
       "<table border=\"1\" class=\"dataframe\">\n",
       "  <thead>\n",
       "    <tr style=\"text-align: right;\">\n",
       "      <th></th>\n",
       "      <th>recordid</th>\n",
       "      <th>nom_compteur</th>\n",
       "      <th>counter_update</th>\n",
       "      <th>sum_counts</th>\n",
       "      <th>id</th>\n",
       "      <th>id_compteur</th>\n",
       "      <th>name</th>\n",
       "      <th>latitude</th>\n",
       "      <th>longitude</th>\n",
       "    </tr>\n",
       "  </thead>\n",
       "  <tbody>\n",
       "    <tr>\n",
       "      <th>945362</th>\n",
       "      <td>8d3fee2cd3cb7cd257062dceeef89c0f1fbfbeda</td>\n",
       "      <td>Quai des Tuileries SE-NO</td>\n",
       "      <td>2021-05-18 12:00:00</td>\n",
       "      <td>62.0</td>\n",
       "      <td>100056035</td>\n",
       "      <td>100056035-353266460</td>\n",
       "      <td>Quai des Tuileries</td>\n",
       "      <td>48.86357</td>\n",
       "      <td>2.32203</td>\n",
       "    </tr>\n",
       "    <tr>\n",
       "      <th>945365</th>\n",
       "      <td>97351f1016ec4c687d842bc3882451892436fbdb</td>\n",
       "      <td>Quai des Tuileries SE-NO</td>\n",
       "      <td>2021-05-18 13:00:00</td>\n",
       "      <td>44.0</td>\n",
       "      <td>100056035</td>\n",
       "      <td>100056035-353266460</td>\n",
       "      <td>Quai des Tuileries</td>\n",
       "      <td>48.86357</td>\n",
       "      <td>2.32203</td>\n",
       "    </tr>\n",
       "    <tr>\n",
       "      <th>945368</th>\n",
       "      <td>f4fe5df552f7b2165ffb9f50757574aeef67b38e</td>\n",
       "      <td>Quai des Tuileries SE-NO</td>\n",
       "      <td>2021-05-18 16:00:00</td>\n",
       "      <td>91.0</td>\n",
       "      <td>100056035</td>\n",
       "      <td>100056035-353266460</td>\n",
       "      <td>Quai des Tuileries</td>\n",
       "      <td>48.86357</td>\n",
       "      <td>2.32203</td>\n",
       "    </tr>\n",
       "    <tr>\n",
       "      <th>945371</th>\n",
       "      <td>1135e255f05f947791b9c5d49e6310b151ef51c7</td>\n",
       "      <td>Quai des Tuileries SE-NO</td>\n",
       "      <td>2021-05-19 07:00:00</td>\n",
       "      <td>291.0</td>\n",
       "      <td>100056035</td>\n",
       "      <td>100056035-353266460</td>\n",
       "      <td>Quai des Tuileries</td>\n",
       "      <td>48.86357</td>\n",
       "      <td>2.32203</td>\n",
       "    </tr>\n",
       "    <tr>\n",
       "      <th>945374</th>\n",
       "      <td>b9219447e7a431e774e4274c69b4514e15534d68</td>\n",
       "      <td>Quai des Tuileries SE-NO</td>\n",
       "      <td>2021-05-19 08:00:00</td>\n",
       "      <td>66.0</td>\n",
       "      <td>100056035</td>\n",
       "      <td>100056035-353266460</td>\n",
       "      <td>Quai des Tuileries</td>\n",
       "      <td>48.86357</td>\n",
       "      <td>2.32203</td>\n",
       "    </tr>\n",
       "    <tr>\n",
       "      <th>...</th>\n",
       "      <td>...</td>\n",
       "      <td>...</td>\n",
       "      <td>...</td>\n",
       "      <td>...</td>\n",
       "      <td>...</td>\n",
       "      <td>...</td>\n",
       "      <td>...</td>\n",
       "      <td>...</td>\n",
       "      <td>...</td>\n",
       "    </tr>\n",
       "    <tr>\n",
       "      <th>950413</th>\n",
       "      <td>456b49cd4a0db242bc4e415f2075fd0550f45c40</td>\n",
       "      <td>Quai des Tuileries SE-NO</td>\n",
       "      <td>2021-11-22 13:00:00</td>\n",
       "      <td>53.0</td>\n",
       "      <td>100056035</td>\n",
       "      <td>100056035-353266460</td>\n",
       "      <td>Quai des Tuileries</td>\n",
       "      <td>48.86357</td>\n",
       "      <td>2.32203</td>\n",
       "    </tr>\n",
       "    <tr>\n",
       "      <th>950414</th>\n",
       "      <td>e24b85cd2fb73b6beec79444177ddba7962b95e0</td>\n",
       "      <td>Quai des Tuileries SE-NO</td>\n",
       "      <td>2021-11-22 15:00:00</td>\n",
       "      <td>62.0</td>\n",
       "      <td>100056035</td>\n",
       "      <td>100056035-353266460</td>\n",
       "      <td>Quai des Tuileries</td>\n",
       "      <td>48.86357</td>\n",
       "      <td>2.32203</td>\n",
       "    </tr>\n",
       "    <tr>\n",
       "      <th>950415</th>\n",
       "      <td>0f1bd184cd5618677173cefb1398c0905099779e</td>\n",
       "      <td>Quai des Tuileries SE-NO</td>\n",
       "      <td>2021-11-22 18:00:00</td>\n",
       "      <td>148.0</td>\n",
       "      <td>100056035</td>\n",
       "      <td>100056035-353266460</td>\n",
       "      <td>Quai des Tuileries</td>\n",
       "      <td>48.86357</td>\n",
       "      <td>2.32203</td>\n",
       "    </tr>\n",
       "    <tr>\n",
       "      <th>950416</th>\n",
       "      <td>bbde2fee1241eabb6d66f01f430af234ea42c364</td>\n",
       "      <td>Quai des Tuileries SE-NO</td>\n",
       "      <td>2021-11-22 21:00:00</td>\n",
       "      <td>5.0</td>\n",
       "      <td>100056035</td>\n",
       "      <td>100056035-353266460</td>\n",
       "      <td>Quai des Tuileries</td>\n",
       "      <td>48.86357</td>\n",
       "      <td>2.32203</td>\n",
       "    </tr>\n",
       "    <tr>\n",
       "      <th>950417</th>\n",
       "      <td>f8028016d8aff5aab588edef6f2c07d7cd2b437e</td>\n",
       "      <td>Quai des Tuileries SE-NO</td>\n",
       "      <td>2021-11-22 22:00:00</td>\n",
       "      <td>3.0</td>\n",
       "      <td>100056035</td>\n",
       "      <td>100056035-353266460</td>\n",
       "      <td>Quai des Tuileries</td>\n",
       "      <td>48.86357</td>\n",
       "      <td>2.32203</td>\n",
       "    </tr>\n",
       "  </tbody>\n",
       "</table>\n",
       "<p>4527 rows × 9 columns</p>\n",
       "</div>"
      ],
      "text/plain": [
       "                                        recordid              nom_compteur  \\\n",
       "945362  8d3fee2cd3cb7cd257062dceeef89c0f1fbfbeda  Quai des Tuileries SE-NO   \n",
       "945365  97351f1016ec4c687d842bc3882451892436fbdb  Quai des Tuileries SE-NO   \n",
       "945368  f4fe5df552f7b2165ffb9f50757574aeef67b38e  Quai des Tuileries SE-NO   \n",
       "945371  1135e255f05f947791b9c5d49e6310b151ef51c7  Quai des Tuileries SE-NO   \n",
       "945374  b9219447e7a431e774e4274c69b4514e15534d68  Quai des Tuileries SE-NO   \n",
       "...                                          ...                       ...   \n",
       "950413  456b49cd4a0db242bc4e415f2075fd0550f45c40  Quai des Tuileries SE-NO   \n",
       "950414  e24b85cd2fb73b6beec79444177ddba7962b95e0  Quai des Tuileries SE-NO   \n",
       "950415  0f1bd184cd5618677173cefb1398c0905099779e  Quai des Tuileries SE-NO   \n",
       "950416  bbde2fee1241eabb6d66f01f430af234ea42c364  Quai des Tuileries SE-NO   \n",
       "950417  f8028016d8aff5aab588edef6f2c07d7cd2b437e  Quai des Tuileries SE-NO   \n",
       "\n",
       "            counter_update  sum_counts         id          id_compteur  \\\n",
       "945362 2021-05-18 12:00:00        62.0  100056035  100056035-353266460   \n",
       "945365 2021-05-18 13:00:00        44.0  100056035  100056035-353266460   \n",
       "945368 2021-05-18 16:00:00        91.0  100056035  100056035-353266460   \n",
       "945371 2021-05-19 07:00:00       291.0  100056035  100056035-353266460   \n",
       "945374 2021-05-19 08:00:00        66.0  100056035  100056035-353266460   \n",
       "...                    ...         ...        ...                  ...   \n",
       "950413 2021-11-22 13:00:00        53.0  100056035  100056035-353266460   \n",
       "950414 2021-11-22 15:00:00        62.0  100056035  100056035-353266460   \n",
       "950415 2021-11-22 18:00:00       148.0  100056035  100056035-353266460   \n",
       "950416 2021-11-22 21:00:00         5.0  100056035  100056035-353266460   \n",
       "950417 2021-11-22 22:00:00         3.0  100056035  100056035-353266460   \n",
       "\n",
       "                      name  latitude  longitude  \n",
       "945362  Quai des Tuileries  48.86357    2.32203  \n",
       "945365  Quai des Tuileries  48.86357    2.32203  \n",
       "945368  Quai des Tuileries  48.86357    2.32203  \n",
       "945371  Quai des Tuileries  48.86357    2.32203  \n",
       "945374  Quai des Tuileries  48.86357    2.32203  \n",
       "...                    ...       ...        ...  \n",
       "950413  Quai des Tuileries  48.86357    2.32203  \n",
       "950414  Quai des Tuileries  48.86357    2.32203  \n",
       "950415  Quai des Tuileries  48.86357    2.32203  \n",
       "950416  Quai des Tuileries  48.86357    2.32203  \n",
       "950417  Quai des Tuileries  48.86357    2.32203  \n",
       "\n",
       "[4527 rows x 9 columns]"
      ]
     },
     "execution_count": 115,
     "metadata": {},
     "output_type": "execute_result"
    }
   ],
   "source": [
    "cleaned_data = data.drop(data[data.nom_compteur != 'Quai des Tuileries SE-NO'].index)\n",
    "cleaned_data"
   ]
  },
  {
   "cell_type": "code",
   "execution_count": 116,
   "metadata": {},
   "outputs": [
    {
     "data": {
      "text/plain": [
       "[<matplotlib.lines.Line2D at 0x1b3364eb0>]"
      ]
     },
     "execution_count": 116,
     "metadata": {},
     "output_type": "execute_result"
    },
    {
     "data": {
      "image/png": "[encoded data removed]",
      "text/plain": [
       "<Figure size 432x288 with 1 Axes>"
      ]
     },
     "metadata": {},
     "output_type": "display_data"
    }
   ],
   "source": [
    "fig2 = plt.figure(facecolor='w')\n",
    "plt.plot(cleaned_data.counter_update, cleaned_data.sum_counts)\n",
    "\n",
    "# plt.plot(clcleaned_dtcleanedcleaned_dt.\n",
    "# counter_update, data.sum_counts)"
   ]
  },
  {
   "cell_type": "code",
   "execution_count": 117,
   "metadata": {},
   "outputs": [
    {
     "data": {
      "text/html": [
       "<div>\n",
       "<style scoped>\n",
       "    .dataframe tbody tr th:only-of-type {\n",
       "        vertical-align: middle;\n",
       "    }\n",
       "\n",
       "    .dataframe tbody tr th {\n",
       "        vertical-align: top;\n",
       "    }\n",
       "\n",
       "    .dataframe thead th {\n",
       "        text-align: right;\n",
       "    }\n",
       "</style>\n",
       "<table border=\"1\" class=\"dataframe\">\n",
       "  <thead>\n",
       "    <tr style=\"text-align: right;\">\n",
       "      <th></th>\n",
       "      <th>recordid</th>\n",
       "      <th>nom_compteur</th>\n",
       "      <th>ds</th>\n",
       "      <th>y</th>\n",
       "      <th>id</th>\n",
       "      <th>id_compteur</th>\n",
       "      <th>name</th>\n",
       "      <th>latitude</th>\n",
       "      <th>longitude</th>\n",
       "    </tr>\n",
       "  </thead>\n",
       "  <tbody>\n",
       "    <tr>\n",
       "      <th>945362</th>\n",
       "      <td>8d3fee2cd3cb7cd257062dceeef89c0f1fbfbeda</td>\n",
       "      <td>Quai des Tuileries SE-NO</td>\n",
       "      <td>2021-05-18 12:00:00</td>\n",
       "      <td>62.0</td>\n",
       "      <td>100056035</td>\n",
       "      <td>100056035-353266460</td>\n",
       "      <td>Quai des Tuileries</td>\n",
       "      <td>48.86357</td>\n",
       "      <td>2.32203</td>\n",
       "    </tr>\n",
       "    <tr>\n",
       "      <th>945365</th>\n",
       "      <td>97351f1016ec4c687d842bc3882451892436fbdb</td>\n",
       "      <td>Quai des Tuileries SE-NO</td>\n",
       "      <td>2021-05-18 13:00:00</td>\n",
       "      <td>44.0</td>\n",
       "      <td>100056035</td>\n",
       "      <td>100056035-353266460</td>\n",
       "      <td>Quai des Tuileries</td>\n",
       "      <td>48.86357</td>\n",
       "      <td>2.32203</td>\n",
       "    </tr>\n",
       "    <tr>\n",
       "      <th>945368</th>\n",
       "      <td>f4fe5df552f7b2165ffb9f50757574aeef67b38e</td>\n",
       "      <td>Quai des Tuileries SE-NO</td>\n",
       "      <td>2021-05-18 16:00:00</td>\n",
       "      <td>91.0</td>\n",
       "      <td>100056035</td>\n",
       "      <td>100056035-353266460</td>\n",
       "      <td>Quai des Tuileries</td>\n",
       "      <td>48.86357</td>\n",
       "      <td>2.32203</td>\n",
       "    </tr>\n",
       "    <tr>\n",
       "      <th>945371</th>\n",
       "      <td>1135e255f05f947791b9c5d49e6310b151ef51c7</td>\n",
       "      <td>Quai des Tuileries SE-NO</td>\n",
       "      <td>2021-05-19 07:00:00</td>\n",
       "      <td>291.0</td>\n",
       "      <td>100056035</td>\n",
       "      <td>100056035-353266460</td>\n",
       "      <td>Quai des Tuileries</td>\n",
       "      <td>48.86357</td>\n",
       "      <td>2.32203</td>\n",
       "    </tr>\n",
       "    <tr>\n",
       "      <th>945374</th>\n",
       "      <td>b9219447e7a431e774e4274c69b4514e15534d68</td>\n",
       "      <td>Quai des Tuileries SE-NO</td>\n",
       "      <td>2021-05-19 08:00:00</td>\n",
       "      <td>66.0</td>\n",
       "      <td>100056035</td>\n",
       "      <td>100056035-353266460</td>\n",
       "      <td>Quai des Tuileries</td>\n",
       "      <td>48.86357</td>\n",
       "      <td>2.32203</td>\n",
       "    </tr>\n",
       "    <tr>\n",
       "      <th>...</th>\n",
       "      <td>...</td>\n",
       "      <td>...</td>\n",
       "      <td>...</td>\n",
       "      <td>...</td>\n",
       "      <td>...</td>\n",
       "      <td>...</td>\n",
       "      <td>...</td>\n",
       "      <td>...</td>\n",
       "      <td>...</td>\n",
       "    </tr>\n",
       "    <tr>\n",
       "      <th>950413</th>\n",
       "      <td>456b49cd4a0db242bc4e415f2075fd0550f45c40</td>\n",
       "      <td>Quai des Tuileries SE-NO</td>\n",
       "      <td>2021-11-22 13:00:00</td>\n",
       "      <td>53.0</td>\n",
       "      <td>100056035</td>\n",
       "      <td>100056035-353266460</td>\n",
       "      <td>Quai des Tuileries</td>\n",
       "      <td>48.86357</td>\n",
       "      <td>2.32203</td>\n",
       "    </tr>\n",
       "    <tr>\n",
       "      <th>950414</th>\n",
       "      <td>e24b85cd2fb73b6beec79444177ddba7962b95e0</td>\n",
       "      <td>Quai des Tuileries SE-NO</td>\n",
       "      <td>2021-11-22 15:00:00</td>\n",
       "      <td>62.0</td>\n",
       "      <td>100056035</td>\n",
       "      <td>100056035-353266460</td>\n",
       "      <td>Quai des Tuileries</td>\n",
       "      <td>48.86357</td>\n",
       "      <td>2.32203</td>\n",
       "    </tr>\n",
       "    <tr>\n",
       "      <th>950415</th>\n",
       "      <td>0f1bd184cd5618677173cefb1398c0905099779e</td>\n",
       "      <td>Quai des Tuileries SE-NO</td>\n",
       "      <td>2021-11-22 18:00:00</td>\n",
       "      <td>148.0</td>\n",
       "      <td>100056035</td>\n",
       "      <td>100056035-353266460</td>\n",
       "      <td>Quai des Tuileries</td>\n",
       "      <td>48.86357</td>\n",
       "      <td>2.32203</td>\n",
       "    </tr>\n",
       "    <tr>\n",
       "      <th>950416</th>\n",
       "      <td>bbde2fee1241eabb6d66f01f430af234ea42c364</td>\n",
       "      <td>Quai des Tuileries SE-NO</td>\n",
       "      <td>2021-11-22 21:00:00</td>\n",
       "      <td>5.0</td>\n",
       "      <td>100056035</td>\n",
       "      <td>100056035-353266460</td>\n",
       "      <td>Quai des Tuileries</td>\n",
       "      <td>48.86357</td>\n",
       "      <td>2.32203</td>\n",
       "    </tr>\n",
       "    <tr>\n",
       "      <th>950417</th>\n",
       "      <td>f8028016d8aff5aab588edef6f2c07d7cd2b437e</td>\n",
       "      <td>Quai des Tuileries SE-NO</td>\n",
       "      <td>2021-11-22 22:00:00</td>\n",
       "      <td>3.0</td>\n",
       "      <td>100056035</td>\n",
       "      <td>100056035-353266460</td>\n",
       "      <td>Quai des Tuileries</td>\n",
       "      <td>48.86357</td>\n",
       "      <td>2.32203</td>\n",
       "    </tr>\n",
       "  </tbody>\n",
       "</table>\n",
       "<p>4527 rows × 9 columns</p>\n",
       "</div>"
      ],
      "text/plain": [
       "                                        recordid              nom_compteur  \\\n",
       "945362  8d3fee2cd3cb7cd257062dceeef89c0f1fbfbeda  Quai des Tuileries SE-NO   \n",
       "945365  97351f1016ec4c687d842bc3882451892436fbdb  Quai des Tuileries SE-NO   \n",
       "945368  f4fe5df552f7b2165ffb9f50757574aeef67b38e  Quai des Tuileries SE-NO   \n",
       "945371  1135e255f05f947791b9c5d49e6310b151ef51c7  Quai des Tuileries SE-NO   \n",
       "945374  b9219447e7a431e774e4274c69b4514e15534d68  Quai des Tuileries SE-NO   \n",
       "...                                          ...                       ...   \n",
       "950413  456b49cd4a0db242bc4e415f2075fd0550f45c40  Quai des Tuileries SE-NO   \n",
       "950414  e24b85cd2fb73b6beec79444177ddba7962b95e0  Quai des Tuileries SE-NO   \n",
       "950415  0f1bd184cd5618677173cefb1398c0905099779e  Quai des Tuileries SE-NO   \n",
       "950416  bbde2fee1241eabb6d66f01f430af234ea42c364  Quai des Tuileries SE-NO   \n",
       "950417  f8028016d8aff5aab588edef6f2c07d7cd2b437e  Quai des Tuileries SE-NO   \n",
       "\n",
       "                        ds      y         id          id_compteur  \\\n",
       "945362 2021-05-18 12:00:00   62.0  100056035  100056035-353266460   \n",
       "945365 2021-05-18 13:00:00   44.0  100056035  100056035-353266460   \n",
       "945368 2021-05-18 16:00:00   91.0  100056035  100056035-353266460   \n",
       "945371 2021-05-19 07:00:00  291.0  100056035  100056035-353266460   \n",
       "945374 2021-05-19 08:00:00   66.0  100056035  100056035-353266460   \n",
       "...                    ...    ...        ...                  ...   \n",
       "950413 2021-11-22 13:00:00   53.0  100056035  100056035-353266460   \n",
       "950414 2021-11-22 15:00:00   62.0  100056035  100056035-353266460   \n",
       "950415 2021-11-22 18:00:00  148.0  100056035  100056035-353266460   \n",
       "950416 2021-11-22 21:00:00    5.0  100056035  100056035-353266460   \n",
       "950417 2021-11-22 22:00:00    3.0  100056035  100056035-353266460   \n",
       "\n",
       "                      name  latitude  longitude  \n",
       "945362  Quai des Tuileries  48.86357    2.32203  \n",
       "945365  Quai des Tuileries  48.86357    2.32203  \n",
       "945368  Quai des Tuileries  48.86357    2.32203  \n",
       "945371  Quai des Tuileries  48.86357    2.32203  \n",
       "945374  Quai des Tuileries  48.86357    2.32203  \n",
       "...                    ...       ...        ...  \n",
       "950413  Quai des Tuileries  48.86357    2.32203  \n",
       "950414  Quai des Tuileries  48.86357    2.32203  \n",
       "950415  Quai des Tuileries  48.86357    2.32203  \n",
       "950416  Quai des Tuileries  48.86357    2.32203  \n",
       "950417  Quai des Tuileries  48.86357    2.32203  \n",
       "\n",
       "[4527 rows x 9 columns]"
      ]
     },
     "execution_count": 117,
     "metadata": {},
     "output_type": "execute_result"
    }
   ],
   "source": [
    "cleaned_data.rename({\"counter_update\": \"ds\", \"sum_counts\": \"y\"}, axis='columns', inplace =True) # Renaming column A with 'new_a' and B with 'new_b'\n",
    "cleaned_data"
   ]
  },
  {
   "cell_type": "code",
   "execution_count": 118,
   "metadata": {},
   "outputs": [
    {
     "data": {
      "text/html": [
       "<div>\n",
       "<style scoped>\n",
       "    .dataframe tbody tr th:only-of-type {\n",
       "        vertical-align: middle;\n",
       "    }\n",
       "\n",
       "    .dataframe tbody tr th {\n",
       "        vertical-align: top;\n",
       "    }\n",
       "\n",
       "    .dataframe thead th {\n",
       "        text-align: right;\n",
       "    }\n",
       "</style>\n",
       "<table border=\"1\" class=\"dataframe\">\n",
       "  <thead>\n",
       "    <tr style=\"text-align: right;\">\n",
       "      <th></th>\n",
       "      <th>ds</th>\n",
       "      <th>y</th>\n",
       "    </tr>\n",
       "  </thead>\n",
       "  <tbody>\n",
       "    <tr>\n",
       "      <th>945362</th>\n",
       "      <td>2021-05-18 12:00:00</td>\n",
       "      <td>62.0</td>\n",
       "    </tr>\n",
       "    <tr>\n",
       "      <th>945365</th>\n",
       "      <td>2021-05-18 13:00:00</td>\n",
       "      <td>44.0</td>\n",
       "    </tr>\n",
       "    <tr>\n",
       "      <th>945368</th>\n",
       "      <td>2021-05-18 16:00:00</td>\n",
       "      <td>91.0</td>\n",
       "    </tr>\n",
       "    <tr>\n",
       "      <th>945371</th>\n",
       "      <td>2021-05-19 07:00:00</td>\n",
       "      <td>291.0</td>\n",
       "    </tr>\n",
       "    <tr>\n",
       "      <th>945374</th>\n",
       "      <td>2021-05-19 08:00:00</td>\n",
       "      <td>66.0</td>\n",
       "    </tr>\n",
       "    <tr>\n",
       "      <th>...</th>\n",
       "      <td>...</td>\n",
       "      <td>...</td>\n",
       "    </tr>\n",
       "    <tr>\n",
       "      <th>950413</th>\n",
       "      <td>2021-11-22 13:00:00</td>\n",
       "      <td>53.0</td>\n",
       "    </tr>\n",
       "    <tr>\n",
       "      <th>950414</th>\n",
       "      <td>2021-11-22 15:00:00</td>\n",
       "      <td>62.0</td>\n",
       "    </tr>\n",
       "    <tr>\n",
       "      <th>950415</th>\n",
       "      <td>2021-11-22 18:00:00</td>\n",
       "      <td>148.0</td>\n",
       "    </tr>\n",
       "    <tr>\n",
       "      <th>950416</th>\n",
       "      <td>2021-11-22 21:00:00</td>\n",
       "      <td>5.0</td>\n",
       "    </tr>\n",
       "    <tr>\n",
       "      <th>950417</th>\n",
       "      <td>2021-11-22 22:00:00</td>\n",
       "      <td>3.0</td>\n",
       "    </tr>\n",
       "  </tbody>\n",
       "</table>\n",
       "<p>4527 rows × 2 columns</p>\n",
       "</div>"
      ],
      "text/plain": [
       "                        ds      y\n",
       "945362 2021-05-18 12:00:00   62.0\n",
       "945365 2021-05-18 13:00:00   44.0\n",
       "945368 2021-05-18 16:00:00   91.0\n",
       "945371 2021-05-19 07:00:00  291.0\n",
       "945374 2021-05-19 08:00:00   66.0\n",
       "...                    ...    ...\n",
       "950413 2021-11-22 13:00:00   53.0\n",
       "950414 2021-11-22 15:00:00   62.0\n",
       "950415 2021-11-22 18:00:00  148.0\n",
       "950416 2021-11-22 21:00:00    5.0\n",
       "950417 2021-11-22 22:00:00    3.0\n",
       "\n",
       "[4527 rows x 2 columns]"
      ]
     },
     "execution_count": 118,
     "metadata": {},
     "output_type": "execute_result"
    }
   ],
   "source": [
    "cleaned_data.pop('recordid')\n",
    "cleaned_data.pop('nom_compteur')\n",
    "cleaned_data.pop('id')\n",
    "cleaned_data.pop('id_compteur')\n",
    "cleaned_data.pop('name')\n",
    "cleaned_data.pop('latitude')\n",
    "cleaned_data.pop('longitude')\n",
    "cleaned_data\n"
   ]
  },
  {
   "cell_type": "code",
   "execution_count": 119,
   "metadata": {},
   "outputs": [
    {
     "name": "stderr",
     "output_type": "stream",
     "text": [
      "INFO:prophet:Disabling yearly seasonality. Run prophet with yearly_seasonality=True to override this.\n"
     ]
    },
    {
     "name": "stdout",
     "output_type": "stream",
     "text": [
      "Initial log joint probability = -61.911\n",
      "    Iter      log prob        ||dx||      ||grad||       alpha      alpha0  # evals  Notes \n",
      "      99       8207.71    0.00101898       182.305      0.8858      0.8858      138   \n",
      "    Iter      log prob        ||dx||      ||grad||       alpha      alpha0  # evals  Notes \n",
      "     141       8208.16   0.000186634       128.833   1.733e-06       0.001      215  LS failed, Hessian reset \n",
      "     192       8208.39   8.11261e-05        62.633   1.155e-06       0.001      327  LS failed, Hessian reset \n",
      "     199        8208.4   2.21725e-06       73.7359      0.2862      0.2862      335   \n",
      "    Iter      log prob        ||dx||      ||grad||       alpha      alpha0  # evals  Notes \n",
      "     265       8209.06   0.000427913       249.264    2.97e-06       0.001      449  LS failed, Hessian reset \n",
      "     299       8209.39   1.81127e-05       63.4513      0.5582      0.5582      491   \n",
      "    Iter      log prob        ||dx||      ||grad||       alpha      alpha0  # evals  Notes \n",
      "     325        8209.4   0.000109234       53.5582   1.538e-06       0.001      570  LS failed, Hessian reset \n",
      "     343        8209.4   7.25311e-07       62.8273      0.2497           1      596   \n",
      "Optimization terminated normally: \n",
      "  Convergence detected: relative gradient magnitude is below tolerance\n"
     ]
    },
    {
     "data": {
      "text/html": [
       "<div>\n",
       "<style scoped>\n",
       "    .dataframe tbody tr th:only-of-type {\n",
       "        vertical-align: middle;\n",
       "    }\n",
       "\n",
       "    .dataframe tbody tr th {\n",
       "        vertical-align: top;\n",
       "    }\n",
       "\n",
       "    .dataframe thead th {\n",
       "        text-align: right;\n",
       "    }\n",
       "</style>\n",
       "<table border=\"1\" class=\"dataframe\">\n",
       "  <thead>\n",
       "    <tr style=\"text-align: right;\">\n",
       "      <th></th>\n",
       "      <th>ds</th>\n",
       "      <th>yhat</th>\n",
       "      <th>yhat_lower</th>\n",
       "      <th>yhat_upper</th>\n",
       "    </tr>\n",
       "  </thead>\n",
       "  <tbody>\n",
       "    <tr>\n",
       "      <th>4612</th>\n",
       "      <td>2022-02-16 22:00:00</td>\n",
       "      <td>-44.967501</td>\n",
       "      <td>-142.829429</td>\n",
       "      <td>63.301659</td>\n",
       "    </tr>\n",
       "    <tr>\n",
       "      <th>4613</th>\n",
       "      <td>2022-02-17 22:00:00</td>\n",
       "      <td>-49.376742</td>\n",
       "      <td>-151.490369</td>\n",
       "      <td>57.106006</td>\n",
       "    </tr>\n",
       "    <tr>\n",
       "      <th>4614</th>\n",
       "      <td>2022-02-18 22:00:00</td>\n",
       "      <td>-76.165990</td>\n",
       "      <td>-176.658307</td>\n",
       "      <td>31.284647</td>\n",
       "    </tr>\n",
       "    <tr>\n",
       "      <th>4615</th>\n",
       "      <td>2022-02-19 22:00:00</td>\n",
       "      <td>-85.651025</td>\n",
       "      <td>-183.466111</td>\n",
       "      <td>18.622322</td>\n",
       "    </tr>\n",
       "    <tr>\n",
       "      <th>4616</th>\n",
       "      <td>2022-02-20 22:00:00</td>\n",
       "      <td>-64.668827</td>\n",
       "      <td>-171.111195</td>\n",
       "      <td>52.305857</td>\n",
       "    </tr>\n",
       "  </tbody>\n",
       "</table>\n",
       "</div>"
      ],
      "text/plain": [
       "                      ds       yhat  yhat_lower  yhat_upper\n",
       "4612 2022-02-16 22:00:00 -44.967501 -142.829429   63.301659\n",
       "4613 2022-02-17 22:00:00 -49.376742 -151.490369   57.106006\n",
       "4614 2022-02-18 22:00:00 -76.165990 -176.658307   31.284647\n",
       "4615 2022-02-19 22:00:00 -85.651025 -183.466111   18.622322\n",
       "4616 2022-02-20 22:00:00 -64.668827 -171.111195   52.305857"
      ]
     },
     "execution_count": 119,
     "metadata": {},
     "output_type": "execute_result"
    }
   ],
   "source": [
    "m = Prophet()\n",
    "m.fit(cleaned_data)\n",
    "future = m.make_future_dataframe(periods=90)\n",
    "forecast = m.predict(future)\n",
    "forecast[['ds', 'yhat', 'yhat_lower', 'yhat_upper']].tail()"
   ]
  },
  {
   "cell_type": "code",
   "execution_count": 120,
   "metadata": {},
   "outputs": [
    {
     "data": {
      "image/png": "[encoded data removed]",
      "text/plain": [
       "<Figure size 720x432 with 1 Axes>"
      ]
     },
     "metadata": {},
     "output_type": "display_data"
    }
   ],
   "source": [
    "fig3 = m.plot(forecast)\n",
    "datenow = datetime(2021, 11, 23)\n",
    "dateend = datenow + timedelta(days=90)\n",
    "datestart = dateend - timedelta(days=450)\n",
    "plt.xlim([datestart, dateend])\n",
    "plt.title(\"Datetime forecast\", fontsize=20)\n",
    "plt.xlabel(\"Day\", fontsize=20)\n",
    "plt.ylabel(\"Bike counts\", fontsize=20)\n",
    "plt.axvline(datenow, color=\"k\", linestyle=\":\")\n",
    "plt.show()"
   ]
  },
  {
   "cell_type": "code",
   "execution_count": 121,
   "metadata": {},
   "outputs": [
    {
     "data": {
      "image/png": "[encoded data removed]",
      "text/plain": [
       "<Figure size 648x648 with 3 Axes>"
      ]
     },
     "metadata": {},
     "output_type": "display_data"
    }
   ],
   "source": [
    "fig4 = m.plot_components(forecast)\n",
    "\n"
   ]
  },
  {
   "cell_type": "code",
   "execution_count": 122,
   "metadata": {},
   "outputs": [
    {
     "name": "stderr",
     "output_type": "stream",
     "text": [
      "INFO:prophet:Making 118 forecasts with cutoffs between 2021-05-28 10:00:00 and 2021-11-19 22:00:00\n",
      "  0%|          | 0/118 [00:00<?, ?it/s]"
     ]
    },
    {
     "name": "stdout",
     "output_type": "stream",
     "text": [
      "Initial log joint probability = -6.28038\n",
      "    Iter      log prob        ||dx||      ||grad||       alpha      alpha0  # evals  Notes \n",
      "      99       408.355   1.05127e-07       100.482      0.9026      0.9026      131   \n",
      "    Iter      log prob        ||dx||      ||grad||       alpha      alpha0  # evals  Notes \n",
      "     107       408.356   5.66583e-09        99.542      0.3139     0.05868      144   \n",
      "Optimization terminated normally: \n",
      "  Convergence detected: absolute parameter change was below tolerance\n"
     ]
    },
    {
     "name": "stderr",
     "output_type": "stream",
     "text": [
      "  1%|          | 1/118 [00:01<02:05,  1.07s/it]"
     ]
    },
    {
     "name": "stdout",
     "output_type": "stream",
     "text": [
      "Initial log joint probability = -8.60505\n",
      "    Iter      log prob        ||dx||      ||grad||       alpha      alpha0  # evals  Notes \n",
      "      99       471.218   6.52702e-06        96.012      0.3467      0.3467      137   \n",
      "    Iter      log prob        ||dx||      ||grad||       alpha      alpha0  # evals  Notes \n",
      "     176        471.22   2.39853e-08       104.468      0.2627           1      230   \n",
      "Optimization terminated normally: \n",
      "  Convergence detected: relative gradient magnitude is below tolerance\n"
     ]
    },
    {
     "name": "stderr",
     "output_type": "stream",
     "text": [
      "  2%|▏         | 2/118 [00:02<02:05,  1.08s/it]"
     ]
    },
    {
     "name": "stdout",
     "output_type": "stream",
     "text": [
      "Initial log joint probability = -7.38574\n",
      "    Iter      log prob        ||dx||      ||grad||       alpha      alpha0  # evals  Notes \n",
      "      99       518.613   1.20089e-05       87.4748           1           1      140   \n",
      "    Iter      log prob        ||dx||      ||grad||       alpha      alpha0  # evals  Notes \n",
      "     107       518.616   1.84841e-05       65.4767   1.987e-07       0.001      198  LS failed, Hessian reset \n",
      "     136       518.616   1.02354e-07       76.3569   1.596e-09       0.001      277  LS failed, Hessian reset \n",
      "     143       518.616   1.30889e-08       66.0239      0.2011           1      288   \n",
      "Optimization terminated normally: \n",
      "  Convergence detected: relative gradient magnitude is below tolerance\n"
     ]
    },
    {
     "name": "stderr",
     "output_type": "stream",
     "text": [
      "  3%|▎         | 3/118 [00:03<02:05,  1.09s/it]"
     ]
    },
    {
     "name": "stdout",
     "output_type": "stream",
     "text": [
      "Initial log joint probability = -8.55906\n",
      "    Iter      log prob        ||dx||      ||grad||       alpha      alpha0  # evals  Notes \n",
      "      99       632.498   5.14928e-05       87.9612           1           1      143   \n",
      "    Iter      log prob        ||dx||      ||grad||       alpha      alpha0  # evals  Notes \n",
      "     135       632.582   0.000144655       73.2149   1.711e-06       0.001      223  LS failed, Hessian reset \n",
      "     166       632.587   9.69657e-09       63.0127      0.2514      0.2514      267   \n",
      "Optimization terminated normally: \n",
      "  Convergence detected: absolute parameter change was below tolerance\n"
     ]
    },
    {
     "name": "stderr",
     "output_type": "stream",
     "text": [
      "  3%|▎         | 4/118 [00:04<02:02,  1.07s/it]"
     ]
    },
    {
     "name": "stdout",
     "output_type": "stream",
     "text": [
      "Initial log joint probability = -7.36466\n",
      "    Iter      log prob        ||dx||      ||grad||       alpha      alpha0  # evals  Notes \n",
      "      99       682.202   2.13762e-06       72.2007      0.2391           1      125   \n",
      "    Iter      log prob        ||dx||      ||grad||       alpha      alpha0  # evals  Notes \n",
      "     131       682.203   8.53005e-06       85.5978   1.061e-07       0.001      213  LS failed, Hessian reset \n",
      "     157       682.203   3.19861e-08       68.8175      0.1438      0.8219      251   \n",
      "Optimization terminated normally: \n",
      "  Convergence detected: relative gradient magnitude is below tolerance\n"
     ]
    },
    {
     "name": "stderr",
     "output_type": "stream",
     "text": [
      "  4%|▍         | 5/118 [00:05<02:00,  1.07s/it]"
     ]
    },
    {
     "name": "stdout",
     "output_type": "stream",
     "text": [
      "Initial log joint probability = -10.2266\n",
      "    Iter      log prob        ||dx||      ||grad||       alpha      alpha0  # evals  Notes \n",
      "      93       749.541   0.000221405       85.5738   2.985e-06       0.001      181  LS failed, Hessian reset \n",
      "      99       749.549   1.56579e-05       73.3373      0.5818      0.5818      187   \n",
      "    Iter      log prob        ||dx||      ||grad||       alpha      alpha0  # evals  Notes \n",
      "     126       749.552   8.64003e-09        78.991       0.151       0.151      228   \n",
      "Optimization terminated normally: \n",
      "  Convergence detected: absolute parameter change was below tolerance\n"
     ]
    },
    {
     "name": "stderr",
     "output_type": "stream",
     "text": [
      "  5%|▌         | 6/118 [00:06<01:58,  1.06s/it]"
     ]
    },
    {
     "name": "stdout",
     "output_type": "stream",
     "text": [
      "Initial log joint probability = -8.91531\n",
      "    Iter      log prob        ||dx||      ||grad||       alpha      alpha0  # evals  Notes \n",
      "      99       810.309   0.000140158       87.1028      0.7966      0.7966      129   \n",
      "    Iter      log prob        ||dx||      ||grad||       alpha      alpha0  # evals  Notes \n",
      "     134       810.314   2.74489e-08       79.0903      0.3972           1      177   \n",
      "Optimization terminated normally: \n",
      "  Convergence detected: relative gradient magnitude is below tolerance\n"
     ]
    },
    {
     "name": "stderr",
     "output_type": "stream",
     "text": [
      "  6%|▌         | 7/118 [00:07<01:58,  1.07s/it]"
     ]
    },
    {
     "name": "stdout",
     "output_type": "stream",
     "text": [
      "Initial log joint probability = -11.7808\n",
      "    Iter      log prob        ||dx||      ||grad||       alpha      alpha0  # evals  Notes \n",
      "      97       867.221   3.51476e-08         71.56      0.2056           1      124   \n",
      "Optimization terminated normally: \n",
      "  Convergence detected: relative gradient magnitude is below tolerance\n"
     ]
    },
    {
     "name": "stderr",
     "output_type": "stream",
     "text": [
      "  7%|▋         | 8/118 [00:08<01:56,  1.06s/it]"
     ]
    },
    {
     "name": "stdout",
     "output_type": "stream",
     "text": [
      "Initial log joint probability = -8.57266\n",
      "    Iter      log prob        ||dx||      ||grad||       alpha      alpha0  # evals  Notes \n",
      "      99       952.838    5.5821e-08        80.697      0.3464      0.9044      137   \n",
      "    Iter      log prob        ||dx||      ||grad||       alpha      alpha0  # evals  Notes \n",
      "     100       952.838   2.76696e-08       76.2707      0.3918      0.3918      138   \n",
      "Optimization terminated normally: \n",
      "  Convergence detected: relative gradient magnitude is below tolerance\n"
     ]
    },
    {
     "name": "stderr",
     "output_type": "stream",
     "text": [
      "  8%|▊         | 9/118 [00:09<01:54,  1.05s/it]"
     ]
    },
    {
     "name": "stdout",
     "output_type": "stream",
     "text": [
      "Initial log joint probability = -12.331\n",
      "    Iter      log prob        ||dx||      ||grad||       alpha      alpha0  # evals  Notes \n",
      "      99       1012.46   7.76525e-05        87.469           1           1      132   \n",
      "    Iter      log prob        ||dx||      ||grad||       alpha      alpha0  # evals  Notes \n",
      "     106       1012.48   9.49837e-05       80.7139   9.603e-07       0.001      174  LS failed, Hessian reset \n",
      "     156       1012.49   3.70196e-06       94.3472   4.172e-08       0.001      273  LS failed, Hessian reset \n",
      "     176       1012.49   6.99025e-08       80.4749      0.9147      0.9147      301   \n",
      "Optimization terminated normally: \n",
      "  Convergence detected: relative gradient magnitude is below tolerance\n"
     ]
    },
    {
     "name": "stderr",
     "output_type": "stream",
     "text": [
      "  8%|▊         | 10/118 [00:10<01:54,  1.06s/it]"
     ]
    },
    {
     "name": "stdout",
     "output_type": "stream",
     "text": [
      "Initial log joint probability = -9.67523\n",
      "    Iter      log prob        ||dx||      ||grad||       alpha      alpha0  # evals  Notes \n",
      "      90       1079.18   8.50207e-08       90.7658           1           1      125   \n",
      "Optimization terminated normally: \n",
      "  Convergence detected: relative gradient magnitude is below tolerance\n"
     ]
    },
    {
     "name": "stderr",
     "output_type": "stream",
     "text": [
      "  9%|▉         | 11/118 [00:11<01:53,  1.06s/it]"
     ]
    },
    {
     "name": "stdout",
     "output_type": "stream",
     "text": [
      "Initial log joint probability = -13.1271\n",
      "    Iter      log prob        ||dx||      ||grad||       alpha      alpha0  # evals  Notes \n",
      "      99       1147.68   2.32394e-05       69.2286      0.4221      0.4221      137   \n",
      "    Iter      log prob        ||dx||      ||grad||       alpha      alpha0  # evals  Notes \n",
      "     139       1147.68   1.03533e-05       90.4827   1.393e-07       0.001      228  LS failed, Hessian reset \n",
      "     171       1147.68   3.79007e-08       67.3178      0.5277      0.5277      269   \n",
      "Optimization terminated normally: \n",
      "  Convergence detected: relative gradient magnitude is below tolerance\n"
     ]
    },
    {
     "name": "stderr",
     "output_type": "stream",
     "text": [
      " 10%|█         | 12/118 [00:12<01:51,  1.06s/it]"
     ]
    },
    {
     "name": "stdout",
     "output_type": "stream",
     "text": [
      "Initial log joint probability = -11.1406\n",
      "    Iter      log prob        ||dx||      ||grad||       alpha      alpha0  # evals  Notes \n",
      "      58       1185.85   0.000233539       90.5002   2.519e-06       0.001      108  LS failed, Hessian reset \n",
      "      96       1185.87   5.03091e-08       81.5031       0.217           1      155   \n",
      "Optimization terminated normally: \n",
      "  Convergence detected: relative gradient magnitude is below tolerance\n"
     ]
    },
    {
     "name": "stderr",
     "output_type": "stream",
     "text": [
      " 11%|█         | 13/118 [00:13<01:50,  1.05s/it]"
     ]
    },
    {
     "name": "stdout",
     "output_type": "stream",
     "text": [
      "Initial log joint probability = -15.9786\n",
      "    Iter      log prob        ||dx||      ||grad||       alpha      alpha0  # evals  Notes \n",
      "      99       1245.32   2.79204e-06       80.7647      0.6331      0.6331      133   \n",
      "    Iter      log prob        ||dx||      ||grad||       alpha      alpha0  # evals  Notes \n",
      "     122       1245.33   1.77589e-05         82.06   2.476e-07       0.001      206  LS failed, Hessian reset \n",
      "     168       1245.33   8.15545e-06       81.4081   9.336e-08       0.001      307  LS failed, Hessian reset \n",
      "     190       1245.33   3.56205e-08       65.6652      0.3109           1      339   \n",
      "Optimization terminated normally: \n",
      "  Convergence detected: relative gradient magnitude is below tolerance\n"
     ]
    },
    {
     "name": "stderr",
     "output_type": "stream",
     "text": [
      " 12%|█▏        | 14/118 [00:14<01:49,  1.06s/it]"
     ]
    },
    {
     "name": "stdout",
     "output_type": "stream",
     "text": [
      "Initial log joint probability = -12.4356\n",
      "    Iter      log prob        ||dx||      ||grad||       alpha      alpha0  # evals  Notes \n",
      "      60       1308.54   0.000174113       58.3161   2.021e-06       0.001      129  LS failed, Hessian reset \n",
      "      93       1308.55   5.59781e-08        59.936      0.1615      0.4898      175   \n",
      "Optimization terminated normally: \n",
      "  Convergence detected: relative gradient magnitude is below tolerance\n"
     ]
    },
    {
     "name": "stderr",
     "output_type": "stream",
     "text": [
      " 13%|█▎        | 15/118 [00:15<01:48,  1.05s/it]"
     ]
    },
    {
     "name": "stdout",
     "output_type": "stream",
     "text": [
      "Initial log joint probability = -16.3642\n",
      "    Iter      log prob        ||dx||      ||grad||       alpha      alpha0  # evals  Notes \n",
      "      99       1377.54   2.64593e-07       69.6747      0.1189      0.1189      134   \n",
      "    Iter      log prob        ||dx||      ||grad||       alpha      alpha0  # evals  Notes \n",
      "     128       1377.54   1.12868e-05       64.0482   2.078e-07       0.001      206  LS failed, Hessian reset \n",
      "     196       1377.55   4.33416e-06       59.8516   6.543e-08       0.001      331  LS failed, Hessian reset \n",
      "     199       1377.55   1.41575e-07       49.4203      0.2953      0.2953      335   \n",
      "    Iter      log prob        ||dx||      ||grad||       alpha      alpha0  # evals  Notes \n",
      "     212       1377.55   9.24809e-08       58.8271           1           1      354   \n",
      "Optimization terminated normally: \n",
      "  Convergence detected: relative gradient magnitude is below tolerance\n"
     ]
    },
    {
     "name": "stderr",
     "output_type": "stream",
     "text": [
      " 14%|█▎        | 16/118 [00:16<01:48,  1.06s/it]"
     ]
    },
    {
     "name": "stdout",
     "output_type": "stream",
     "text": [
      "Initial log joint probability = -14.077\n",
      "    Iter      log prob        ||dx||      ||grad||       alpha      alpha0  # evals  Notes \n",
      "      38        1439.7   4.04276e-06         57.46    7.22e-08       0.001       97  LS failed, Hessian reset \n",
      "      62       1439.72   0.000395035       49.7814   7.568e-06       0.001      167  LS failed, Hessian reset \n",
      "      73       1439.73   8.66695e-06       56.3164   1.644e-07       0.001      218  LS failed, Hessian reset \n",
      "      93       1439.73   5.65656e-08       51.6344      0.2301           1      246   \n",
      "Optimization terminated normally: \n",
      "  Convergence detected: relative gradient magnitude is below tolerance\n"
     ]
    },
    {
     "name": "stderr",
     "output_type": "stream",
     "text": [
      " 14%|█▍        | 17/118 [00:18<01:46,  1.06s/it]"
     ]
    },
    {
     "name": "stdout",
     "output_type": "stream",
     "text": [
      "Initial log joint probability = -17.987\n",
      "    Iter      log prob        ||dx||      ||grad||       alpha      alpha0  # evals  Notes \n",
      "      89       1507.55   4.10391e-08       47.5103     0.06084           1      134   \n",
      "Optimization terminated normally: \n",
      "  Convergence detected: relative gradient magnitude is below tolerance\n"
     ]
    },
    {
     "name": "stderr",
     "output_type": "stream",
     "text": [
      " 15%|█▌        | 18/118 [00:19<01:46,  1.07s/it]"
     ]
    },
    {
     "name": "stdout",
     "output_type": "stream",
     "text": [
      "Initial log joint probability = -14.894\n",
      "    Iter      log prob        ||dx||      ||grad||       alpha      alpha0  # evals  Notes \n",
      "      60       1567.71   0.000453476       82.5025   4.821e-06       0.001      123  LS failed, Hessian reset \n",
      "      99       1567.78    1.7557e-05       64.0309     0.05646           1      179   \n",
      "    Iter      log prob        ||dx||      ||grad||       alpha      alpha0  # evals  Notes \n",
      "     110       1567.78   1.78107e-05       67.6815   2.827e-07       0.001      233  LS failed, Hessian reset \n",
      "     148       1567.79   1.39749e-05       58.2751   1.722e-07       0.001      317  LS failed, Hessian reset \n",
      "     157       1567.79   6.72637e-07       53.3249   1.512e-08       0.001      369  LS failed, Hessian reset \n",
      "     163       1567.79   5.08139e-08       52.4418      0.3575      0.3575      376   \n",
      "Optimization terminated normally: \n",
      "  Convergence detected: relative gradient magnitude is below tolerance\n"
     ]
    },
    {
     "name": "stderr",
     "output_type": "stream",
     "text": [
      " 16%|█▌        | 19/118 [00:20<01:46,  1.08s/it]"
     ]
    },
    {
     "name": "stdout",
     "output_type": "stream",
     "text": [
      "Initial log joint probability = -19.5547\n",
      "    Iter      log prob        ||dx||      ||grad||       alpha      alpha0  # evals  Notes \n",
      "      52        1644.8    0.00101903       77.2292   1.347e-05       0.001      106  LS failed, Hessian reset \n",
      "      93       1644.83   6.75753e-06       61.7386   1.137e-07       0.001      202  LS failed, Hessian reset \n",
      "      99       1644.83   1.95155e-08       56.4584      0.1245      0.1245      209   \n",
      "    Iter      log prob        ||dx||      ||grad||       alpha      alpha0  # evals  Notes \n",
      "     108       1644.83    2.7237e-08       65.9637      0.2684       0.724      224   \n",
      "Optimization terminated normally: \n",
      "  Convergence detected: relative gradient magnitude is below tolerance\n"
     ]
    },
    {
     "name": "stderr",
     "output_type": "stream",
     "text": [
      " 17%|█▋        | 20/118 [00:21<01:45,  1.07s/it]"
     ]
    },
    {
     "name": "stdout",
     "output_type": "stream",
     "text": [
      "Initial log joint probability = -16.4579\n",
      "    Iter      log prob        ||dx||      ||grad||       alpha      alpha0  # evals  Notes \n",
      "      51       1703.75   0.000117712       57.5073   1.674e-06       0.001       99  LS failed, Hessian reset \n",
      "      69       1703.76   2.89088e-06       54.6421    4.25e-08       0.001      155  LS failed, Hessian reset \n",
      "      77       1703.76   2.68284e-08       50.2002      0.1497       0.919      166   \n",
      "Optimization terminated normally: \n",
      "  Convergence detected: relative gradient magnitude is below tolerance\n"
     ]
    },
    {
     "name": "stderr",
     "output_type": "stream",
     "text": [
      " 18%|█▊        | 21/118 [00:22<01:44,  1.08s/it]"
     ]
    },
    {
     "name": "stdout",
     "output_type": "stream",
     "text": [
      "Initial log joint probability = -19.6499\n",
      "    Iter      log prob        ||dx||      ||grad||       alpha      alpha0  # evals  Notes \n",
      "      60        1778.9   0.000413592       69.3733   6.574e-06       0.001      108  LS failed, Hessian reset \n",
      "      97       1778.93   1.98777e-05       64.9992    2.74e-07       0.001      211  LS failed, Hessian reset \n",
      "      99       1778.93   9.21002e-06       49.7089           1           1      213   \n",
      "    Iter      log prob        ||dx||      ||grad||       alpha      alpha0  # evals  Notes \n",
      "     149       1778.94   1.11267e-07       62.9265      0.6674      0.6674      284   \n",
      "Optimization terminated normally: \n",
      "  Convergence detected: relative gradient magnitude is below tolerance\n"
     ]
    },
    {
     "name": "stderr",
     "output_type": "stream",
     "text": [
      " 19%|█▊        | 22/118 [00:23<01:43,  1.08s/it]"
     ]
    },
    {
     "name": "stdout",
     "output_type": "stream",
     "text": [
      "Initial log joint probability = -16.0826\n",
      "    Iter      log prob        ||dx||      ||grad||       alpha      alpha0  # evals  Notes \n",
      "      42       1853.93    0.00087968       80.6446   1.121e-05       0.001      105  LS failed, Hessian reset \n",
      "      99        1854.1   0.000294606       54.6542      0.2969           1      177   \n",
      "    Iter      log prob        ||dx||      ||grad||       alpha      alpha0  # evals  Notes \n",
      "     175       1854.17   3.72757e-07        63.662   8.111e-09       0.001      315  LS failed, Hessian reset \n",
      "     179       1854.17   9.08202e-08       46.9734      0.5945      0.5945      319   \n",
      "Optimization terminated normally: \n",
      "  Convergence detected: relative gradient magnitude is below tolerance\n"
     ]
    },
    {
     "name": "stderr",
     "output_type": "stream",
     "text": [
      " 19%|█▉        | 23/118 [00:24<01:42,  1.08s/it]"
     ]
    },
    {
     "name": "stdout",
     "output_type": "stream",
     "text": [
      "Initial log joint probability = -20.5788\n",
      "    Iter      log prob        ||dx||      ||grad||       alpha      alpha0  # evals  Notes \n",
      "      62       1920.88    0.00102057       74.3891    1.18e-05       0.001      116  LS failed, Hessian reset \n",
      "      99       1920.93   4.67014e-07       66.0068      0.9717      0.9717      172   \n",
      "    Iter      log prob        ||dx||      ||grad||       alpha      alpha0  # evals  Notes \n",
      "     106       1920.93   7.18943e-08       67.4001      0.2441           1      182   \n",
      "Optimization terminated normally: \n",
      "  Convergence detected: relative gradient magnitude is below tolerance\n"
     ]
    },
    {
     "name": "stderr",
     "output_type": "stream",
     "text": [
      " 20%|██        | 24/118 [00:25<01:41,  1.07s/it]"
     ]
    },
    {
     "name": "stdout",
     "output_type": "stream",
     "text": [
      "Initial log joint probability = -18.7744\n",
      "    Iter      log prob        ||dx||      ||grad||       alpha      alpha0  # evals  Notes \n",
      "      83       1983.73   1.02237e-05       68.4282   1.599e-07       0.001      149  LS failed, Hessian reset \n",
      "      99       1983.73   1.02015e-07       58.3761      0.1728      0.6196      177   \n",
      "    Iter      log prob        ||dx||      ||grad||       alpha      alpha0  # evals  Notes \n",
      "     107       1983.73   3.07133e-08       67.9697      0.3281      0.3281      188   \n",
      "Optimization terminated normally: \n",
      "  Convergence detected: relative gradient magnitude is below tolerance\n"
     ]
    },
    {
     "name": "stderr",
     "output_type": "stream",
     "text": [
      " 21%|██        | 25/118 [00:26<01:39,  1.07s/it]"
     ]
    },
    {
     "name": "stdout",
     "output_type": "stream",
     "text": [
      "Initial log joint probability = -21.4552\n",
      "    Iter      log prob        ||dx||      ||grad||       alpha      alpha0  # evals  Notes \n",
      "      68       2049.28   0.000438853       96.6129   4.759e-06       0.001      120  LS failed, Hessian reset \n",
      "      99       2049.33   6.18521e-07       59.6559           1           1      169   \n",
      "    Iter      log prob        ||dx||      ||grad||       alpha      alpha0  # evals  Notes \n",
      "     107       2049.33   4.16989e-08       64.7245       0.231           1      181   \n",
      "Optimization terminated normally: \n",
      "  Convergence detected: relative gradient magnitude is below tolerance\n"
     ]
    },
    {
     "name": "stderr",
     "output_type": "stream",
     "text": [
      " 22%|██▏       | 26/118 [00:27<01:38,  1.07s/it]"
     ]
    },
    {
     "name": "stdout",
     "output_type": "stream",
     "text": [
      "Initial log joint probability = -18.0584\n",
      "    Iter      log prob        ||dx||      ||grad||       alpha      alpha0  # evals  Notes \n",
      "      99       2112.54   5.18572e-06       76.3131           1           1      140   \n",
      "    Iter      log prob        ||dx||      ||grad||       alpha      alpha0  # evals  Notes \n",
      "     104       2112.54   8.10872e-05       71.5322   1.206e-06       0.001      180  LS failed, Hessian reset \n",
      "     132       2112.55   2.38108e-07       65.4724           1           1      220   \n",
      "Optimization terminated normally: \n",
      "  Convergence detected: relative gradient magnitude is below tolerance\n"
     ]
    },
    {
     "name": "stderr",
     "output_type": "stream",
     "text": [
      " 23%|██▎       | 27/118 [00:28<01:37,  1.07s/it]"
     ]
    },
    {
     "name": "stdout",
     "output_type": "stream",
     "text": [
      "Initial log joint probability = -20.3906\n",
      "    Iter      log prob        ||dx||      ||grad||       alpha      alpha0  # evals  Notes \n",
      "      80       2177.51   1.96124e-05       80.8456   2.669e-07       0.001      143  LS failed, Hessian reset \n",
      "      99       2177.51    1.6172e-06       61.0135           1           1      168   \n",
      "    Iter      log prob        ||dx||      ||grad||       alpha      alpha0  # evals  Notes \n",
      "     122       2177.52   9.71677e-05       74.9321   1.086e-06       0.001      236  LS failed, Hessian reset \n",
      "     165       2177.54   3.65199e-05       54.9267   5.301e-07       0.001      333  LS failed, Hessian reset \n",
      "     182       2177.54   1.08916e-07        60.972      0.3582      0.3582      371   \n",
      "Optimization terminated normally: \n",
      "  Convergence detected: relative gradient magnitude is below tolerance\n"
     ]
    },
    {
     "name": "stderr",
     "output_type": "stream",
     "text": [
      " 24%|██▎       | 28/118 [00:29<01:38,  1.09s/it]"
     ]
    },
    {
     "name": "stdout",
     "output_type": "stream",
     "text": [
      "Initial log joint probability = -19.3966\n",
      "    Iter      log prob        ||dx||      ||grad||       alpha      alpha0  # evals  Notes \n",
      "      66       2246.64   0.000289442       77.8055   3.628e-06       0.001      136  LS failed, Hessian reset \n",
      "      82       2246.66   9.56616e-06       59.7939   1.605e-07       0.001      200  LS failed, Hessian reset \n",
      "      99       2246.67   1.93567e-05       72.9322       1.687       0.429      225   \n",
      "    Iter      log prob        ||dx||      ||grad||       alpha      alpha0  # evals  Notes \n",
      "     199       2246.74   0.000421618       68.9235           1           1      365   \n",
      "    Iter      log prob        ||dx||      ||grad||       alpha      alpha0  # evals  Notes \n",
      "     200       2246.74     3.952e-05       68.8694   5.734e-07       0.001      407  LS failed, Hessian reset \n",
      "     247       2246.74   4.89577e-07       50.9738   7.081e-09       0.001      504  LS failed, Hessian reset \n",
      "     258       2246.74   2.45219e-07       64.5103      0.3399      0.3399      523   \n",
      "Optimization terminated normally: \n",
      "  Convergence detected: relative gradient magnitude is below tolerance\n"
     ]
    },
    {
     "name": "stderr",
     "output_type": "stream",
     "text": [
      " 25%|██▍       | 29/118 [00:31<01:39,  1.12s/it]"
     ]
    },
    {
     "name": "stdout",
     "output_type": "stream",
     "text": [
      "Initial log joint probability = -23.6729\n",
      "    Iter      log prob        ||dx||      ||grad||       alpha      alpha0  # evals  Notes \n",
      "      58        2318.3   0.000393755       80.1656   2.789e-06       0.001      105  LS failed, Hessian reset \n",
      "      99       2318.47   4.56446e-05       63.5677       0.366           1      165   \n",
      "    Iter      log prob        ||dx||      ||grad||       alpha      alpha0  # evals  Notes \n",
      "     199       2318.58   1.45719e-05       57.7112      0.3196           1      308   \n",
      "    Iter      log prob        ||dx||      ||grad||       alpha      alpha0  # evals  Notes \n",
      "     228       2318.68   0.000185613       66.4957    3.76e-06       0.001      416  LS failed, Hessian reset \n",
      "     253       2318.69   1.35063e-05       72.8073   2.604e-07       0.001      498  LS failed, Hessian reset \n",
      "     269       2318.69   8.80605e-08        58.772      0.3098           1      528   \n",
      "Optimization terminated normally: \n",
      "  Convergence detected: relative gradient magnitude is below tolerance\n"
     ]
    },
    {
     "name": "stderr",
     "output_type": "stream",
     "text": [
      " 25%|██▌       | 30/118 [00:32<01:41,  1.16s/it]"
     ]
    },
    {
     "name": "stdout",
     "output_type": "stream",
     "text": [
      "Initial log joint probability = -22.5329\n",
      "    Iter      log prob        ||dx||      ||grad||       alpha      alpha0  # evals  Notes \n",
      "      99       2385.31   3.03732e-07       56.8714      0.1804           1      146   \n",
      "    Iter      log prob        ||dx||      ||grad||       alpha      alpha0  # evals  Notes \n",
      "     107       2385.31    1.4813e-05       65.1035   1.776e-07       0.001      194  LS failed, Hessian reset \n",
      "     140       2385.32   3.91772e-05        87.518   6.177e-07       0.001      279  LS failed, Hessian reset \n",
      "     184       2385.33   3.87027e-05       68.1708   4.083e-07       0.001      380  LS failed, Hessian reset \n",
      "     199       2385.33   2.78321e-06       64.9935     0.06143           1      400   \n",
      "    Iter      log prob        ||dx||      ||grad||       alpha      alpha0  # evals  Notes \n",
      "     230       2385.33   7.44366e-06       76.1475   9.673e-08       0.001      477  LS failed, Hessian reset \n",
      "     275       2385.33   1.52783e-07       62.8425      0.7402      0.7402      532   \n",
      "Optimization terminated normally: \n",
      "  Convergence detected: relative gradient magnitude is below tolerance\n"
     ]
    },
    {
     "name": "stderr",
     "output_type": "stream",
     "text": [
      " 26%|██▋       | 31/118 [00:33<01:43,  1.18s/it]"
     ]
    },
    {
     "name": "stdout",
     "output_type": "stream",
     "text": [
      "Initial log joint probability = -24.7284\n",
      "    Iter      log prob        ||dx||      ||grad||       alpha      alpha0  # evals  Notes \n",
      "      99       2461.64   4.52805e-06         76.04      0.2867           1      134   \n",
      "    Iter      log prob        ||dx||      ||grad||       alpha      alpha0  # evals  Notes \n",
      "     116       2461.64   9.34627e-08       74.9126      0.3748      0.3748      156   \n",
      "Optimization terminated normally: \n",
      "  Convergence detected: relative gradient magnitude is below tolerance\n"
     ]
    },
    {
     "name": "stderr",
     "output_type": "stream",
     "text": [
      " 27%|██▋       | 32/118 [00:34<01:38,  1.15s/it]"
     ]
    },
    {
     "name": "stdout",
     "output_type": "stream",
     "text": [
      "Initial log joint probability = -19.8385\n",
      "    Iter      log prob        ||dx||      ||grad||       alpha      alpha0  # evals  Notes \n",
      "      99       2521.38   0.000726997       82.1955           1           1      130   \n",
      "    Iter      log prob        ||dx||      ||grad||       alpha      alpha0  # evals  Notes \n",
      "     108       2521.48   0.000574389       60.8588   7.435e-06       0.001      176  LS failed, Hessian reset \n",
      "     146       2521.52    3.8938e-06       82.1453   5.819e-08       0.001      270  LS failed, Hessian reset \n",
      "     160       2521.52   1.10902e-07       59.8156      0.1831      0.7231      287   \n",
      "Optimization terminated normally: \n",
      "  Convergence detected: relative gradient magnitude is below tolerance\n"
     ]
    },
    {
     "name": "stderr",
     "output_type": "stream",
     "text": [
      " 28%|██▊       | 33/118 [00:35<01:36,  1.14s/it]"
     ]
    },
    {
     "name": "stdout",
     "output_type": "stream",
     "text": [
      "Initial log joint probability = -24.0293\n",
      "    Iter      log prob        ||dx||      ||grad||       alpha      alpha0  # evals  Notes \n",
      "      61       2601.05    0.00124935       90.2374   1.622e-05       0.001      117  LS failed, Hessian reset \n",
      "      99       2601.14   7.54067e-06        79.802      0.2295      0.7258      170   \n",
      "    Iter      log prob        ||dx||      ||grad||       alpha      alpha0  # evals  Notes \n",
      "     107       2601.15   0.000108988       83.8209   1.267e-06       0.001      232  LS failed, Hessian reset \n",
      "     134       2601.16   1.36446e-07       73.9131           1           1      274   \n",
      "Optimization terminated normally: \n",
      "  Convergence detected: relative gradient magnitude is below tolerance\n"
     ]
    },
    {
     "name": "stderr",
     "output_type": "stream",
     "text": [
      " 29%|██▉       | 34/118 [00:36<01:35,  1.13s/it]"
     ]
    },
    {
     "name": "stdout",
     "output_type": "stream",
     "text": [
      "Initial log joint probability = -25.3385\n",
      "    Iter      log prob        ||dx||      ||grad||       alpha      alpha0  # evals  Notes \n",
      "      99        2660.5   7.38982e-06       70.8669      0.1898           1      139   \n",
      "    Iter      log prob        ||dx||      ||grad||       alpha      alpha0  # evals  Notes \n",
      "     134        2660.5    2.2394e-07       71.1398           1           1      183   \n",
      "Optimization terminated normally: \n",
      "  Convergence detected: relative gradient magnitude is below tolerance\n"
     ]
    },
    {
     "name": "stderr",
     "output_type": "stream",
     "text": [
      " 30%|██▉       | 35/118 [00:37<01:32,  1.11s/it]"
     ]
    },
    {
     "name": "stdout",
     "output_type": "stream",
     "text": [
      "Initial log joint probability = -25.5324\n",
      "    Iter      log prob        ||dx||      ||grad||       alpha      alpha0  # evals  Notes \n",
      "      83       2730.85   0.000928239       114.263   1.098e-05       0.001      149  LS failed, Hessian reset \n",
      "      99       2730.93   2.47022e-05       73.0401      0.3994           1      170   \n",
      "    Iter      log prob        ||dx||      ||grad||       alpha      alpha0  # evals  Notes \n",
      "     134       2730.93   2.62228e-07       67.4832      0.1731           1      217   \n",
      "Optimization terminated normally: \n",
      "  Convergence detected: relative gradient magnitude is below tolerance\n"
     ]
    },
    {
     "name": "stderr",
     "output_type": "stream",
     "text": [
      " 31%|███       | 36/118 [00:39<01:30,  1.10s/it]"
     ]
    },
    {
     "name": "stdout",
     "output_type": "stream",
     "text": [
      "Initial log joint probability = -21.3364\n",
      "    Iter      log prob        ||dx||      ||grad||       alpha      alpha0  # evals  Notes \n",
      "      99       2786.73   2.92084e-05       64.4556      0.4871      0.4871      123   \n",
      "    Iter      log prob        ||dx||      ||grad||       alpha      alpha0  # evals  Notes \n",
      "     199       2786.81   3.20001e-06       55.9146      0.5272      0.5272      258   \n",
      "    Iter      log prob        ||dx||      ||grad||       alpha      alpha0  # evals  Notes \n",
      "     229       2786.81   6.16487e-08       52.3162      0.4233      0.4233      295   \n",
      "Optimization terminated normally: \n",
      "  Convergence detected: relative gradient magnitude is below tolerance\n"
     ]
    },
    {
     "name": "stderr",
     "output_type": "stream",
     "text": [
      " 31%|███▏      | 37/118 [00:40<01:30,  1.11s/it]"
     ]
    },
    {
     "name": "stdout",
     "output_type": "stream",
     "text": [
      "Initial log joint probability = -26.2322\n",
      "    Iter      log prob        ||dx||      ||grad||       alpha      alpha0  # evals  Notes \n",
      "      63       2858.62     0.0010694       192.665   1.402e-05       0.001      123  LS failed, Hessian reset \n",
      "      99       2858.75   0.000278815       69.2929      0.3457           1      171   \n",
      "    Iter      log prob        ||dx||      ||grad||       alpha      alpha0  # evals  Notes \n",
      "     152       2858.77   3.76253e-06       56.1666   5.766e-08       0.001      296  LS failed, Hessian reset \n",
      "     199       2858.77   8.86882e-07       67.4337      0.6894      0.6894      363   \n",
      "    Iter      log prob        ||dx||      ||grad||       alpha      alpha0  # evals  Notes \n",
      "     261       2858.94   0.000158341       64.7109   1.563e-06       0.001      496  LS failed, Hessian reset \n",
      "     299       2858.95   1.56235e-06       80.6449      0.3478           1      545   \n",
      "    Iter      log prob        ||dx||      ||grad||       alpha      alpha0  # evals  Notes \n",
      "     399       2858.99   5.11285e-06       72.2562      0.1912      0.5134      679   \n",
      "    Iter      log prob        ||dx||      ||grad||       alpha      alpha0  # evals  Notes \n",
      "     409       2858.99   2.66387e-07       55.8526       0.338           1      696   \n",
      "Optimization terminated normally: \n",
      "  Convergence detected: relative gradient magnitude is below tolerance\n"
     ]
    },
    {
     "name": "stderr",
     "output_type": "stream",
     "text": [
      " 32%|███▏      | 38/118 [00:41<01:34,  1.18s/it]"
     ]
    },
    {
     "name": "stdout",
     "output_type": "stream",
     "text": [
      "Initial log joint probability = -21.9238\n",
      "    Iter      log prob        ||dx||      ||grad||       alpha      alpha0  # evals  Notes \n",
      "      91          2930   0.000342049       62.5483   4.516e-06       0.001      168  LS failed, Hessian reset \n",
      "      99       2930.01   2.63805e-05       70.7972      0.3158           1      179   \n",
      "    Iter      log prob        ||dx||      ||grad||       alpha      alpha0  # evals  Notes \n",
      "     144       2930.07   7.51913e-07       47.6138       0.265      0.8119      236   \n",
      "Optimization terminated normally: \n",
      "  Convergence detected: relative gradient magnitude is below tolerance\n"
     ]
    },
    {
     "name": "stderr",
     "output_type": "stream",
     "text": [
      " 33%|███▎      | 39/118 [00:42<01:31,  1.15s/it]"
     ]
    },
    {
     "name": "stdout",
     "output_type": "stream",
     "text": [
      "Initial log joint probability = -27.0521\n",
      "    Iter      log prob        ||dx||      ||grad||       alpha      alpha0  # evals  Notes \n",
      "      42       2997.55    0.00115083       59.6637   2.122e-05       0.001       94  LS failed, Hessian reset \n",
      "      99       2998.84   7.99385e-05       52.6709      0.2789      0.2789      173   \n",
      "    Iter      log prob        ||dx||      ||grad||       alpha      alpha0  # evals  Notes \n",
      "     199       2999.11    0.00123758       78.7285           1           1      305   \n",
      "    Iter      log prob        ||dx||      ||grad||       alpha      alpha0  # evals  Notes \n",
      "     245       2999.21   0.000141642       65.3734   1.752e-06       0.001      399  LS failed, Hessian reset \n",
      "     285       2999.23   5.61978e-06       69.0807   9.364e-08       0.001      498  LS failed, Hessian reset \n",
      "     295       2999.23   1.15337e-07       58.8211      0.2417           1      514   \n",
      "Optimization terminated normally: \n",
      "  Convergence detected: relative gradient magnitude is below tolerance\n"
     ]
    },
    {
     "name": "stderr",
     "output_type": "stream",
     "text": [
      " 34%|███▍      | 40/118 [00:43<01:32,  1.18s/it]"
     ]
    },
    {
     "name": "stdout",
     "output_type": "stream",
     "text": [
      "Initial log joint probability = -25.1207\n",
      "    Iter      log prob        ||dx||      ||grad||       alpha      alpha0  # evals  Notes \n",
      "      99       3075.05   5.62699e-06       64.7097           1           1      124   \n",
      "    Iter      log prob        ||dx||      ||grad||       alpha      alpha0  # evals  Notes \n",
      "     199       3075.39   2.03697e-05       71.3181      0.8676      0.8676      251   \n",
      "    Iter      log prob        ||dx||      ||grad||       alpha      alpha0  # evals  Notes \n",
      "     216       3075.39   1.13061e-07       66.2241      0.1602      0.6292      273   \n",
      "Optimization terminated normally: \n",
      "  Convergence detected: relative gradient magnitude is below tolerance\n"
     ]
    },
    {
     "name": "stderr",
     "output_type": "stream",
     "text": [
      " 35%|███▍      | 41/118 [00:45<01:29,  1.17s/it]"
     ]
    },
    {
     "name": "stdout",
     "output_type": "stream",
     "text": [
      "Initial log joint probability = -27.5656\n",
      "    Iter      log prob        ||dx||      ||grad||       alpha      alpha0  # evals  Notes \n",
      "      99       3153.14   6.10656e-06       51.1058     0.03852           1      137   \n",
      "    Iter      log prob        ||dx||      ||grad||       alpha      alpha0  # evals  Notes \n",
      "     161       3153.43   0.000307721       62.5766   3.579e-06       0.001      272  LS failed, Hessian reset \n",
      "     199       3153.45   2.74425e-06       76.7736      0.2573           1      325   \n",
      "    Iter      log prob        ||dx||      ||grad||       alpha      alpha0  # evals  Notes \n",
      "     231       3153.46   2.76922e-05       55.1592    3.38e-07       0.001      393  LS failed, Hessian reset \n",
      "     262       3153.46    4.9543e-07       74.7936   6.103e-09       0.001      478  LS failed, Hessian reset \n",
      "     267       3153.46    1.0761e-07       53.3489      0.2808           1      486   \n",
      "Optimization terminated normally: \n",
      "  Convergence detected: relative gradient magnitude is below tolerance\n"
     ]
    },
    {
     "name": "stderr",
     "output_type": "stream",
     "text": [
      " 36%|███▌      | 42/118 [00:50<03:13,  2.54s/it]"
     ]
    },
    {
     "name": "stdout",
     "output_type": "stream",
     "text": [
      "Initial log joint probability = -23.7966\n",
      "    Iter      log prob        ||dx||      ||grad||       alpha      alpha0  # evals  Notes \n",
      "      84       3230.38   0.000504784       78.6918   7.645e-06       0.001      156  LS failed, Hessian reset \n",
      "      99        3230.4   2.44936e-06       53.7498      0.1958      0.1958      177   \n",
      "    Iter      log prob        ||dx||      ||grad||       alpha      alpha0  # evals  Notes \n",
      "     151       3230.62   0.000185777       71.0373   2.062e-06       0.001      291  LS failed, Hessian reset \n",
      "     193        3230.7   0.000353502       80.0779   4.249e-06       0.001      375  LS failed, Hessian reset \n",
      "     199       3230.71   4.05366e-05       56.1842           1           1      384   \n",
      "    Iter      log prob        ||dx||      ||grad||       alpha      alpha0  # evals  Notes \n",
      "     242       3230.71   3.30052e-07       53.6401           1           1      452   \n",
      "Optimization terminated normally: \n",
      "  Convergence detected: relative gradient magnitude is below tolerance\n"
     ]
    },
    {
     "name": "stderr",
     "output_type": "stream",
     "text": [
      " 36%|███▋      | 43/118 [00:52<02:44,  2.19s/it]"
     ]
    },
    {
     "name": "stdout",
     "output_type": "stream",
     "text": [
      "Initial log joint probability = -27.7823\n",
      "    Iter      log prob        ||dx||      ||grad||       alpha      alpha0  # evals  Notes \n",
      "      99       3302.28   0.000130389       58.2166           1           1      140   \n",
      "    Iter      log prob        ||dx||      ||grad||       alpha      alpha0  # evals  Notes \n",
      "     121       3302.37   0.000454322       64.3201   6.515e-06       0.001      216  LS failed, Hessian reset \n",
      "     159       3302.39   1.31904e-07       56.8923      0.2007           1      281   \n",
      "Optimization terminated normally: \n",
      "  Convergence detected: relative gradient magnitude is below tolerance\n"
     ]
    },
    {
     "name": "stderr",
     "output_type": "stream",
     "text": [
      " 37%|███▋      | 44/118 [00:53<02:19,  1.88s/it]"
     ]
    },
    {
     "name": "stdout",
     "output_type": "stream",
     "text": [
      "Initial log joint probability = -25.2821\n",
      "    Iter      log prob        ||dx||      ||grad||       alpha      alpha0  # evals  Notes \n",
      "      91       3373.78   0.000626134       100.152   9.804e-06       0.001      158  LS failed, Hessian reset \n",
      "      99       3373.88   0.000107324       65.2002           1           1      171   \n",
      "    Iter      log prob        ||dx||      ||grad||       alpha      alpha0  # evals  Notes \n",
      "     199       3374.03   8.73708e-05       50.1851      0.4809      0.9099      302   \n",
      "    Iter      log prob        ||dx||      ||grad||       alpha      alpha0  # evals  Notes \n",
      "     200       3374.03   8.67818e-06       42.9568   1.729e-07       0.001      335  LS failed, Hessian reset \n",
      "     225       3374.03   4.44685e-07       50.0394      0.3698           1      374   \n",
      "Optimization terminated normally: \n",
      "  Convergence detected: relative gradient magnitude is below tolerance\n"
     ]
    },
    {
     "name": "stderr",
     "output_type": "stream",
     "text": [
      " 38%|███▊      | 45/118 [00:54<02:02,  1.67s/it]"
     ]
    },
    {
     "name": "stdout",
     "output_type": "stream",
     "text": [
      "Initial log joint probability = -28.7416\n",
      "    Iter      log prob        ||dx||      ||grad||       alpha      alpha0  # evals  Notes \n",
      "      99       3453.57   0.000132524       68.7569   2.356e-06       0.001      170  LS failed, Hessian reset \n",
      "    Iter      log prob        ||dx||      ||grad||       alpha      alpha0  # evals  Notes \n",
      "     199       3453.95   7.60722e-05       73.0349           1           1      303   \n",
      "    Iter      log prob        ||dx||      ||grad||       alpha      alpha0  # evals  Notes \n",
      "     210       3453.98   0.000142317       77.7335   1.806e-06       0.001      366  LS failed, Hessian reset \n",
      "     240       3453.99   7.63136e-06       59.8419     1.1e-07       0.001      443  LS failed, Hessian reset \n",
      "     259       3453.99   1.92815e-07       48.1112      0.6379      0.6379      469   \n",
      "Optimization terminated normally: \n",
      "  Convergence detected: relative gradient magnitude is below tolerance\n"
     ]
    },
    {
     "name": "stderr",
     "output_type": "stream",
     "text": [
      " 39%|███▉      | 46/118 [00:55<01:51,  1.55s/it]"
     ]
    },
    {
     "name": "stdout",
     "output_type": "stream",
     "text": [
      "Initial log joint probability = -23.5464\n",
      "    Iter      log prob        ||dx||      ||grad||       alpha      alpha0  # evals  Notes \n",
      "      99       3532.41   1.41445e-05       46.4971           1           1      136   \n",
      "    Iter      log prob        ||dx||      ||grad||       alpha      alpha0  # evals  Notes \n",
      "     129       3532.43   8.73007e-05       60.7511   1.188e-06       0.001      204  LS failed, Hessian reset \n",
      "     165       3532.44   1.97535e-07       51.8966      0.3048           1      250   \n",
      "Optimization terminated normally: \n",
      "  Convergence detected: relative gradient magnitude is below tolerance\n"
     ]
    },
    {
     "name": "stderr",
     "output_type": "stream",
     "text": [
      " 40%|███▉      | 47/118 [00:56<01:41,  1.43s/it]"
     ]
    },
    {
     "name": "stdout",
     "output_type": "stream",
     "text": [
      "Initial log joint probability = -28.6806\n",
      "    Iter      log prob        ||dx||      ||grad||       alpha      alpha0  # evals  Notes \n",
      "      68       3611.64   0.000303367       108.907    2.18e-06       0.001      133  LS failed, Hessian reset \n",
      "      99       3612.06   4.02963e-06       59.1551      0.2724           1      183   \n",
      "    Iter      log prob        ||dx||      ||grad||       alpha      alpha0  # evals  Notes \n",
      "     144       3612.26    0.00161751       107.246   2.058e-05       0.001      304  LS failed, Hessian reset \n",
      "     199       3612.34   2.79316e-05        82.095      0.9194      0.9194      385   \n",
      "    Iter      log prob        ||dx||      ||grad||       alpha      alpha0  # evals  Notes \n",
      "     202       3612.34   3.20119e-05       53.4102   4.825e-07       0.001      423  LS failed, Hessian reset \n",
      "     217       3612.34   3.95871e-07       51.7504   7.573e-09       0.001      479  LS failed, Hessian reset \n",
      "Optimization terminated normally: \n",
      "  Convergence detected: relative gradient magnitude is below tolerance\n"
     ]
    },
    {
     "name": "stderr",
     "output_type": "stream",
     "text": [
      " 41%|████      | 48/118 [00:58<01:36,  1.38s/it]"
     ]
    },
    {
     "name": "stdout",
     "output_type": "stream",
     "text": [
      "Initial log joint probability = -24.4691\n",
      "    Iter      log prob        ||dx||      ||grad||       alpha      alpha0  # evals  Notes \n",
      "      99       3679.29   0.000201258       74.4638      0.8784      0.8784      133   \n",
      "    Iter      log prob        ||dx||      ||grad||       alpha      alpha0  # evals  Notes \n",
      "     112       3679.49   0.000300213       125.702    2.94e-06       0.001      195  LS failed, Hessian reset \n",
      "     185        3679.6   2.89412e-05       73.4857   4.577e-07       0.001      327  LS failed, Hessian reset \n",
      "     199        3679.6   3.58329e-07       58.1908           1           1      349   \n",
      "    Iter      log prob        ||dx||      ||grad||       alpha      alpha0  # evals  Notes \n",
      "     220        3679.6   9.74237e-08       81.3012      0.3423      0.3423      372   \n",
      "Optimization terminated normally: \n",
      "  Convergence detected: relative gradient magnitude is below tolerance\n"
     ]
    },
    {
     "name": "stderr",
     "output_type": "stream",
     "text": [
      " 42%|████▏     | 49/118 [00:59<01:31,  1.33s/it]"
     ]
    },
    {
     "name": "stdout",
     "output_type": "stream",
     "text": [
      "Initial log joint probability = -29.5442\n",
      "    Iter      log prob        ||dx||      ||grad||       alpha      alpha0  # evals  Notes \n",
      "      76       3758.36    0.00232566       123.513   2.688e-05       0.001      131  LS failed, Hessian reset \n",
      "      99       3758.93   0.000402979       56.8608           1           1      159   \n",
      "    Iter      log prob        ||dx||      ||grad||       alpha      alpha0  # evals  Notes \n",
      "     118       3758.95   6.17806e-05       75.0883   9.722e-07       0.001      228  LS failed, Hessian reset \n",
      "     136       3758.96   3.51324e-07       52.1133      0.1649           1      250   \n",
      "Optimization terminated normally: \n",
      "  Convergence detected: relative gradient magnitude is below tolerance\n"
     ]
    },
    {
     "name": "stderr",
     "output_type": "stream",
     "text": [
      " 42%|████▏     | 50/118 [01:00<01:26,  1.27s/it]"
     ]
    },
    {
     "name": "stdout",
     "output_type": "stream",
     "text": [
      "Initial log joint probability = -25.9155\n",
      "    Iter      log prob        ||dx||      ||grad||       alpha      alpha0  # evals  Notes \n",
      "      99        3839.1    0.00182463       70.1827           1           1      127   \n",
      "    Iter      log prob        ||dx||      ||grad||       alpha      alpha0  # evals  Notes \n",
      "     101       3839.12   0.000327774         100.9   4.811e-06       0.001      183  LS failed, Hessian reset \n",
      "     199       3839.19   0.000348211       70.0465           1           1      308   \n",
      "    Iter      log prob        ||dx||      ||grad||       alpha      alpha0  # evals  Notes \n",
      "     299       3839.27   2.72116e-05        67.489           1           1      432   \n",
      "    Iter      log prob        ||dx||      ||grad||       alpha      alpha0  # evals  Notes \n",
      "     380       3839.31   8.62284e-07       56.6312      0.2503           1      539   \n",
      "Optimization terminated normally: \n",
      "  Convergence detected: relative gradient magnitude is below tolerance\n"
     ]
    },
    {
     "name": "stderr",
     "output_type": "stream",
     "text": [
      " 43%|████▎     | 51/118 [01:01<01:26,  1.29s/it]"
     ]
    },
    {
     "name": "stdout",
     "output_type": "stream",
     "text": [
      "Initial log joint probability = -28.1754\n",
      "    Iter      log prob        ||dx||      ||grad||       alpha      alpha0  # evals  Notes \n",
      "      99       3921.61   7.36762e-05       57.9902      0.3293      0.3293      129   \n",
      "    Iter      log prob        ||dx||      ||grad||       alpha      alpha0  # evals  Notes \n",
      "     130       3921.62   3.02615e-07       52.7038      0.2142      0.7207      178   \n",
      "Optimization terminated normally: \n",
      "  Convergence detected: relative gradient magnitude is below tolerance\n"
     ]
    },
    {
     "name": "stderr",
     "output_type": "stream",
     "text": [
      " 44%|████▍     | 52/118 [01:02<01:22,  1.24s/it]"
     ]
    },
    {
     "name": "stdout",
     "output_type": "stream",
     "text": [
      "Initial log joint probability = -24.9333\n",
      "    Iter      log prob        ||dx||      ||grad||       alpha      alpha0  # evals  Notes \n",
      "      79       3994.61   0.000835362       147.557    1.08e-05       0.001      147  LS failed, Hessian reset \n",
      "      99       3994.72   0.000113553       64.3363           1           1      174   \n",
      "    Iter      log prob        ||dx||      ||grad||       alpha      alpha0  # evals  Notes \n",
      "     191       3995.16   0.000276137       119.388   3.749e-06       0.001      367  LS failed, Hessian reset \n",
      "     199       3995.18   0.000310912       95.4416           1           1      376   \n",
      "    Iter      log prob        ||dx||      ||grad||       alpha      alpha0  # evals  Notes \n",
      "     237       3995.23   8.20462e-05       61.8659   1.026e-06       0.001      470  LS failed, Hessian reset \n",
      "     265       3995.23    3.6443e-07       74.0998           1           1      515   \n",
      "Optimization terminated normally: \n",
      "  Convergence detected: relative gradient magnitude is below tolerance\n"
     ]
    },
    {
     "name": "stderr",
     "output_type": "stream",
     "text": [
      " 45%|████▍     | 53/118 [01:04<01:22,  1.27s/it]"
     ]
    },
    {
     "name": "stdout",
     "output_type": "stream",
     "text": [
      "Initial log joint probability = -28.9914\n",
      "    Iter      log prob        ||dx||      ||grad||       alpha      alpha0  # evals  Notes \n",
      "      99       4067.11   0.000120957       55.1273           1           1      125   \n",
      "    Iter      log prob        ||dx||      ||grad||       alpha      alpha0  # evals  Notes \n",
      "     191       4067.46   0.000186358       87.3999   2.204e-06       0.001      280  LS failed, Hessian reset \n",
      "     199       4067.47   1.65369e-05       68.3136           1           1      292   \n",
      "    Iter      log prob        ||dx||      ||grad||       alpha      alpha0  # evals  Notes \n",
      "     210       4067.51   0.000153532       86.7017   1.751e-06       0.001      344  LS failed, Hessian reset \n",
      "     252       4067.54   3.00305e-07       63.0373      0.1936           1      400   \n",
      "Optimization terminated normally: \n",
      "  Convergence detected: relative gradient magnitude is below tolerance\n"
     ]
    },
    {
     "name": "stderr",
     "output_type": "stream",
     "text": [
      " 46%|████▌     | 54/118 [01:05<01:21,  1.27s/it]"
     ]
    },
    {
     "name": "stdout",
     "output_type": "stream",
     "text": [
      "Initial log joint probability = -25.9923\n",
      "    Iter      log prob        ||dx||      ||grad||       alpha      alpha0  # evals  Notes \n",
      "      99       4147.28   0.000204843       90.9555      0.3353           1      132   \n",
      "    Iter      log prob        ||dx||      ||grad||       alpha      alpha0  # evals  Notes \n",
      "     195       4147.76   1.08421e-06       57.9473   1.701e-08       0.001      313  LS failed, Hessian reset \n",
      "     197       4147.76   3.96678e-07       58.7988      0.1992           1      316   \n",
      "Optimization terminated normally: \n",
      "  Convergence detected: relative gradient magnitude is below tolerance\n"
     ]
    },
    {
     "name": "stderr",
     "output_type": "stream",
     "text": [
      " 47%|████▋     | 55/118 [01:06<01:18,  1.25s/it]"
     ]
    },
    {
     "name": "stdout",
     "output_type": "stream",
     "text": [
      "Initial log joint probability = -30.3865\n",
      "    Iter      log prob        ||dx||      ||grad||       alpha      alpha0  # evals  Notes \n",
      "      99       4230.31   0.000702078       73.2571      0.6895      0.6895      116   \n",
      "    Iter      log prob        ||dx||      ||grad||       alpha      alpha0  # evals  Notes \n",
      "     158       4230.39    1.5572e-05        67.938   1.879e-07       0.001      243  LS failed, Hessian reset \n",
      "     184       4230.39   3.04747e-07       80.6229      0.9118      0.9118      276   \n",
      "Optimization terminated normally: \n",
      "  Convergence detected: relative gradient magnitude is below tolerance\n"
     ]
    },
    {
     "name": "stderr",
     "output_type": "stream",
     "text": [
      " 47%|████▋     | 56/118 [01:07<01:16,  1.23s/it]"
     ]
    },
    {
     "name": "stdout",
     "output_type": "stream",
     "text": [
      "Initial log joint probability = -25.8536\n",
      "    Iter      log prob        ||dx||      ||grad||       alpha      alpha0  # evals  Notes \n",
      "      86       4311.62   0.000205494       78.8446   2.445e-06       0.001      144  LS failed, Hessian reset \n",
      "      99       4311.66   6.12015e-05       55.8199      0.7956      0.7956      163   \n",
      "    Iter      log prob        ||dx||      ||grad||       alpha      alpha0  # evals  Notes \n",
      "     116       4311.67   4.53361e-05        78.464   5.886e-07       0.001      223  LS failed, Hessian reset \n",
      "     142       4311.67   1.85076e-07       69.3467      0.4806      0.4806      259   \n",
      "Optimization terminated normally: \n",
      "  Convergence detected: relative gradient magnitude is below tolerance\n"
     ]
    },
    {
     "name": "stderr",
     "output_type": "stream",
     "text": [
      " 48%|████▊     | 57/118 [01:09<01:14,  1.22s/it]"
     ]
    },
    {
     "name": "stdout",
     "output_type": "stream",
     "text": [
      "Initial log joint probability = -30.5472\n",
      "    Iter      log prob        ||dx||      ||grad||       alpha      alpha0  # evals  Notes \n",
      "      99       4385.65   0.000297265        42.167           1           1      122   \n",
      "    Iter      log prob        ||dx||      ||grad||       alpha      alpha0  # evals  Notes \n",
      "     154       4385.85   0.000237973       89.0705   3.116e-06       0.001      223  LS failed, Hessian reset \n",
      "     199       4385.93     2.933e-06       47.6299      0.7849      0.7849      281   \n",
      "    Iter      log prob        ||dx||      ||grad||       alpha      alpha0  # evals  Notes \n",
      "     212       4385.94   2.54801e-05       72.0264   3.436e-07       0.001      327  LS failed, Hessian reset \n",
      "     224       4385.94   1.04489e-07       55.8476      0.2906      0.9662      344   \n",
      "Optimization terminated normally: \n",
      "  Convergence detected: relative gradient magnitude is below tolerance\n"
     ]
    },
    {
     "name": "stderr",
     "output_type": "stream",
     "text": [
      " 49%|████▉     | 58/118 [01:10<01:13,  1.22s/it]"
     ]
    },
    {
     "name": "stdout",
     "output_type": "stream",
     "text": [
      "Initial log joint probability = -29.3733\n",
      "    Iter      log prob        ||dx||      ||grad||       alpha      alpha0  # evals  Notes \n",
      "      99       4454.41   0.000473033       54.2467      0.8419      0.8419      125   \n",
      "    Iter      log prob        ||dx||      ||grad||       alpha      alpha0  # evals  Notes \n",
      "     191       4454.92   0.000168802       52.3993   3.985e-06       0.001      284  LS failed, Hessian reset \n",
      "     199       4454.94   4.17075e-05       53.3897      0.2892           1      296   \n",
      "    Iter      log prob        ||dx||      ||grad||       alpha      alpha0  # evals  Notes \n",
      "     271       4455.03   4.77221e-07       53.9832      0.8883      0.8883      394   \n",
      "Optimization terminated normally: \n",
      "  Convergence detected: relative gradient magnitude is below tolerance\n"
     ]
    },
    {
     "name": "stderr",
     "output_type": "stream",
     "text": [
      " 50%|█████     | 59/118 [01:11<01:13,  1.24s/it]"
     ]
    },
    {
     "name": "stdout",
     "output_type": "stream",
     "text": [
      "Initial log joint probability = -30.8273\n",
      "    Iter      log prob        ||dx||      ||grad||       alpha      alpha0  # evals  Notes \n",
      "      99       4530.29    0.00282456       210.584      0.8629      0.8629      116   \n",
      "    Iter      log prob        ||dx||      ||grad||       alpha      alpha0  # evals  Notes \n",
      "     199       4531.38   1.05061e-05       79.3712           1           1      238   \n",
      "    Iter      log prob        ||dx||      ||grad||       alpha      alpha0  # evals  Notes \n",
      "     298       4531.61   3.03732e-07       71.1721      0.2944           1      365   \n",
      "Optimization terminated normally: \n",
      "  Convergence detected: relative gradient magnitude is below tolerance\n"
     ]
    },
    {
     "name": "stderr",
     "output_type": "stream",
     "text": [
      " 51%|█████     | 60/118 [01:12<01:12,  1.25s/it]"
     ]
    },
    {
     "name": "stdout",
     "output_type": "stream",
     "text": [
      "Initial log joint probability = -26.6349\n",
      "    Iter      log prob        ||dx||      ||grad||       alpha      alpha0  # evals  Notes \n",
      "      99       4597.58   1.81061e-05        54.304       0.708       0.708      126   \n",
      "    Iter      log prob        ||dx||      ||grad||       alpha      alpha0  # evals  Notes \n",
      "     120        4597.7    0.00031089       152.268   2.679e-06       0.001      191  LS failed, Hessian reset \n",
      "     130       4597.75   7.28082e-06       61.3958   1.699e-07       0.001      237  LS failed, Hessian reset \n",
      "     199       4597.85   0.000461908       89.5636           1           1      324   \n",
      "    Iter      log prob        ||dx||      ||grad||       alpha      alpha0  # evals  Notes \n",
      "     210          4598   0.000203915       97.6137   2.919e-06       0.001      402  LS failed, Hessian reset \n",
      "     299       4598.11   2.02084e-07       65.7495     0.02726      0.9195      515   \n",
      "Optimization terminated normally: \n",
      "  Convergence detected: relative gradient magnitude is below tolerance\n"
     ]
    },
    {
     "name": "stderr",
     "output_type": "stream",
     "text": [
      " 52%|█████▏    | 61/118 [01:14<01:13,  1.29s/it]"
     ]
    },
    {
     "name": "stdout",
     "output_type": "stream",
     "text": [
      "Initial log joint probability = -31.7426\n",
      "    Iter      log prob        ||dx||      ||grad||       alpha      alpha0  # evals  Notes \n",
      "      99       4678.13   0.000872153       71.7237       0.423       0.423      121   \n",
      "    Iter      log prob        ||dx||      ||grad||       alpha      alpha0  # evals  Notes \n",
      "     157        4679.1   0.000288437       131.192    3.95e-06       0.001      231  LS failed, Hessian reset \n",
      "     195       4679.21   9.38792e-05       55.0355   1.122e-06       0.001      318  LS failed, Hessian reset \n",
      "     199       4679.21   9.84094e-06       33.2017           1           1      325   \n",
      "    Iter      log prob        ||dx||      ||grad||       alpha      alpha0  # evals  Notes \n",
      "     268       4679.25   5.22948e-05       88.4711   7.534e-07       0.001      461  LS failed, Hessian reset \n",
      "     299       4679.26   9.27883e-07       61.8486      0.7926     0.07926      506   \n",
      "    Iter      log prob        ||dx||      ||grad||       alpha      alpha0  # evals  Notes \n",
      "     303       4679.26   9.28753e-08       73.9735      0.0137           1      513   \n",
      "Optimization terminated normally: \n",
      "  Convergence detected: relative gradient magnitude is below tolerance\n"
     ]
    },
    {
     "name": "stderr",
     "output_type": "stream",
     "text": [
      " 53%|█████▎    | 62/118 [01:15<01:13,  1.31s/it]"
     ]
    },
    {
     "name": "stdout",
     "output_type": "stream",
     "text": [
      "Initial log joint probability = -26.258\n",
      "    Iter      log prob        ||dx||      ||grad||       alpha      alpha0  # evals  Notes \n",
      "      99        4746.6      0.001118       133.234      0.7456      0.7456      131   \n",
      "    Iter      log prob        ||dx||      ||grad||       alpha      alpha0  # evals  Notes \n",
      "     142       4746.78   4.20467e-05       61.3388   8.091e-07       0.001      231  LS failed, Hessian reset \n",
      "     199       4746.78   5.96738e-07       39.9424   1.309e-08       0.001      358  LS failed, Hessian reset \n",
      "Optimization terminated normally: \n",
      "  Convergence detected: relative gradient magnitude is below tolerance\n"
     ]
    },
    {
     "name": "stderr",
     "output_type": "stream",
     "text": [
      " 53%|█████▎    | 63/118 [01:16<01:11,  1.30s/it]"
     ]
    },
    {
     "name": "stdout",
     "output_type": "stream",
     "text": [
      "Initial log joint probability = -32.4357\n",
      "    Iter      log prob        ||dx||      ||grad||       alpha      alpha0  # evals  Notes \n",
      "      99       4810.74    0.00175695       76.6823           1           1      130   \n",
      "    Iter      log prob        ||dx||      ||grad||       alpha      alpha0  # evals  Notes \n",
      "     110       4810.92   0.000376973       170.323   4.034e-06       0.001      181  LS failed, Hessian reset \n",
      "     118       4810.98   8.81876e-05       55.7394   1.715e-06       0.001      224  LS failed, Hessian reset \n",
      "     194       4811.13   0.000122936       80.0426   1.629e-06       0.001      385  LS failed, Hessian reset \n",
      "     199       4811.13   3.64346e-05       64.4096           1           1      392   \n",
      "    Iter      log prob        ||dx||      ||grad||       alpha      alpha0  # evals  Notes \n",
      "     246       4811.13   8.78801e-06       90.3379    1.39e-07       0.001      491  LS failed, Hessian reset \n",
      "     256       4811.14   2.96953e-07       45.5271           1           1      507   \n",
      "Optimization terminated normally: \n",
      "  Convergence detected: relative gradient magnitude is below tolerance\n"
     ]
    },
    {
     "name": "stderr",
     "output_type": "stream",
     "text": [
      " 54%|█████▍    | 64/118 [01:18<01:11,  1.32s/it]"
     ]
    },
    {
     "name": "stdout",
     "output_type": "stream",
     "text": [
      "Initial log joint probability = -27.7508\n",
      "    Iter      log prob        ||dx||      ||grad||       alpha      alpha0  # evals  Notes \n",
      "      70       4816.02   0.000208743       88.8493   1.216e-06       0.001      126  LS failed, Hessian reset \n",
      "      99       4816.43   3.56397e-05       63.5513           1           1      162   \n",
      "    Iter      log prob        ||dx||      ||grad||       alpha      alpha0  # evals  Notes \n",
      "     159       4816.66   8.59141e-05       62.6384   1.745e-06       0.001      278  LS failed, Hessian reset \n",
      "     199        4816.7   2.07716e-05        68.242           1           1      332   \n",
      "    Iter      log prob        ||dx||      ||grad||       alpha      alpha0  # evals  Notes \n",
      "     262       4816.72   4.54839e-08       59.8645     0.05241           1      417   \n",
      "Optimization terminated normally: \n",
      "  Convergence detected: relative gradient magnitude is below tolerance\n"
     ]
    },
    {
     "name": "stderr",
     "output_type": "stream",
     "text": [
      " 55%|█████▌    | 65/118 [01:19<01:09,  1.32s/it]"
     ]
    },
    {
     "name": "stdout",
     "output_type": "stream",
     "text": [
      "Initial log joint probability = -34.4258\n",
      "    Iter      log prob        ||dx||      ||grad||       alpha      alpha0  # evals  Notes \n",
      "      99          4865    0.00343206        303.57           1           1      124   \n",
      "    Iter      log prob        ||dx||      ||grad||       alpha      alpha0  # evals  Notes \n",
      "     191       4865.96   3.42923e-05       67.6102   5.421e-07       0.001      288  LS failed, Hessian reset \n",
      "     199       4865.96   3.04277e-06       73.2375      0.4012           1      299   \n",
      "    Iter      log prob        ||dx||      ||grad||       alpha      alpha0  # evals  Notes \n",
      "     222       4865.96   2.37005e-05       84.6604   3.126e-07       0.001      369  LS failed, Hessian reset \n",
      "     243       4865.97   4.20229e-07       68.3334      0.9926      0.9926      397   \n",
      "Optimization terminated normally: \n",
      "  Convergence detected: relative gradient magnitude is below tolerance\n"
     ]
    },
    {
     "name": "stderr",
     "output_type": "stream",
     "text": [
      " 56%|█████▌    | 66/118 [01:20<01:08,  1.32s/it]"
     ]
    },
    {
     "name": "stdout",
     "output_type": "stream",
     "text": [
      "Initial log joint probability = -28.9741\n",
      "    Iter      log prob        ||dx||      ||grad||       alpha      alpha0  # evals  Notes \n",
      "      99       4924.47   0.000264229       70.3065      0.2542           1      132   \n",
      "    Iter      log prob        ||dx||      ||grad||       alpha      alpha0  # evals  Notes \n",
      "     107       4924.51   0.000425576       96.7715   6.902e-06       0.001      181  LS failed, Hessian reset \n",
      "     135       4924.54   4.69989e-05       71.7997   9.515e-07       0.001      256  LS failed, Hessian reset \n",
      "     199        4924.8    0.00756853       100.271           1           1      333   \n",
      "    Iter      log prob        ||dx||      ||grad||       alpha      alpha0  # evals  Notes \n",
      "     201       4925.12   0.000325252       119.804   1.086e-06       0.001      389  LS failed, Hessian reset \n",
      "     249       4925.31   4.95136e-05        77.325   7.258e-07       0.001      506  LS failed, Hessian reset \n",
      "     276       4925.32   1.66376e-07       56.9269        0.27           1      548   \n",
      "Optimization terminated normally: \n",
      "  Convergence detected: relative gradient magnitude is below tolerance\n"
     ]
    },
    {
     "name": "stderr",
     "output_type": "stream",
     "text": [
      " 57%|█████▋    | 67/118 [01:22<01:08,  1.35s/it]"
     ]
    },
    {
     "name": "stdout",
     "output_type": "stream",
     "text": [
      "Initial log joint probability = -35.3113\n",
      "    Iter      log prob        ||dx||      ||grad||       alpha      alpha0  # evals  Notes \n",
      "      98       4995.76   0.000193766       72.2283   1.095e-06       0.001      180  LS failed, Hessian reset \n",
      "      99        4995.8   0.000761583        74.608          10           1      182   \n",
      "    Iter      log prob        ||dx||      ||grad||       alpha      alpha0  # evals  Notes \n",
      "     199          4997    0.00257645        82.976           1           1      303   \n",
      "    Iter      log prob        ||dx||      ||grad||       alpha      alpha0  # evals  Notes \n",
      "     202       4997.06   0.000187383       88.3216   2.704e-06       0.001      338  LS failed, Hessian reset \n",
      "     299       4997.28   1.88478e-06       71.5081      0.3831           1      459   \n",
      "    Iter      log prob        ||dx||      ||grad||       alpha      alpha0  # evals  Notes \n",
      "     320       4997.29   6.64678e-06       87.1049    9.82e-08       0.001      528  LS failed, Hessian reset \n",
      "     331       4997.29   2.41739e-07       72.9924      0.2907           1      542   \n",
      "Optimization terminated normally: \n",
      "  Convergence detected: relative gradient magnitude is below tolerance\n"
     ]
    },
    {
     "name": "stderr",
     "output_type": "stream",
     "text": [
      " 58%|█████▊    | 68/118 [01:23<01:08,  1.38s/it]"
     ]
    },
    {
     "name": "stdout",
     "output_type": "stream",
     "text": [
      "Initial log joint probability = -24.1043\n",
      "    Iter      log prob        ||dx||      ||grad||       alpha      alpha0  # evals  Notes \n",
      "      99       5339.31   0.000908892       105.024      0.7912      0.7912      127   \n",
      "    Iter      log prob        ||dx||      ||grad||       alpha      alpha0  # evals  Notes \n",
      "     154       5340.15   0.000206946       91.9555   8.643e-07       0.001      242  LS failed, Hessian reset \n",
      "     199       5340.56   8.27573e-06       63.6908      0.3502      0.3502      301   \n",
      "    Iter      log prob        ||dx||      ||grad||       alpha      alpha0  # evals  Notes \n",
      "     224       5340.57   5.50991e-05        70.388   7.239e-07       0.001      371  LS failed, Hessian reset \n",
      "     249       5340.57   4.46239e-07       43.8274           1           1      405   \n",
      "Optimization terminated normally: \n",
      "  Convergence detected: relative gradient magnitude is below tolerance\n"
     ]
    },
    {
     "name": "stderr",
     "output_type": "stream",
     "text": [
      " 58%|█████▊    | 69/118 [01:25<01:06,  1.36s/it]"
     ]
    },
    {
     "name": "stdout",
     "output_type": "stream",
     "text": [
      "Initial log joint probability = -30.2185\n",
      "    Iter      log prob        ||dx||      ||grad||       alpha      alpha0  # evals  Notes \n",
      "      96       5380.35   0.000175183       111.188   1.427e-06       0.001      164  LS failed, Hessian reset \n",
      "      99        5380.4   0.000357746       69.9048      0.8435      0.8435      167   \n",
      "    Iter      log prob        ||dx||      ||grad||       alpha      alpha0  # evals  Notes \n",
      "     199        5381.5   7.59697e-05       93.3125      0.7792      0.7792      299   \n",
      "    Iter      log prob        ||dx||      ||grad||       alpha      alpha0  # evals  Notes \n",
      "     210        5381.5   4.04484e-05       83.5215   6.087e-07       0.001      360  LS failed, Hessian reset \n",
      "     299       5381.55   4.44196e-05       81.7184      0.7585      0.7585      469   \n",
      "    Iter      log prob        ||dx||      ||grad||       alpha      alpha0  # evals  Notes \n",
      "     342       5381.67   0.000122737       80.7946   9.164e-07       0.001      591  LS failed, Hessian reset \n",
      "     399       5381.76   0.000404442       59.1279      0.5978           1      668   \n",
      "    Iter      log prob        ||dx||      ||grad||       alpha      alpha0  # evals  Notes \n",
      "     400       5381.77   0.000114878       73.1795   1.943e-06       0.001      718  LS failed, Hessian reset \n",
      "     430       5381.77   4.11777e-07       53.6199      0.2818      0.2818      753   \n",
      "Optimization terminated normally: \n",
      "  Convergence detected: relative gradient magnitude is below tolerance\n"
     ]
    },
    {
     "name": "stderr",
     "output_type": "stream",
     "text": [
      " 59%|█████▉    | 70/118 [01:26<01:09,  1.44s/it]"
     ]
    },
    {
     "name": "stdout",
     "output_type": "stream",
     "text": [
      "Initial log joint probability = -25.1084\n",
      "    Iter      log prob        ||dx||      ||grad||       alpha      alpha0  # evals  Notes \n",
      "      99       5433.09    0.00481856       217.321      0.5531           1      127   \n",
      "    Iter      log prob        ||dx||      ||grad||       alpha      alpha0  # evals  Notes \n",
      "     105        5433.3   0.000324084       147.505   4.124e-06       0.001      174  LS failed, Hessian reset \n",
      "     181       5433.82   4.66057e-05       49.6156   6.927e-07       0.001      308  LS failed, Hessian reset \n",
      "     199       5433.82   3.66972e-06       83.7237      0.3031      0.3031      336   \n",
      "    Iter      log prob        ||dx||      ||grad||       alpha      alpha0  # evals  Notes \n",
      "     231       5433.84   0.000111206       76.3268   2.658e-06       0.001      413  LS failed, Hessian reset \n",
      "     279       5433.84   4.04664e-06       59.7004   5.228e-08       0.001      515  LS failed, Hessian reset \n",
      "     287       5433.84   2.37401e-07       52.4677      0.1995           1      528   \n",
      "Optimization terminated normally: \n",
      "  Convergence detected: relative gradient magnitude is below tolerance\n"
     ]
    },
    {
     "name": "stderr",
     "output_type": "stream",
     "text": [
      " 60%|██████    | 71/118 [01:28<01:07,  1.44s/it]"
     ]
    },
    {
     "name": "stdout",
     "output_type": "stream",
     "text": [
      "Initial log joint probability = -30.2374\n",
      "    Iter      log prob        ||dx||      ||grad||       alpha      alpha0  # evals  Notes \n",
      "      99       5506.22     0.0014978       85.8427      0.9603      0.9603      130   \n",
      "    Iter      log prob        ||dx||      ||grad||       alpha      alpha0  # evals  Notes \n",
      "     185          5507   2.31603e-07       48.2971      0.6795      0.6795      244   \n",
      "Optimization terminated normally: \n",
      "  Convergence detected: relative gradient magnitude is below tolerance\n"
     ]
    },
    {
     "name": "stderr",
     "output_type": "stream",
     "text": [
      " 61%|██████    | 72/118 [01:29<01:03,  1.37s/it]"
     ]
    },
    {
     "name": "stdout",
     "output_type": "stream",
     "text": [
      "Initial log joint probability = -25.8841\n",
      "    Iter      log prob        ||dx||      ||grad||       alpha      alpha0  # evals  Notes \n",
      "      99       5544.35    0.00973989       178.104           1           1      123   \n",
      "    Iter      log prob        ||dx||      ||grad||       alpha      alpha0  # evals  Notes \n",
      "     160       5544.95   0.000760803       131.618   8.671e-06       0.001      237  LS failed, Hessian reset \n",
      "     199       5545.01   1.19415e-05       77.6943      0.5356      0.5356      295   \n",
      "    Iter      log prob        ||dx||      ||grad||       alpha      alpha0  # evals  Notes \n",
      "     240       5545.07   8.59427e-05       76.5833   9.755e-07       0.001      382  LS failed, Hessian reset \n",
      "     299       5545.09   0.000198657        82.285      0.9889      0.9889      462   \n",
      "    Iter      log prob        ||dx||      ||grad||       alpha      alpha0  # evals  Notes \n",
      "     306        5545.1   4.29279e-05       65.7297    7.39e-07       0.001      512  LS failed, Hessian reset \n",
      "     353        5545.1   5.42021e-07         63.35      0.7448      0.7448      575   \n",
      "Optimization terminated normally: \n",
      "  Convergence detected: relative gradient magnitude is below tolerance\n"
     ]
    },
    {
     "name": "stderr",
     "output_type": "stream",
     "text": [
      " 62%|██████▏   | 73/118 [01:30<01:03,  1.41s/it]"
     ]
    },
    {
     "name": "stdout",
     "output_type": "stream",
     "text": [
      "Initial log joint probability = -33.3492\n",
      "    Iter      log prob        ||dx||      ||grad||       alpha      alpha0  # evals  Notes \n",
      "      99       5613.22   0.000760039       78.1462           1           1      123   \n",
      "    Iter      log prob        ||dx||      ||grad||       alpha      alpha0  # evals  Notes \n",
      "     142       5614.15   0.000125692       87.5488   1.169e-06       0.001      228  LS failed, Hessian reset \n",
      "     192       5614.35   2.06585e-05       83.4293    3.26e-07       0.001      340  LS failed, Hessian reset \n",
      "     199       5614.35   8.59695e-06       53.7751       4.924      0.4924      350   \n",
      "    Iter      log prob        ||dx||      ||grad||       alpha      alpha0  # evals  Notes \n",
      "     275       5614.37   0.000146152       88.7432   1.145e-06       0.001      490  LS failed, Hessian reset \n",
      "     299       5614.38   6.39411e-06       53.2192       1.649      0.5234      522   \n",
      "    Iter      log prob        ||dx||      ||grad||       alpha      alpha0  # evals  Notes \n",
      "     318       5614.39   4.64194e-06       63.1531   8.858e-08       0.001      589  LS failed, Hessian reset \n",
      "     349       5614.39   5.19006e-07       37.6715      0.2861           1      633   \n",
      "Optimization terminated normally: \n",
      "  Convergence detected: relative gradient magnitude is below tolerance\n"
     ]
    },
    {
     "name": "stderr",
     "output_type": "stream",
     "text": [
      " 63%|██████▎   | 74/118 [01:32<01:03,  1.45s/it]"
     ]
    },
    {
     "name": "stdout",
     "output_type": "stream",
     "text": [
      "Initial log joint probability = -27.3482\n",
      "    Iter      log prob        ||dx||      ||grad||       alpha      alpha0  # evals  Notes \n",
      "      99       5649.07   0.000403176       113.608      0.5186     0.05186      135   \n",
      "    Iter      log prob        ||dx||      ||grad||       alpha      alpha0  # evals  Notes \n",
      "     199       5649.41   8.14428e-07       68.5466      0.4684      0.4684      281   \n",
      "    Iter      log prob        ||dx||      ||grad||       alpha      alpha0  # evals  Notes \n",
      "     207       5649.41   4.17827e-07       73.4867     0.07993           1      296   \n",
      "Optimization terminated normally: \n",
      "  Convergence detected: relative gradient magnitude is below tolerance\n"
     ]
    },
    {
     "name": "stderr",
     "output_type": "stream",
     "text": [
      " 64%|██████▎   | 75/118 [01:33<01:00,  1.40s/it]"
     ]
    },
    {
     "name": "stdout",
     "output_type": "stream",
     "text": [
      "Initial log joint probability = -33.7808\n",
      "    Iter      log prob        ||dx||      ||grad||       alpha      alpha0  # evals  Notes \n",
      "      99       5716.18   0.000717143       113.661      0.3878      0.6129      127   \n",
      "    Iter      log prob        ||dx||      ||grad||       alpha      alpha0  # evals  Notes \n",
      "     116       5716.45   0.000613338       183.969   1.054e-05       0.001      201  LS failed, Hessian reset \n",
      "     157       5716.63   0.000111845        93.707   1.558e-06       0.001      293  LS failed, Hessian reset \n",
      "     199       5716.64   1.42014e-05       56.8815      0.6588      0.6588      351   \n",
      "    Iter      log prob        ||dx||      ||grad||       alpha      alpha0  # evals  Notes \n",
      "     286        5716.9   0.000363125       112.179   6.084e-06       0.001      538  LS failed, Hessian reset \n",
      "     299       5716.95   5.41128e-05       67.6948      0.6112      0.6112      552   \n",
      "    Iter      log prob        ||dx||      ||grad||       alpha      alpha0  # evals  Notes \n",
      "     339       5717.03   8.87841e-05       68.1366   1.485e-06       0.001      645  LS failed, Hessian reset \n",
      "     385       5717.05   2.53414e-07       65.3333      0.6581      0.6581      702   \n",
      "Optimization terminated normally: \n",
      "  Convergence detected: relative gradient magnitude is below tolerance\n"
     ]
    },
    {
     "name": "stderr",
     "output_type": "stream",
     "text": [
      " 64%|██████▍   | 76/118 [01:35<01:01,  1.47s/it]"
     ]
    },
    {
     "name": "stdout",
     "output_type": "stream",
     "text": [
      "Initial log joint probability = -65.7248\n",
      "    Iter      log prob        ||dx||      ||grad||       alpha      alpha0  # evals  Notes \n",
      "      99       5770.27      0.011776       163.321           1           1      143   \n",
      "    Iter      log prob        ||dx||      ||grad||       alpha      alpha0  # evals  Notes \n",
      "     132       5770.72   0.000137082       89.0444   1.173e-06       0.001      230  LS failed, Hessian reset \n",
      "     165       5770.78   0.000152809       87.2157   2.364e-06       0.001      319  LS failed, Hessian reset \n",
      "     199       5770.79    1.9346e-07       65.4157      0.2874     0.02874      368   \n",
      "    Iter      log prob        ||dx||      ||grad||       alpha      alpha0  # evals  Notes \n",
      "     208       5770.79   5.17849e-07       60.7749       1.378      0.1378      381   \n",
      "Optimization terminated normally: \n",
      "  Convergence detected: relative gradient magnitude is below tolerance\n"
     ]
    },
    {
     "name": "stderr",
     "output_type": "stream",
     "text": [
      " 65%|██████▌   | 77/118 [01:36<00:58,  1.43s/it]"
     ]
    },
    {
     "name": "stdout",
     "output_type": "stream",
     "text": [
      "Initial log joint probability = -36.0597\n",
      "    Iter      log prob        ||dx||      ||grad||       alpha      alpha0  # evals  Notes \n",
      "      99       5803.26   0.000609474       134.802           1           1      133   \n",
      "    Iter      log prob        ||dx||      ||grad||       alpha      alpha0  # evals  Notes \n",
      "     195       5803.63   0.000143751       66.2347   2.014e-06       0.001      313  LS failed, Hessian reset \n",
      "     199       5803.64   4.77748e-05       84.2992      0.7767      0.7767      317   \n",
      "    Iter      log prob        ||dx||      ||grad||       alpha      alpha0  # evals  Notes \n",
      "     299       5803.91    0.00523402       81.1114           1           1      449   \n",
      "    Iter      log prob        ||dx||      ||grad||       alpha      alpha0  # evals  Notes \n",
      "     399       5804.18    0.00130652        71.244           1           1      578   \n",
      "    Iter      log prob        ||dx||      ||grad||       alpha      alpha0  # evals  Notes \n",
      "     442        5804.3   7.04013e-05       48.6748   9.416e-07       0.001      657  LS failed, Hessian reset \n",
      "     466        5804.3   6.68061e-07       40.7379           1           1      694   \n",
      "Optimization terminated normally: \n",
      "  Convergence detected: relative gradient magnitude is below tolerance\n"
     ]
    },
    {
     "name": "stderr",
     "output_type": "stream",
     "text": [
      " 66%|██████▌   | 78/118 [01:38<00:59,  1.50s/it]"
     ]
    },
    {
     "name": "stdout",
     "output_type": "stream",
     "text": [
      "Initial log joint probability = -29.3353\n",
      "    Iter      log prob        ||dx||      ||grad||       alpha      alpha0  # evals  Notes \n",
      "      99       5819.75   0.000121075       186.572      0.3729      0.3729      140   \n",
      "    Iter      log prob        ||dx||      ||grad||       alpha      alpha0  # evals  Notes \n",
      "     141       5819.82    5.3242e-05       53.0056    7.75e-07       0.001      240  LS failed, Hessian reset \n",
      "     169       5819.82   3.49243e-07        55.204      0.2669           1      277   \n",
      "Optimization terminated normally: \n",
      "  Convergence detected: relative gradient magnitude is below tolerance\n"
     ]
    },
    {
     "name": "stderr",
     "output_type": "stream",
     "text": [
      " 67%|██████▋   | 79/118 [01:39<00:55,  1.42s/it]"
     ]
    },
    {
     "name": "stdout",
     "output_type": "stream",
     "text": [
      "Initial log joint probability = -38.0104\n",
      "    Iter      log prob        ||dx||      ||grad||       alpha      alpha0  # evals  Notes \n",
      "      99       5871.74   4.22437e-05       84.0601    0.009975           1      136   \n",
      "    Iter      log prob        ||dx||      ||grad||       alpha      alpha0  # evals  Notes \n",
      "     130       5871.87   0.000503121       63.0304   7.428e-06       0.001      212  LS failed, Hessian reset \n",
      "     189       5872.17   0.000180527       102.833   3.042e-06       0.001      345  LS failed, Hessian reset \n",
      "     199       5872.19   0.000130857       81.3403      0.2592           1      361   \n",
      "    Iter      log prob        ||dx||      ||grad||       alpha      alpha0  # evals  Notes \n",
      "     242       5872.23   7.36425e-07       65.3039      0.2644           1      422   \n",
      "Optimization terminated normally: \n",
      "  Convergence detected: relative gradient magnitude is below tolerance\n"
     ]
    },
    {
     "name": "stderr",
     "output_type": "stream",
     "text": [
      " 68%|██████▊   | 80/118 [01:41<00:53,  1.42s/it]"
     ]
    },
    {
     "name": "stdout",
     "output_type": "stream",
     "text": [
      "Initial log joint probability = -31.1371\n",
      "    Iter      log prob        ||dx||      ||grad||       alpha      alpha0  # evals  Notes \n",
      "      91       5933.24   0.000438695       173.485   4.608e-06       0.001      148  LS failed, Hessian reset \n",
      "      99        5933.5     0.0017888       157.516           1           1      157   \n",
      "    Iter      log prob        ||dx||      ||grad||       alpha      alpha0  # evals  Notes \n",
      "     188       5933.96   0.000107367       65.0317   9.998e-07       0.001      306  LS failed, Hessian reset \n",
      "     199       5933.98   8.11786e-05       65.7329      0.7266      0.7266      324   \n",
      "    Iter      log prob        ||dx||      ||grad||       alpha      alpha0  # evals  Notes \n",
      "     226          5934   8.87189e-07       52.4051           1           1      363   \n",
      "Optimization terminated normally: \n",
      "  Convergence detected: relative gradient magnitude is below tolerance\n"
     ]
    },
    {
     "name": "stderr",
     "output_type": "stream",
     "text": [
      " 69%|██████▊   | 81/118 [01:42<00:51,  1.40s/it]"
     ]
    },
    {
     "name": "stdout",
     "output_type": "stream",
     "text": [
      "Initial log joint probability = -39.6184\n",
      "    Iter      log prob        ||dx||      ||grad||       alpha      alpha0  # evals  Notes \n",
      "      99       6000.05   0.000640709       65.2054           1           1      129   \n",
      "    Iter      log prob        ||dx||      ||grad||       alpha      alpha0  # evals  Notes \n",
      "     199       6001.03    0.00022636       77.0796      0.9855      0.9855      259   \n",
      "    Iter      log prob        ||dx||      ||grad||       alpha      alpha0  # evals  Notes \n",
      "     226       6001.25    0.00116673       88.9165   9.511e-06       0.001      355  LS failed, Hessian reset \n",
      "     274       6001.33   0.000155485        74.175   2.002e-06       0.001      468  LS failed, Hessian reset \n",
      "     290       6001.33   7.81696e-07       52.5941   1.488e-08       0.001      531  LS failed, Hessian reset \n",
      "     291       6001.33   2.31908e-07       44.0432      0.3042           1      533   \n",
      "Optimization terminated normally: \n",
      "  Convergence detected: relative gradient magnitude is below tolerance\n"
     ]
    },
    {
     "name": "stderr",
     "output_type": "stream",
     "text": [
      " 69%|██████▉   | 82/118 [01:43<00:51,  1.43s/it]"
     ]
    },
    {
     "name": "stdout",
     "output_type": "stream",
     "text": [
      "Initial log joint probability = -31.5969\n",
      "    Iter      log prob        ||dx||      ||grad||       alpha      alpha0  # evals  Notes \n",
      "      75       6025.98   0.000143004       74.1918   9.818e-07       0.001      126  LS failed, Hessian reset \n",
      "      99       6026.22   9.82904e-05       58.8132      0.6696      0.6696      158   \n",
      "    Iter      log prob        ||dx||      ||grad||       alpha      alpha0  # evals  Notes \n",
      "     115       6026.58   0.000200034       94.8501   9.333e-07       0.001      219  LS failed, Hessian reset \n",
      "     199          6027   0.000152894       110.063    0.003216           1      347   \n",
      "    Iter      log prob        ||dx||      ||grad||       alpha      alpha0  # evals  Notes \n",
      "     225       6027.22   0.000102549       72.2632   1.822e-06       0.001      427  LS failed, Hessian reset \n",
      "     241       6027.22   1.08442e-07       68.2399     0.06354           1      453   \n",
      "Optimization terminated normally: \n",
      "  Convergence detected: relative gradient magnitude is below tolerance\n"
     ]
    },
    {
     "name": "stderr",
     "output_type": "stream",
     "text": [
      " 70%|███████   | 83/118 [01:48<01:23,  2.40s/it]"
     ]
    },
    {
     "name": "stdout",
     "output_type": "stream",
     "text": [
      "Initial log joint probability = -41.6429\n",
      "    Iter      log prob        ||dx||      ||grad||       alpha      alpha0  # evals  Notes \n",
      "      99       6086.86   0.000171093        70.097      0.8654      0.8654      135   \n",
      "    Iter      log prob        ||dx||      ||grad||       alpha      alpha0  # evals  Notes \n",
      "     115          6087   0.000150208       81.5202   9.428e-07       0.001      199  LS failed, Hessian reset \n",
      "     178       6087.54   0.000320401       150.646    4.37e-06       0.001      320  LS failed, Hessian reset \n",
      "     199       6087.68   1.96501e-05       76.3496      0.4631      0.4631      349   \n",
      "    Iter      log prob        ||dx||      ||grad||       alpha      alpha0  # evals  Notes \n",
      "     218        6087.7     0.0001624       108.466   1.653e-06       0.001      402  LS failed, Hessian reset \n",
      "     299       6087.73   0.000116589        71.445      0.6383      0.6383      508   \n",
      "    Iter      log prob        ||dx||      ||grad||       alpha      alpha0  # evals  Notes \n",
      "     352       6087.81   2.22983e-07       61.3983      0.1852       0.642      586   \n",
      "Optimization terminated normally: \n",
      "  Convergence detected: relative gradient magnitude is below tolerance\n"
     ]
    },
    {
     "name": "stderr",
     "output_type": "stream",
     "text": [
      " 71%|███████   | 84/118 [01:50<01:13,  2.15s/it]"
     ]
    },
    {
     "name": "stdout",
     "output_type": "stream",
     "text": [
      "Initial log joint probability = -33.1078\n",
      "    Iter      log prob        ||dx||      ||grad||       alpha      alpha0  # evals  Notes \n",
      "      82       6134.75    0.00018659       106.889    1.13e-06       0.001      133  LS failed, Hessian reset \n",
      "      99       6135.03   0.000671589       86.7865      0.6131      0.6131      154   \n",
      "    Iter      log prob        ||dx||      ||grad||       alpha      alpha0  # evals  Notes \n",
      "     119       6135.39   0.000233312       147.018   2.118e-06       0.001      216  LS failed, Hessian reset \n",
      "     180       6136.17    0.00123428       170.528   1.339e-05       0.001      344  LS failed, Hessian reset \n",
      "     199        6136.3    6.8763e-05       64.4688           1           1      371   \n",
      "    Iter      log prob        ||dx||      ||grad||       alpha      alpha0  # evals  Notes \n",
      "     299       6136.46   1.99446e-06       48.7525           1           1      501   \n",
      "    Iter      log prob        ||dx||      ||grad||       alpha      alpha0  # evals  Notes \n",
      "     303       6136.46   2.73291e-06         64.75      0.4379           1      509   \n",
      "Optimization terminated normally: \n",
      "  Convergence detected: relative gradient magnitude is below tolerance\n"
     ]
    },
    {
     "name": "stderr",
     "output_type": "stream",
     "text": [
      " 72%|███████▏  | 85/118 [01:51<01:04,  1.96s/it]"
     ]
    },
    {
     "name": "stdout",
     "output_type": "stream",
     "text": [
      "Initial log joint probability = -42.4123\n",
      "    Iter      log prob        ||dx||      ||grad||       alpha      alpha0  # evals  Notes \n",
      "      99       6203.32   9.81089e-05       56.0914      0.4399      0.4399      117   \n",
      "    Iter      log prob        ||dx||      ||grad||       alpha      alpha0  # evals  Notes \n",
      "     175        6204.9   0.000678347       178.462   7.366e-06       0.001      247  LS failed, Hessian reset \n",
      "     192       6204.92   1.22922e-05       53.4714   1.931e-07       0.001      310  LS failed, Hessian reset \n",
      "     199       6204.92   1.88611e-06       60.8736      0.4145      0.4145      321   \n",
      "    Iter      log prob        ||dx||      ||grad||       alpha      alpha0  # evals  Notes \n",
      "     282          6205   0.000142731        88.034   1.815e-06       0.001      495  LS failed, Hessian reset \n",
      "     299       6205.02   0.000350987       62.1691           1           1      515   \n",
      "    Iter      log prob        ||dx||      ||grad||       alpha      alpha0  # evals  Notes \n",
      "     344       6205.05   3.69174e-07       62.5756      0.7132      0.7132      574   \n",
      "Optimization terminated normally: \n",
      "  Convergence detected: relative gradient magnitude is below tolerance\n"
     ]
    },
    {
     "name": "stderr",
     "output_type": "stream",
     "text": [
      " 73%|███████▎  | 86/118 [01:53<00:59,  1.84s/it]"
     ]
    },
    {
     "name": "stdout",
     "output_type": "stream",
     "text": [
      "Initial log joint probability = -33.8271\n",
      "    Iter      log prob        ||dx||      ||grad||       alpha      alpha0  # evals  Notes \n",
      "      99       6245.28    0.00123671       96.3078      0.7911      0.7911      123   \n",
      "    Iter      log prob        ||dx||      ||grad||       alpha      alpha0  # evals  Notes \n",
      "     199       6245.84   7.51381e-06       71.3436      0.3116           1      258   \n",
      "    Iter      log prob        ||dx||      ||grad||       alpha      alpha0  # evals  Notes \n",
      "     299       6246.13    0.00088686       69.9663      0.3405           1      377   \n",
      "    Iter      log prob        ||dx||      ||grad||       alpha      alpha0  # evals  Notes \n",
      "     310       6246.48   0.000279899       98.5777   8.236e-07       0.001      437  LS failed, Hessian reset \n",
      "     348       6246.75    2.8536e-05       55.2042   4.309e-07       0.001      529  LS failed, Hessian reset \n",
      "     369       6246.75   5.61832e-07        55.153      0.2697           1      556   \n",
      "Optimization terminated normally: \n",
      "  Convergence detected: relative gradient magnitude is below tolerance\n"
     ]
    },
    {
     "name": "stderr",
     "output_type": "stream",
     "text": [
      " 74%|███████▎  | 87/118 [01:55<00:56,  1.83s/it]"
     ]
    },
    {
     "name": "stdout",
     "output_type": "stream",
     "text": [
      "Initial log joint probability = -44.2571\n",
      "    Iter      log prob        ||dx||      ||grad||       alpha      alpha0  # evals  Notes \n",
      "      99       6312.71   0.000843881       81.3449       1.198      0.1198      122   \n",
      "    Iter      log prob        ||dx||      ||grad||       alpha      alpha0  # evals  Notes \n",
      "     138        6313.4     0.0011766        227.76   8.005e-06       0.001      214  LS failed, Hessian reset \n",
      "     199       6313.67   3.67803e-06       85.2113      0.0903      0.8523      296   \n",
      "    Iter      log prob        ||dx||      ||grad||       alpha      alpha0  # evals  Notes \n",
      "     209       6313.67   6.34108e-07       51.7364           1           1      311   \n",
      "Optimization terminated normally: \n",
      "  Convergence detected: relative gradient magnitude is below tolerance\n"
     ]
    },
    {
     "name": "stderr",
     "output_type": "stream",
     "text": [
      " 75%|███████▍  | 88/118 [01:56<00:53,  1.78s/it]"
     ]
    },
    {
     "name": "stdout",
     "output_type": "stream",
     "text": [
      "Initial log joint probability = -34.9098\n",
      "    Iter      log prob        ||dx||      ||grad||       alpha      alpha0  # evals  Notes \n",
      "      99       6344.84     0.0427049        126.66           1           1      123   \n",
      "    Iter      log prob        ||dx||      ||grad||       alpha      alpha0  # evals  Notes \n",
      "     101       6344.88   0.000403668       171.975   3.508e-06       0.001      164  LS failed, Hessian reset \n",
      "     181       6345.47    0.00010948       83.2826   1.621e-06       0.001      327  LS failed, Hessian reset \n",
      "     199       6345.47   5.36603e-06       67.8387           1           1      349   \n",
      "    Iter      log prob        ||dx||      ||grad||       alpha      alpha0  # evals  Notes \n",
      "     214       6345.47   2.15647e-07       71.1766       0.676       0.676      372   \n",
      "Optimization terminated normally: \n",
      "  Convergence detected: relative gradient magnitude is below tolerance\n"
     ]
    },
    {
     "name": "stderr",
     "output_type": "stream",
     "text": [
      " 75%|███████▌  | 89/118 [01:58<00:51,  1.79s/it]"
     ]
    },
    {
     "name": "stdout",
     "output_type": "stream",
     "text": [
      "Initial log joint probability = -46.0325\n",
      "    Iter      log prob        ||dx||      ||grad||       alpha      alpha0  # evals  Notes \n",
      "      99       6416.85    0.00178442       107.845           1           1      123   \n",
      "    Iter      log prob        ||dx||      ||grad||       alpha      alpha0  # evals  Notes \n",
      "     109       6417.21   0.000280871       163.702   1.781e-06       0.001      166  LS failed, Hessian reset \n",
      "     143       6417.63   0.000279858       150.402   3.249e-06       0.001      240  LS failed, Hessian reset \n",
      "     173       6417.73   2.91922e-05        58.334    5.11e-07       0.001      318  LS failed, Hessian reset \n",
      "     183       6417.73   9.33115e-06       44.9697   1.723e-07       0.001      374  LS failed, Hessian reset \n",
      "     199       6417.73   2.48932e-06       58.8611      0.2551           1      398   \n",
      "    Iter      log prob        ||dx||      ||grad||       alpha      alpha0  # evals  Notes \n",
      "     207       6417.73   5.33888e-07       52.7223      0.8894      0.1843      412   \n",
      "Optimization terminated normally: \n",
      "  Convergence detected: relative gradient magnitude is below tolerance\n"
     ]
    },
    {
     "name": "stderr",
     "output_type": "stream",
     "text": [
      " 76%|███████▋  | 90/118 [02:00<00:52,  1.87s/it]"
     ]
    },
    {
     "name": "stdout",
     "output_type": "stream",
     "text": [
      "Initial log joint probability = -36.4784\n",
      "    Iter      log prob        ||dx||      ||grad||       alpha      alpha0  # evals  Notes \n",
      "      99       6482.37    0.00252517       81.1928           1           1      127   \n",
      "    Iter      log prob        ||dx||      ||grad||       alpha      alpha0  # evals  Notes \n",
      "     159       6483.27   0.000167844       82.3218   8.575e-07       0.001      266  LS failed, Hessian reset \n",
      "     192       6483.51   2.15733e-05       58.6251   3.389e-07       0.001      354  LS failed, Hessian reset \n",
      "     199       6483.51   3.92649e-06       51.9632       0.972       0.972      362   \n",
      "    Iter      log prob        ||dx||      ||grad||       alpha      alpha0  # evals  Notes \n",
      "     228       6483.55   2.78716e-05       57.5184   5.203e-07       0.001      443  LS failed, Hessian reset \n",
      "     271       6483.58   4.35503e-07       40.5105           1           1      502   \n",
      "Optimization terminated normally: \n",
      "  Convergence detected: relative gradient magnitude is below tolerance\n"
     ]
    },
    {
     "name": "stderr",
     "output_type": "stream",
     "text": [
      " 77%|███████▋  | 91/118 [02:02<00:50,  1.88s/it]"
     ]
    },
    {
     "name": "stdout",
     "output_type": "stream",
     "text": [
      "Initial log joint probability = -47.3352\n",
      "    Iter      log prob        ||dx||      ||grad||       alpha      alpha0  # evals  Notes \n",
      "      99       6534.15   0.000531304       96.9025      0.5352      0.5352      128   \n",
      "    Iter      log prob        ||dx||      ||grad||       alpha      alpha0  # evals  Notes \n",
      "     146       6535.17   0.000153575       97.9904   1.301e-06       0.001      226  LS failed, Hessian reset \n",
      "     182        6535.3   9.83063e-06       72.8431   1.797e-07       0.001      308  LS failed, Hessian reset \n",
      "     195        6535.3   1.98256e-07       62.1091      0.1417           1      331   \n",
      "Optimization terminated normally: \n",
      "  Convergence detected: relative gradient magnitude is below tolerance\n"
     ]
    },
    {
     "name": "stderr",
     "output_type": "stream",
     "text": [
      " 78%|███████▊  | 92/118 [02:04<00:46,  1.79s/it]"
     ]
    },
    {
     "name": "stdout",
     "output_type": "stream",
     "text": [
      "Initial log joint probability = -37.9931\n",
      "    Iter      log prob        ||dx||      ||grad||       alpha      alpha0  # evals  Notes \n",
      "      96        6563.1   0.000450731       193.671   5.222e-06       0.001      188  LS failed, Hessian reset \n",
      "      99       6563.17    0.00077959       140.506           1           1      191   \n",
      "    Iter      log prob        ||dx||      ||grad||       alpha      alpha0  # evals  Notes \n",
      "     196       6563.91   1.54228e-05        68.933   3.072e-07       0.001      352  LS failed, Hessian reset \n",
      "     199       6563.91   1.42628e-05       50.7392      0.4578      0.4578      355   \n",
      "    Iter      log prob        ||dx||      ||grad||       alpha      alpha0  # evals  Notes \n",
      "     299       6563.94    7.2882e-05       88.0354           1           1      497   \n",
      "    Iter      log prob        ||dx||      ||grad||       alpha      alpha0  # evals  Notes \n",
      "     399       6564.31   0.000461857       39.4526           1           1      622   \n",
      "    Iter      log prob        ||dx||      ||grad||       alpha      alpha0  # evals  Notes \n",
      "     486        6564.6   3.96156e-05       73.1834   6.012e-07       0.001      824  LS failed, Hessian reset \n",
      "     499       6564.61   2.67197e-06       67.8943           1           1      842   \n",
      "    Iter      log prob        ||dx||      ||grad||       alpha      alpha0  # evals  Notes \n",
      "     580       6564.62   6.10684e-07       55.4424       1.216      0.3771      954   \n",
      "Optimization terminated normally: \n",
      "  Convergence detected: relative gradient magnitude is below tolerance\n"
     ]
    },
    {
     "name": "stderr",
     "output_type": "stream",
     "text": [
      " 79%|███████▉  | 93/118 [02:05<00:46,  1.84s/it]"
     ]
    },
    {
     "name": "stdout",
     "output_type": "stream",
     "text": [
      "Initial log joint probability = -48.7469\n",
      "    Iter      log prob        ||dx||      ||grad||       alpha      alpha0  # evals  Notes \n",
      "      99       6619.94   0.000871632       120.841           1           1      117   \n",
      "    Iter      log prob        ||dx||      ||grad||       alpha      alpha0  # evals  Notes \n",
      "     117       6620.64   0.000204335        127.13    1.95e-06       0.001      172  LS failed, Hessian reset \n",
      "     160       6620.96   0.000224391       41.6334   3.963e-06       0.001      280  LS failed, Hessian reset \n",
      "     197       6620.98   4.14425e-06       77.1456   7.248e-08       0.001      367  LS failed, Hessian reset \n",
      "     199       6620.98   1.64907e-06        44.545      0.6688      0.6688      369   \n",
      "    Iter      log prob        ||dx||      ||grad||       alpha      alpha0  # evals  Notes \n",
      "     202       6620.98   7.08053e-08       44.8563     0.03013           1      375   \n",
      "Optimization terminated normally: \n",
      "  Convergence detected: relative gradient magnitude is below tolerance\n"
     ]
    },
    {
     "name": "stderr",
     "output_type": "stream",
     "text": [
      " 80%|███████▉  | 94/118 [02:07<00:41,  1.73s/it]"
     ]
    },
    {
     "name": "stdout",
     "output_type": "stream",
     "text": [
      "Initial log joint probability = -37.8784\n",
      "    Iter      log prob        ||dx||      ||grad||       alpha      alpha0  # evals  Notes \n",
      "      99       6686.72     0.0019609       159.446      0.9135      0.9135      121   \n",
      "    Iter      log prob        ||dx||      ||grad||       alpha      alpha0  # evals  Notes \n",
      "     107       6686.84   0.000126121       76.1964   9.928e-07       0.001      174  LS failed, Hessian reset \n",
      "     151       6687.11   0.000450511       89.9862   5.659e-06       0.001      270  LS failed, Hessian reset \n",
      "     199       6687.16   1.08768e-06       50.5657      0.6605      0.6605      332   \n",
      "    Iter      log prob        ||dx||      ||grad||       alpha      alpha0  # evals  Notes \n",
      "     216       6687.16   6.36902e-07       64.5437           1           1      358   \n",
      "Optimization terminated normally: \n",
      "  Convergence detected: relative gradient magnitude is below tolerance\n"
     ]
    },
    {
     "name": "stderr",
     "output_type": "stream",
     "text": [
      " 81%|████████  | 95/118 [02:08<00:37,  1.63s/it]"
     ]
    },
    {
     "name": "stdout",
     "output_type": "stream",
     "text": [
      "Initial log joint probability = -48.8618\n",
      "    Iter      log prob        ||dx||      ||grad||       alpha      alpha0  # evals  Notes \n",
      "      99       6755.66    0.00124949       92.3234           1           1      122   \n",
      "    Iter      log prob        ||dx||      ||grad||       alpha      alpha0  # evals  Notes \n",
      "     199       6756.58   0.000201629        74.279           1           1      258   \n",
      "    Iter      log prob        ||dx||      ||grad||       alpha      alpha0  # evals  Notes \n",
      "     260       6756.82   0.000594223       215.389   8.966e-06       0.001      373  LS failed, Hessian reset \n",
      "     299       6756.92   4.62281e-06       53.9702     0.04102           1      422   \n",
      "    Iter      log prob        ||dx||      ||grad||       alpha      alpha0  # evals  Notes \n",
      "     316       6756.92   4.21656e-07       47.0647      0.5826      0.5826      444   \n",
      "Optimization terminated normally: \n",
      "  Convergence detected: relative gradient magnitude is below tolerance\n"
     ]
    },
    {
     "name": "stderr",
     "output_type": "stream",
     "text": [
      " 81%|████████▏ | 96/118 [02:10<00:35,  1.63s/it]"
     ]
    },
    {
     "name": "stdout",
     "output_type": "stream",
     "text": [
      "Initial log joint probability = -39.3844\n",
      "    Iter      log prob        ||dx||      ||grad||       alpha      alpha0  # evals  Notes \n",
      "      94        6787.4   0.000368366       171.342    4.72e-06       0.001      164  LS failed, Hessian reset \n",
      "      99       6787.63    0.00132473       184.071      0.6811      0.6811      169   \n",
      "    Iter      log prob        ||dx||      ||grad||       alpha      alpha0  # evals  Notes \n",
      "     199       6788.21    2.7289e-05        70.318           1           1      304   \n",
      "    Iter      log prob        ||dx||      ||grad||       alpha      alpha0  # evals  Notes \n",
      "     214       6788.21   1.43237e-06       57.8462           1           1      327   \n",
      "Optimization terminated normally: \n",
      "  Convergence detected: relative gradient magnitude is below tolerance\n"
     ]
    },
    {
     "name": "stderr",
     "output_type": "stream",
     "text": [
      " 82%|████████▏ | 97/118 [02:11<00:33,  1.59s/it]"
     ]
    },
    {
     "name": "stdout",
     "output_type": "stream",
     "text": [
      "Initial log joint probability = -52.2865\n",
      "    Iter      log prob        ||dx||      ||grad||       alpha      alpha0  # evals  Notes \n",
      "      99       6856.34   0.000789256       89.4888      0.4846           1      127   \n",
      "    Iter      log prob        ||dx||      ||grad||       alpha      alpha0  # evals  Notes \n",
      "     116       6856.67    0.00152375       346.704   1.702e-05       0.001      187  LS failed, Hessian reset \n",
      "     191       6856.85   3.03764e-07       60.7137      0.3548           1      290   \n",
      "Optimization terminated normally: \n",
      "  Convergence detected: relative gradient magnitude is below tolerance\n"
     ]
    },
    {
     "name": "stderr",
     "output_type": "stream",
     "text": [
      " 83%|████████▎ | 98/118 [02:13<00:30,  1.54s/it]"
     ]
    },
    {
     "name": "stdout",
     "output_type": "stream",
     "text": [
      "Initial log joint probability = -40.2835\n",
      "    Iter      log prob        ||dx||      ||grad||       alpha      alpha0  # evals  Notes \n",
      "      99       6913.26   0.000888272       99.6144           1           1      126   \n",
      "    Iter      log prob        ||dx||      ||grad||       alpha      alpha0  # evals  Notes \n",
      "     199       6913.99   0.000244398       57.4201           1           1      249   \n",
      "    Iter      log prob        ||dx||      ||grad||       alpha      alpha0  # evals  Notes \n",
      "     299       6914.34    0.00761887         101.4           1           1      373   \n",
      "    Iter      log prob        ||dx||      ||grad||       alpha      alpha0  # evals  Notes \n",
      "     344       6914.56   0.000135309       93.0892   1.104e-06       0.001      481  LS failed, Hessian reset \n",
      "     367       6914.62   8.54119e-05       61.4053   1.418e-06       0.001      547  LS failed, Hessian reset \n",
      "     398       6914.62   8.40238e-07       75.0606      0.1936           1      589   \n",
      "Optimization terminated normally: \n",
      "  Convergence detected: relative gradient magnitude is below tolerance\n"
     ]
    },
    {
     "name": "stderr",
     "output_type": "stream",
     "text": [
      " 84%|████████▍ | 99/118 [02:15<00:31,  1.68s/it]"
     ]
    },
    {
     "name": "stdout",
     "output_type": "stream",
     "text": [
      "Initial log joint probability = -52.4568\n",
      "    Iter      log prob        ||dx||      ||grad||       alpha      alpha0  # evals  Notes \n",
      "      99       6986.05    0.00709537       136.395       0.951       0.951      124   \n",
      "    Iter      log prob        ||dx||      ||grad||       alpha      alpha0  # evals  Notes \n",
      "     164       6987.49   0.000191299       93.8089   2.981e-06       0.001      245  LS failed, Hessian reset \n",
      "     196       6987.53   0.000114137       69.7641   1.847e-06       0.001      320  LS failed, Hessian reset \n",
      "     199       6987.53    2.9469e-05       51.1857           1           1      324   \n",
      "    Iter      log prob        ||dx||      ||grad||       alpha      alpha0  # evals  Notes \n",
      "     231       6987.54   4.26819e-07       63.2763     0.07618           1      372   \n",
      "Optimization terminated normally: \n",
      "  Convergence detected: relative gradient magnitude is below tolerance\n"
     ]
    },
    {
     "name": "stderr",
     "output_type": "stream",
     "text": [
      " 85%|████████▍ | 100/118 [02:17<00:30,  1.69s/it]"
     ]
    },
    {
     "name": "stdout",
     "output_type": "stream",
     "text": [
      "Initial log joint probability = -44.9519\n",
      "    Iter      log prob        ||dx||      ||grad||       alpha      alpha0  # evals  Notes \n",
      "      99       7053.48    0.00110377        69.231       2.995           1      125   \n",
      "    Iter      log prob        ||dx||      ||grad||       alpha      alpha0  # evals  Notes \n",
      "     130       7053.95   0.000150867       88.1211   8.611e-07       0.001      218  LS failed, Hessian reset \n",
      "     199        7054.5    0.00282142       72.3674           1           1      300   \n",
      "    Iter      log prob        ||dx||      ||grad||       alpha      alpha0  # evals  Notes \n",
      "     213       7054.62   0.000166873       121.216   1.625e-06       0.001      368  LS failed, Hessian reset \n",
      "     287       7055.19   7.58318e-05       83.6295   8.389e-07       0.001      498  LS failed, Hessian reset \n",
      "     299        7055.2   2.64466e-06       56.4772      0.2698      0.2698      514   \n",
      "    Iter      log prob        ||dx||      ||grad||       alpha      alpha0  # evals  Notes \n",
      "     322        7055.2   3.97139e-07       46.0379   9.388e-09       0.001      589  LS failed, Hessian reset \n",
      "Optimization terminated normally: \n",
      "  Convergence detected: relative gradient magnitude is below tolerance\n"
     ]
    },
    {
     "name": "stderr",
     "output_type": "stream",
     "text": [
      " 86%|████████▌ | 101/118 [02:18<00:29,  1.71s/it]"
     ]
    },
    {
     "name": "stdout",
     "output_type": "stream",
     "text": [
      "Initial log joint probability = -53.9385\n",
      "    Iter      log prob        ||dx||      ||grad||       alpha      alpha0  # evals  Notes \n",
      "      99       7117.82    0.00140054       69.5148      0.4008           1      121   \n",
      "    Iter      log prob        ||dx||      ||grad||       alpha      alpha0  # evals  Notes \n",
      "     199       7119.41    2.8869e-05       73.3897      0.2701           1      250   \n",
      "    Iter      log prob        ||dx||      ||grad||       alpha      alpha0  # evals  Notes \n",
      "     299       7119.66   0.000526458       69.1838           1           1      375   \n",
      "    Iter      log prob        ||dx||      ||grad||       alpha      alpha0  # evals  Notes \n",
      "     312       7119.76   0.000279112       101.419   4.696e-06       0.001      437  LS failed, Hessian reset \n",
      "     344       7119.79   3.66535e-07       62.9183      0.3749           1      481   \n",
      "Optimization terminated normally: \n",
      "  Convergence detected: relative gradient magnitude is below tolerance\n"
     ]
    },
    {
     "name": "stderr",
     "output_type": "stream",
     "text": [
      " 86%|████████▋ | 102/118 [02:20<00:26,  1.69s/it]"
     ]
    },
    {
     "name": "stdout",
     "output_type": "stream",
     "text": [
      "Initial log joint probability = -41.6748\n",
      "    Iter      log prob        ||dx||      ||grad||       alpha      alpha0  # evals  Notes \n",
      "      99       7175.96   0.000989999       99.5926      0.6305      0.6305      125   \n",
      "    Iter      log prob        ||dx||      ||grad||       alpha      alpha0  # evals  Notes \n",
      "     199       7177.07   0.000184886       131.078      0.2734      0.2734      255   \n",
      "    Iter      log prob        ||dx||      ||grad||       alpha      alpha0  # evals  Notes \n",
      "     280       7177.68   5.53263e-06       64.9661   9.194e-08       0.001      402  LS failed, Hessian reset \n",
      "     294       7177.68   2.73112e-07       56.3874      0.3303           1      421   \n",
      "Optimization terminated normally: \n",
      "  Convergence detected: relative gradient magnitude is below tolerance\n"
     ]
    },
    {
     "name": "stderr",
     "output_type": "stream",
     "text": [
      " 87%|████████▋ | 103/118 [02:22<00:26,  1.77s/it]"
     ]
    },
    {
     "name": "stdout",
     "output_type": "stream",
     "text": [
      "Initial log joint probability = -55.3886\n",
      "    Iter      log prob        ||dx||      ||grad||       alpha      alpha0  # evals  Notes \n",
      "      99       7255.35     0.0010052       298.657      0.3041      0.6692      115   \n",
      "    Iter      log prob        ||dx||      ||grad||       alpha      alpha0  # evals  Notes \n",
      "     179       7257.22   0.000773503       279.627   5.083e-06       0.001      259  LS failed, Hessian reset \n",
      "     199       7257.43    0.00098648       86.1848      0.2411           1      283   \n",
      "    Iter      log prob        ||dx||      ||grad||       alpha      alpha0  # evals  Notes \n",
      "     244       7257.53   8.32521e-07       37.7959      0.2698      0.9457      354   \n",
      "Optimization terminated normally: \n",
      "  Convergence detected: relative gradient magnitude is below tolerance\n"
     ]
    },
    {
     "name": "stderr",
     "output_type": "stream",
     "text": [
      " 88%|████████▊ | 104/118 [02:23<00:23,  1.66s/it]"
     ]
    },
    {
     "name": "stdout",
     "output_type": "stream",
     "text": [
      "Initial log joint probability = -43.223\n",
      "    Iter      log prob        ||dx||      ||grad||       alpha      alpha0  # evals  Notes \n",
      "      99       7315.57   0.000334337       112.277           1           1      132   \n",
      "    Iter      log prob        ||dx||      ||grad||       alpha      alpha0  # evals  Notes \n",
      "     199       7316.92     0.0184204       256.823           1           1      256   \n",
      "    Iter      log prob        ||dx||      ||grad||       alpha      alpha0  # evals  Notes \n",
      "     204       7317.03   0.000141449       91.1584   9.251e-07       0.001      305  LS failed, Hessian reset \n",
      "     299       7317.46   9.78415e-07       57.3261           1           1      435   \n",
      "Optimization terminated normally: \n",
      "  Convergence detected: relative gradient magnitude is below tolerance\n"
     ]
    },
    {
     "name": "stderr",
     "output_type": "stream",
     "text": [
      " 89%|████████▉ | 105/118 [02:25<00:22,  1.70s/it]"
     ]
    },
    {
     "name": "stdout",
     "output_type": "stream",
     "text": [
      "Initial log joint probability = -55.7273\n",
      "    Iter      log prob        ||dx||      ||grad||       alpha      alpha0  # evals  Notes \n",
      "      99       7383.28    0.00517225        86.009           1           1      129   \n",
      "    Iter      log prob        ||dx||      ||grad||       alpha      alpha0  # evals  Notes \n",
      "     152       7384.51   0.000232535       107.704   7.628e-07       0.001      239  LS failed, Hessian reset \n",
      "     199       7384.96   3.56062e-07       52.8296      0.1276      0.1276      306   \n",
      "    Iter      log prob        ||dx||      ||grad||       alpha      alpha0  # evals  Notes \n",
      "     207       7384.97   5.53769e-07       53.5743      0.2662           1      320   \n",
      "Optimization terminated normally: \n",
      "  Convergence detected: relative gradient magnitude is below tolerance\n"
     ]
    },
    {
     "name": "stderr",
     "output_type": "stream",
     "text": [
      " 90%|████████▉ | 106/118 [02:27<00:19,  1.63s/it]"
     ]
    },
    {
     "name": "stdout",
     "output_type": "stream",
     "text": [
      "Initial log joint probability = -44.0626\n",
      "    Iter      log prob        ||dx||      ||grad||       alpha      alpha0  # evals  Notes \n",
      "      99        7441.3   0.000289244       104.272           1           1      130   \n",
      "    Iter      log prob        ||dx||      ||grad||       alpha      alpha0  # evals  Notes \n",
      "     133       7442.05   0.000184481       132.876   1.704e-06       0.001      203  LS failed, Hessian reset \n",
      "     181       7442.85    0.00064793       118.819   6.349e-06       0.001      292  LS failed, Hessian reset \n",
      "     199       7442.93   5.10586e-05       62.3069     0.04623           1      315   \n",
      "    Iter      log prob        ||dx||      ||grad||       alpha      alpha0  # evals  Notes \n",
      "     229          7443   0.000117118          72.5   8.785e-07       0.001      392  LS failed, Hessian reset \n",
      "     273       7443.03   3.69493e-05       76.2073   5.508e-07       0.001      492  LS failed, Hessian reset \n",
      "     299       7443.03   2.55371e-06       61.8252           1           1      531   \n",
      "    Iter      log prob        ||dx||      ||grad||       alpha      alpha0  # evals  Notes \n",
      "     350       7443.19   0.000201368        133.28   1.957e-06       0.001      637  LS failed, Hessian reset \n",
      "     399       7443.32   3.87627e-05       59.7869     0.06478           1      704   \n",
      "    Iter      log prob        ||dx||      ||grad||       alpha      alpha0  # evals  Notes \n",
      "     499       7443.41   2.70204e-06       82.6533           1           1      825   \n",
      "    Iter      log prob        ||dx||      ||grad||       alpha      alpha0  # evals  Notes \n",
      "     502       7443.41   1.76393e-07       58.0306      0.1843      0.6233      830   \n",
      "Optimization terminated normally: \n",
      "  Convergence detected: relative gradient magnitude is below tolerance\n"
     ]
    },
    {
     "name": "stderr",
     "output_type": "stream",
     "text": [
      " 91%|█████████ | 107/118 [02:29<00:20,  1.90s/it]"
     ]
    },
    {
     "name": "stdout",
     "output_type": "stream",
     "text": [
      "Initial log joint probability = -56.2366\n",
      "    Iter      log prob        ||dx||      ||grad||       alpha      alpha0  # evals  Notes \n",
      "      99       7510.82    0.00174036       69.9157      0.3115           1      131   \n",
      "    Iter      log prob        ||dx||      ||grad||       alpha      alpha0  # evals  Notes \n",
      "     177       7513.09   0.000481271       142.795   6.562e-06       0.001      282  LS failed, Hessian reset \n",
      "     199       7513.21    2.4428e-05       58.7727           1           1      312   \n",
      "    Iter      log prob        ||dx||      ||grad||       alpha      alpha0  # evals  Notes \n",
      "     215       7513.22   2.70285e-05       56.3496   5.329e-07       0.001      376  LS failed, Hessian reset \n",
      "     245       7513.22   6.15631e-07       66.5569      0.6327      0.6327      418   \n",
      "Optimization terminated normally: \n",
      "  Convergence detected: relative gradient magnitude is below tolerance\n"
     ]
    },
    {
     "name": "stderr",
     "output_type": "stream",
     "text": [
      " 92%|█████████▏| 108/118 [02:31<00:18,  1.86s/it]"
     ]
    },
    {
     "name": "stdout",
     "output_type": "stream",
     "text": [
      "Initial log joint probability = -43.53\n",
      "    Iter      log prob        ||dx||      ||grad||       alpha      alpha0  # evals  Notes \n",
      "      92          7579   0.000327812       163.919   2.761e-06       0.001      152  LS failed, Hessian reset \n",
      "      99       7579.11    0.00246081       69.6438           1           1      159   \n",
      "    Iter      log prob        ||dx||      ||grad||       alpha      alpha0  # evals  Notes \n",
      "     157       7580.11   0.000266575       178.667   1.865e-06       0.001      269  LS failed, Hessian reset \n",
      "     199        7580.5   8.66821e-05       73.2198      0.5916      0.5916      324   \n",
      "    Iter      log prob        ||dx||      ||grad||       alpha      alpha0  # evals  Notes \n",
      "     274       7580.89   0.000163139       107.774   8.374e-07       0.001      458  LS failed, Hessian reset \n",
      "     299       7581.11   0.000104273        81.788      0.2374           1      489   \n",
      "    Iter      log prob        ||dx||      ||grad||       alpha      alpha0  # evals  Notes \n",
      "     399       7581.17   0.000860724       55.1132           1           1      621   \n",
      "    Iter      log prob        ||dx||      ||grad||       alpha      alpha0  # evals  Notes \n",
      "     464       7581.23   1.76334e-06       55.4447      0.1845      0.9095      713   \n",
      "Optimization terminated normally: \n",
      "  Convergence detected: relative gradient magnitude is below tolerance\n"
     ]
    },
    {
     "name": "stderr",
     "output_type": "stream",
     "text": [
      " 92%|█████████▏| 109/118 [02:33<00:17,  2.00s/it]"
     ]
    },
    {
     "name": "stdout",
     "output_type": "stream",
     "text": [
      "Initial log joint probability = -56.0546\n",
      "    Iter      log prob        ||dx||      ||grad||       alpha      alpha0  # evals  Notes \n",
      "      99       7649.52    0.00853158       156.511       8.588      0.8588      131   \n",
      "    Iter      log prob        ||dx||      ||grad||       alpha      alpha0  # evals  Notes \n",
      "     128       7650.72   0.000128462       95.7176   1.351e-06       0.001      223  LS failed, Hessian reset \n",
      "     199       7651.36   7.20201e-06       59.5983      0.9105      0.9105      323   \n",
      "    Iter      log prob        ||dx||      ||grad||       alpha      alpha0  # evals  Notes \n",
      "     299       7651.48   1.62739e-06       68.1869     0.05977           1      461   \n",
      "    Iter      log prob        ||dx||      ||grad||       alpha      alpha0  # evals  Notes \n",
      "     312       7651.48   6.43217e-07         55.86           1           1      479   \n",
      "Optimization terminated normally: \n",
      "  Convergence detected: relative gradient magnitude is below tolerance\n"
     ]
    },
    {
     "name": "stderr",
     "output_type": "stream",
     "text": [
      " 93%|█████████▎| 110/118 [02:35<00:15,  1.99s/it]"
     ]
    },
    {
     "name": "stdout",
     "output_type": "stream",
     "text": [
      "Initial log joint probability = -46.4117\n",
      "    Iter      log prob        ||dx||      ||grad||       alpha      alpha0  # evals  Notes \n",
      "      99       7670.97    0.00194001       148.262      0.5056      0.5056      124   \n",
      "    Iter      log prob        ||dx||      ||grad||       alpha      alpha0  # evals  Notes \n",
      "     199       7672.93   9.54498e-05       46.0356      0.7429      0.7429      250   \n",
      "    Iter      log prob        ||dx||      ||grad||       alpha      alpha0  # evals  Notes \n",
      "     243       7673.21   0.000141051       102.858   1.157e-06       0.001      348  LS failed, Hessian reset \n",
      "     294       7673.33   7.01445e-06       56.6848   1.007e-07       0.001      463  LS failed, Hessian reset \n",
      "     299       7673.33   1.47496e-06       42.0823      0.1813           1      469   \n",
      "    Iter      log prob        ||dx||      ||grad||       alpha      alpha0  # evals  Notes \n",
      "     304       7673.33   3.83659e-07       51.3829      0.5456      0.5456      479   \n",
      "Optimization terminated normally: \n",
      "  Convergence detected: relative gradient magnitude is below tolerance\n"
     ]
    },
    {
     "name": "stderr",
     "output_type": "stream",
     "text": [
      " 94%|█████████▍| 111/118 [02:37<00:13,  1.96s/it]"
     ]
    },
    {
     "name": "stdout",
     "output_type": "stream",
     "text": [
      "Initial log joint probability = -57.7001\n",
      "    Iter      log prob        ||dx||      ||grad||       alpha      alpha0  # evals  Notes \n",
      "      99       7732.49    0.00934882       346.746           1           1      125   \n",
      "    Iter      log prob        ||dx||      ||grad||       alpha      alpha0  # evals  Notes \n",
      "     199       7735.61    0.00164104       66.4925           1           1      239   \n",
      "    Iter      log prob        ||dx||      ||grad||       alpha      alpha0  # evals  Notes \n",
      "     225       7735.77    0.00022614       80.7468   3.126e-06       0.001      315  LS failed, Hessian reset \n",
      "     299       7735.82   1.76256e-05       72.1193           1           1      408   \n",
      "    Iter      log prob        ||dx||      ||grad||       alpha      alpha0  # evals  Notes \n",
      "     399       7736.36   0.000357874       69.5237       3.164      0.3164      524   \n",
      "    Iter      log prob        ||dx||      ||grad||       alpha      alpha0  # evals  Notes \n",
      "     405        7736.4   0.000238521       147.271   2.398e-06       0.001      577  LS failed, Hessian reset \n",
      "     438       7736.43   3.41463e-05       80.1185   4.183e-07       0.001      663  LS failed, Hessian reset \n",
      "     499       7736.54   4.50693e-05       62.3583      0.2263           1      741   \n",
      "    Iter      log prob        ||dx||      ||grad||       alpha      alpha0  # evals  Notes \n",
      "     523       7736.55   3.80748e-05        57.989   4.776e-07       0.001      815  LS failed, Hessian reset \n",
      "     537       7736.55   7.77582e-07       56.2253      0.0527           1      837   \n",
      "Optimization terminated normally: \n",
      "  Convergence detected: relative gradient magnitude is below tolerance\n"
     ]
    },
    {
     "name": "stderr",
     "output_type": "stream",
     "text": [
      " 95%|█████████▍| 112/118 [02:39<00:12,  2.08s/it]"
     ]
    },
    {
     "name": "stdout",
     "output_type": "stream",
     "text": [
      "Initial log joint probability = -46.1621\n",
      "    Iter      log prob        ||dx||      ||grad||       alpha      alpha0  # evals  Notes \n",
      "      99       7800.35    0.00158425        210.73           1           1      125   \n",
      "    Iter      log prob        ||dx||      ||grad||       alpha      alpha0  # evals  Notes \n",
      "     107       7800.77   0.000642932       126.199   5.333e-06       0.001      177  LS failed, Hessian reset \n",
      "     144       7801.47   0.000150425       104.064   8.673e-07       0.001      267  LS failed, Hessian reset \n",
      "     199       7801.95    0.00343214       99.9969      0.2049           1      339   \n",
      "    Iter      log prob        ||dx||      ||grad||       alpha      alpha0  # evals  Notes \n",
      "     281       7802.22   3.82367e-05       55.3222   5.183e-07       0.001      484  LS failed, Hessian reset \n",
      "     295       7802.22   7.22273e-07       54.3595       0.195           1      507   \n",
      "Optimization terminated normally: \n",
      "  Convergence detected: relative gradient magnitude is below tolerance\n"
     ]
    },
    {
     "name": "stderr",
     "output_type": "stream",
     "text": [
      " 96%|█████████▌| 113/118 [02:42<00:10,  2.11s/it]"
     ]
    },
    {
     "name": "stdout",
     "output_type": "stream",
     "text": [
      "Initial log joint probability = -58.4904\n",
      "    Iter      log prob        ||dx||      ||grad||       alpha      alpha0  # evals  Notes \n",
      "      99       7872.61    0.00192036       178.954           1           1      126   \n",
      "    Iter      log prob        ||dx||      ||grad||       alpha      alpha0  # evals  Notes \n",
      "     163       7875.54    8.1272e-05       60.4141   9.261e-07       0.001      244  LS failed, Hessian reset \n",
      "     199       7875.59   1.40934e-05       54.4926      0.7187      0.7187      297   \n",
      "    Iter      log prob        ||dx||      ||grad||       alpha      alpha0  # evals  Notes \n",
      "     206        7875.6   0.000133511       95.7743   1.447e-06       0.001      347  LS failed, Hessian reset \n",
      "     224       7875.62   6.99637e-07       57.6027       0.566       0.566      369   \n",
      "Optimization terminated normally: \n",
      "  Convergence detected: relative gradient magnitude is below tolerance\n"
     ]
    },
    {
     "name": "stderr",
     "output_type": "stream",
     "text": [
      " 97%|█████████▋| 114/118 [02:43<00:08,  2.01s/it]"
     ]
    },
    {
     "name": "stdout",
     "output_type": "stream",
     "text": [
      "Initial log joint probability = -50.1714\n",
      "    Iter      log prob        ||dx||      ||grad||       alpha      alpha0  # evals  Notes \n",
      "      99       7920.56    0.00240103       157.112       1.133      0.1133      129   \n",
      "    Iter      log prob        ||dx||      ||grad||       alpha      alpha0  # evals  Notes \n",
      "     183        7922.6   0.000232769       73.4211    4.43e-06       0.001      290  LS failed, Hessian reset \n",
      "     199       7922.64   8.03872e-05       63.3013           1           1      311   \n",
      "    Iter      log prob        ||dx||      ||grad||       alpha      alpha0  # evals  Notes \n",
      "     243       7922.65   5.33505e-07       44.9373     0.07399           1      367   \n",
      "Optimization terminated normally: \n",
      "  Convergence detected: relative gradient magnitude is below tolerance\n"
     ]
    },
    {
     "name": "stderr",
     "output_type": "stream",
     "text": [
      " 97%|█████████▋| 115/118 [02:45<00:05,  1.97s/it]"
     ]
    },
    {
     "name": "stdout",
     "output_type": "stream",
     "text": [
      "Initial log joint probability = -59.7575\n",
      "    Iter      log prob        ||dx||      ||grad||       alpha      alpha0  # evals  Notes \n",
      "      99       7975.73     0.0037214       364.115           1           1      121   \n",
      "    Iter      log prob        ||dx||      ||grad||       alpha      alpha0  # evals  Notes \n",
      "     142       7977.29    0.00129232       107.306   1.818e-05       0.001      213  LS failed, Hessian reset \n",
      "     188       7977.46   0.000112626       80.2518   1.209e-06       0.001      316  LS failed, Hessian reset \n",
      "     199       7977.47    1.2681e-05       69.6851      0.6514      0.6514      329   \n",
      "    Iter      log prob        ||dx||      ||grad||       alpha      alpha0  # evals  Notes \n",
      "     226       7977.47    2.1078e-05        65.302   3.035e-07       0.001      401  LS failed, Hessian reset \n",
      "     235       7977.47   8.34625e-08       46.2818     0.06948           1      417   \n",
      "Optimization terminated normally: \n",
      "  Convergence detected: relative gradient magnitude is below tolerance\n"
     ]
    },
    {
     "name": "stderr",
     "output_type": "stream",
     "text": [
      " 98%|█████████▊| 116/118 [02:47<00:03,  1.90s/it]"
     ]
    },
    {
     "name": "stdout",
     "output_type": "stream",
     "text": [
      "Initial log joint probability = -48.8486\n",
      "    Iter      log prob        ||dx||      ||grad||       alpha      alpha0  # evals  Notes \n",
      "      99       8013.85   0.000877702        92.866           1           1      129   \n",
      "    Iter      log prob        ||dx||      ||grad||       alpha      alpha0  # evals  Notes \n",
      "     175       8015.23   0.000186895       126.826   1.619e-06       0.001      273  LS failed, Hessian reset \n",
      "     199       8015.37   3.89169e-05       65.5898       0.871      0.2008      307   \n",
      "    Iter      log prob        ||dx||      ||grad||       alpha      alpha0  # evals  Notes \n",
      "     271       8015.49   1.51697e-05        62.013   2.393e-07       0.001      439  LS failed, Hessian reset \n",
      "     286       8015.49   5.51472e-07       54.8768      0.8071      0.8071      460   \n",
      "Optimization terminated normally: \n",
      "  Convergence detected: relative gradient magnitude is below tolerance\n"
     ]
    },
    {
     "name": "stderr",
     "output_type": "stream",
     "text": [
      " 99%|█████████▉| 117/118 [02:49<00:01,  1.88s/it]"
     ]
    },
    {
     "name": "stdout",
     "output_type": "stream",
     "text": [
      "Initial log joint probability = -61.548\n",
      "    Iter      log prob        ||dx||      ||grad||       alpha      alpha0  # evals  Notes \n",
      "      99       8085.18     0.0061366       90.8349      0.6935      0.6935      125   \n",
      "    Iter      log prob        ||dx||      ||grad||       alpha      alpha0  # evals  Notes \n",
      "     141       8085.96   0.000175063       84.5501   7.116e-07       0.001      224  LS failed, Hessian reset \n",
      "     198       8086.36   0.000105195       92.0821   1.133e-06       0.001      339  LS failed, Hessian reset \n",
      "     199       8086.36   3.74393e-05       71.9756           1           1      340   \n",
      "    Iter      log prob        ||dx||      ||grad||       alpha      alpha0  # evals  Notes \n",
      "     299       8087.07     0.0011479       84.7067       0.739       0.739      468   \n",
      "    Iter      log prob        ||dx||      ||grad||       alpha      alpha0  # evals  Notes \n",
      "     312       8087.11   0.000100647       68.2185   1.161e-06       0.001      544  LS failed, Hessian reset \n",
      "     388       8087.32   4.32106e-06        61.903   6.322e-08       0.001      671  LS failed, Hessian reset \n",
      "     396       8087.32   2.26929e-07       59.3197      0.2535           1      682   \n",
      "Optimization terminated normally: \n",
      "  Convergence detected: relative gradient magnitude is below tolerance\n"
     ]
    },
    {
     "name": "stderr",
     "output_type": "stream",
     "text": [
      "100%|██████████| 118/118 [02:51<00:00,  1.46s/it]\n",
      "INFO:prophet:Skipping MAPE because y close to 0\n"
     ]
    },
    {
     "data": {
      "text/html": [
       "<div>\n",
       "<style scoped>\n",
       "    .dataframe tbody tr th:only-of-type {\n",
       "        vertical-align: middle;\n",
       "    }\n",
       "\n",
       "    .dataframe tbody tr th {\n",
       "        vertical-align: top;\n",
       "    }\n",
       "\n",
       "    .dataframe thead th {\n",
       "        text-align: right;\n",
       "    }\n",
       "</style>\n",
       "<table border=\"1\" class=\"dataframe\">\n",
       "  <thead>\n",
       "    <tr style=\"text-align: right;\">\n",
       "      <th></th>\n",
       "      <th>horizon</th>\n",
       "      <th>mse</th>\n",
       "      <th>rmse</th>\n",
       "      <th>mae</th>\n",
       "      <th>mdape</th>\n",
       "      <th>smape</th>\n",
       "      <th>coverage</th>\n",
       "    </tr>\n",
       "  </thead>\n",
       "  <tbody>\n",
       "    <tr>\n",
       "      <th>0</th>\n",
       "      <td>0 days 08:00:00</td>\n",
       "      <td>4956.263598</td>\n",
       "      <td>70.400736</td>\n",
       "      <td>44.704339</td>\n",
       "      <td>0.755989</td>\n",
       "      <td>1.013420</td>\n",
       "      <td>0.895660</td>\n",
       "    </tr>\n",
       "    <tr>\n",
       "      <th>1</th>\n",
       "      <td>0 days 09:00:00</td>\n",
       "      <td>7224.454370</td>\n",
       "      <td>84.996790</td>\n",
       "      <td>54.015278</td>\n",
       "      <td>0.697527</td>\n",
       "      <td>0.958952</td>\n",
       "      <td>0.839582</td>\n",
       "    </tr>\n",
       "    <tr>\n",
       "      <th>2</th>\n",
       "      <td>0 days 10:00:00</td>\n",
       "      <td>7727.448784</td>\n",
       "      <td>87.905909</td>\n",
       "      <td>57.094790</td>\n",
       "      <td>0.690897</td>\n",
       "      <td>0.923841</td>\n",
       "      <td>0.815107</td>\n",
       "    </tr>\n",
       "    <tr>\n",
       "      <th>3</th>\n",
       "      <td>0 days 11:00:00</td>\n",
       "      <td>7627.693302</td>\n",
       "      <td>87.336666</td>\n",
       "      <td>56.428152</td>\n",
       "      <td>0.670238</td>\n",
       "      <td>0.895954</td>\n",
       "      <td>0.816284</td>\n",
       "    </tr>\n",
       "    <tr>\n",
       "      <th>4</th>\n",
       "      <td>0 days 12:00:00</td>\n",
       "      <td>7570.798503</td>\n",
       "      <td>87.010336</td>\n",
       "      <td>56.030157</td>\n",
       "      <td>0.689593</td>\n",
       "      <td>0.894046</td>\n",
       "      <td>0.815795</td>\n",
       "    </tr>\n",
       "  </tbody>\n",
       "</table>\n",
       "</div>"
      ],
      "text/plain": [
       "          horizon          mse       rmse        mae     mdape     smape  \\\n",
       "0 0 days 08:00:00  4956.263598  70.400736  44.704339  0.755989  1.013420   \n",
       "1 0 days 09:00:00  7224.454370  84.996790  54.015278  0.697527  0.958952   \n",
       "2 0 days 10:00:00  7727.448784  87.905909  57.094790  0.690897  0.923841   \n",
       "3 0 days 11:00:00  7627.693302  87.336666  56.428152  0.670238  0.895954   \n",
       "4 0 days 12:00:00  7570.798503  87.010336  56.030157  0.689593  0.894046   \n",
       "\n",
       "   coverage  \n",
       "0  0.895660  \n",
       "1  0.839582  \n",
       "2  0.815107  \n",
       "3  0.816284  \n",
       "4  0.815795  "
      ]
     },
     "execution_count": 122,
     "metadata": {},
     "output_type": "execute_result"
    }
   ],
   "source": [
    "from prophet.diagnostics import cross_validation, performance_metrics\n",
    "df_cv = cross_validation(m, horizon='3 days')\n",
    "# print(df_cv)\n",
    "df_p = performance_metrics(df_cv)\n",
    "df_p.head(5)"
   ]
  },
  {
   "cell_type": "code",
   "execution_count": 123,
   "metadata": {},
   "outputs": [
    {
     "name": "stderr",
     "output_type": "stream",
     "text": [
      "INFO:prophet:Skipping MAPE because y close to 0\n",
      "INFO:prophet:Skipping MAPE because y close to 0\n"
     ]
    },
    {
     "ename": "TypeError",
     "evalue": "'NoneType' object is not subscriptable",
     "output_type": "error",
     "traceback": [
      "\u001b[0;31m---------------------------------------------------------------------------\u001b[0m",
      "\u001b[0;31mTypeError\u001b[0m                                 Traceback (most recent call last)",
      "\u001b[0;32m/var/folders/5m/tzygbs9x3szg046gghhfnzy80000gn/T/ipykernel_7822/2518704734.py\u001b[0m in \u001b[0;36m<module>\u001b[0;34m\u001b[0m\n\u001b[1;32m      1\u001b[0m \u001b[0;32mfrom\u001b[0m \u001b[0mprophet\u001b[0m\u001b[0;34m.\u001b[0m\u001b[0mplot\u001b[0m \u001b[0;32mimport\u001b[0m \u001b[0mplot_cross_validation_metric\u001b[0m\u001b[0;34m\u001b[0m\u001b[0;34m\u001b[0m\u001b[0m\n\u001b[0;32m----> 2\u001b[0;31m \u001b[0mfig10\u001b[0m \u001b[0;34m=\u001b[0m \u001b[0mplot_cross_validation_metric\u001b[0m\u001b[0;34m(\u001b[0m\u001b[0mdf_cv\u001b[0m\u001b[0;34m,\u001b[0m \u001b[0mmetric\u001b[0m\u001b[0;34m=\u001b[0m\u001b[0;34m'mape'\u001b[0m\u001b[0;34m)\u001b[0m\u001b[0;34m\u001b[0m\u001b[0;34m\u001b[0m\u001b[0m\n\u001b[0m",
      "\u001b[0;32m/usr/local/lib/python3.9/site-packages/prophet/plot.py\u001b[0m in \u001b[0;36mplot_cross_validation_metric\u001b[0;34m(df_cv, metric, rolling_window, ax, figsize, color)\u001b[0m\n\u001b[1;32m    517\u001b[0m     \u001b[0;31m# Some work because matplotlib does not handle timedelta\u001b[0m\u001b[0;34m\u001b[0m\u001b[0;34m\u001b[0m\u001b[0m\n\u001b[1;32m    518\u001b[0m     \u001b[0;31m# Target ~10 ticks.\u001b[0m\u001b[0;34m\u001b[0m\u001b[0;34m\u001b[0m\u001b[0m\n\u001b[0;32m--> 519\u001b[0;31m     \u001b[0mtick_w\u001b[0m \u001b[0;34m=\u001b[0m \u001b[0mmax\u001b[0m\u001b[0;34m(\u001b[0m\u001b[0mdf_none\u001b[0m\u001b[0;34m[\u001b[0m\u001b[0;34m'horizon'\u001b[0m\u001b[0;34m]\u001b[0m\u001b[0;34m.\u001b[0m\u001b[0mastype\u001b[0m\u001b[0;34m(\u001b[0m\u001b[0;34m'timedelta64[ns]'\u001b[0m\u001b[0;34m)\u001b[0m\u001b[0;34m)\u001b[0m \u001b[0;34m/\u001b[0m \u001b[0;36m10.\u001b[0m\u001b[0;34m\u001b[0m\u001b[0;34m\u001b[0m\u001b[0m\n\u001b[0m\u001b[1;32m    520\u001b[0m     \u001b[0;31m# Find the largest time resolution that has <1 unit per bin.\u001b[0m\u001b[0;34m\u001b[0m\u001b[0;34m\u001b[0m\u001b[0m\n\u001b[1;32m    521\u001b[0m     \u001b[0mdts\u001b[0m \u001b[0;34m=\u001b[0m \u001b[0;34m[\u001b[0m\u001b[0;34m'D'\u001b[0m\u001b[0;34m,\u001b[0m \u001b[0;34m'h'\u001b[0m\u001b[0;34m,\u001b[0m \u001b[0;34m'm'\u001b[0m\u001b[0;34m,\u001b[0m \u001b[0;34m's'\u001b[0m\u001b[0;34m,\u001b[0m \u001b[0;34m'ms'\u001b[0m\u001b[0;34m,\u001b[0m \u001b[0;34m'us'\u001b[0m\u001b[0;34m,\u001b[0m \u001b[0;34m'ns'\u001b[0m\u001b[0;34m]\u001b[0m\u001b[0;34m\u001b[0m\u001b[0;34m\u001b[0m\u001b[0m\n",
      "\u001b[0;31mTypeError\u001b[0m: 'NoneType' object is not subscriptable"
     ]
    },
    {
     "data": {
      "image/png": "[encoded data removed]",
      "text/plain": [
       "<Figure size 720x432 with 1 Axes>"
      ]
     },
     "metadata": {},
     "output_type": "display_data"
    }
   ],
   "source": [
    "from prophet.plot import plot_cross_validation_metric\n",
    "fig10 = plot_cross_validation_metric(df_cv, metric='mape')"
   ]
  }
 ],
 "metadata": {
  "interpreter": {
   "hash": "aee8b7b246df8f9039afb4144a1f6fd8d2ca17a180786b69acc140d282b71a49"
  },
  "kernelspec": {
   "display_name": "Python 3.9.7 64-bit",
   "language": "python",
   "name": "python3"
  },
  "language_info": {
   "codemirror_mode": {
    "name": "ipython",
    "version": 3
   },
   "file_extension": ".py",
   "mimetype": "text/x-python",
   "name": "python",
   "nbconvert_exporter": "python",
   "pygments_lexer": "ipython3",
   "version": "3.9.7"
  },
  "orig_nbformat": 4
 },
 "nbformat": 4,
 "nbformat_minor": 2
}
