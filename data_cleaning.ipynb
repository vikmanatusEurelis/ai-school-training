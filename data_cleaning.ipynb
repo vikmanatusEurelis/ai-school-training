{
 "cells": [
  {
   "cell_type": "code",
   "execution_count": 19,
   "metadata": {},
   "outputs": [
    {
     "name": "stdout",
     "output_type": "stream",
     "text": [
      "Test Jupyter with VSCode modifed another time other\n"
     ]
    }
   ],
   "source": [
    "message = \"Test Jupyter with VSCode modifed another time other\"\n",
    "print(message)\n"
   ]
  },
  {
   "cell_type": "code",
   "execution_count": 20,
   "metadata": {},
   "outputs": [
    {
     "name": "stdout",
     "output_type": "stream",
     "text": [
      "begininb reading\n",
      "reading\n",
      "anaolyzing\n",
      "{'url_photos_n1': 'https://www.eco-visio.net/Photos/100003096/https:', 'name': '97 avenue Denfert Rochereau', 'nom_compteur': '97 avenue Denfert Rochereau SO-NE', 'sum_counts': 41.0, 'counter': 'X2H20012081', 'coordinates': [48.83511, 2.33338], 'installation_date': '2012-02-22', 'date': '2020-10-01T18:00:00+02:00', 'id_compteur': '100003096-353242251', 'id': '100003096'}\n",
      "                                        recordid  \\\n",
      "0       ef5a8926e5ffa2afe942a22bce813d3b7b5ed91b   \n",
      "1       da9f82c7397ded76ccca768ac1de7227f19bb83b   \n",
      "2       343bbbe29dc14c67aaf3d82fab5494e9325179c3   \n",
      "3       ae6176a583ba76bb82a6176cba4938dc2bcf8f10   \n",
      "4       2758a1656d8b58b6a3f676750521c0e4ad07828b   \n",
      "...                                          ...   \n",
      "950413  456b49cd4a0db242bc4e415f2075fd0550f45c40   \n",
      "950414  e24b85cd2fb73b6beec79444177ddba7962b95e0   \n",
      "950415  0f1bd184cd5618677173cefb1398c0905099779e   \n",
      "950416  bbde2fee1241eabb6d66f01f430af234ea42c364   \n",
      "950417  f8028016d8aff5aab588edef6f2c07d7cd2b437e   \n",
      "\n",
      "                                                 geometry  \\\n",
      "0       {'type': 'Point', 'coordinates': [2.33338, 48....   \n",
      "1       {'type': 'Point', 'coordinates': [2.33338, 48....   \n",
      "2       {'type': 'Point', 'coordinates': [2.33338, 48....   \n",
      "3       {'type': 'Point', 'coordinates': [2.33338, 48....   \n",
      "4       {'type': 'Point', 'coordinates': [2.33338, 48....   \n",
      "...                                                   ...   \n",
      "950413  {'type': 'Point', 'coordinates': [2.32203, 48....   \n",
      "950414  {'type': 'Point', 'coordinates': [2.32203, 48....   \n",
      "950415  {'type': 'Point', 'coordinates': [2.32203, 48....   \n",
      "950416  {'type': 'Point', 'coordinates': [2.32203, 48....   \n",
      "950417  {'type': 'Point', 'coordinates': [2.32203, 48....   \n",
      "\n",
      "                     record_timestamp                       nom_compteur  \\\n",
      "0       2021-11-23T08:00:03.265+01:00  97 avenue Denfert Rochereau SO-NE   \n",
      "1       2021-11-23T08:00:03.265+01:00  97 avenue Denfert Rochereau SO-NE   \n",
      "2       2021-11-23T08:00:03.265+01:00  97 avenue Denfert Rochereau SO-NE   \n",
      "3       2021-11-23T08:00:03.265+01:00  97 avenue Denfert Rochereau SO-NE   \n",
      "4       2021-11-23T08:00:03.265+01:00  97 avenue Denfert Rochereau SO-NE   \n",
      "...                               ...                                ...   \n",
      "950413  2021-11-23T08:39:53.355+01:00           Quai des Tuileries SE-NO   \n",
      "950414  2021-11-23T08:39:53.355+01:00           Quai des Tuileries SE-NO   \n",
      "950415  2021-11-23T08:39:53.355+01:00           Quai des Tuileries SE-NO   \n",
      "950416  2021-11-23T08:39:53.355+01:00           Quai des Tuileries SE-NO   \n",
      "950417  2021-11-23T08:39:53.355+01:00           Quai des Tuileries SE-NO   \n",
      "\n",
      "        sum_counts         id          id_compteur  \\\n",
      "0              0.0  100003096  100003096-353242251   \n",
      "1              1.0  100003096  100003096-353242251   \n",
      "2              2.0  100003096  100003096-353242251   \n",
      "3             42.0  100003096  100003096-353242251   \n",
      "4             38.0  100003096  100003096-353242251   \n",
      "...            ...        ...                  ...   \n",
      "950413        53.0  100056035  100056035-353266460   \n",
      "950414        62.0  100056035  100056035-353266460   \n",
      "950415       148.0  100056035  100056035-353266460   \n",
      "950416         5.0  100056035  100056035-353266460   \n",
      "950417         3.0  100056035  100056035-353266460   \n",
      "\n",
      "                               name  \n",
      "0       97 avenue Denfert Rochereau  \n",
      "1       97 avenue Denfert Rochereau  \n",
      "2       97 avenue Denfert Rochereau  \n",
      "3       97 avenue Denfert Rochereau  \n",
      "4       97 avenue Denfert Rochereau  \n",
      "...                             ...  \n",
      "950413           Quai des Tuileries  \n",
      "950414           Quai des Tuileries  \n",
      "950415           Quai des Tuileries  \n",
      "950416           Quai des Tuileries  \n",
      "950417           Quai des Tuileries  \n",
      "\n",
      "[950418 rows x 8 columns]\n",
      "searching\n"
     ]
    }
   ],
   "source": [
    "import pandas as pd\n",
    "print('begininb reading')\n",
    "dataset = pd.read_json('./data/comptage-velo-donnees-compteurs.json')\n",
    "print('reading')\n",
    "dataframe = pd.DataFrame(dataset).from_dict(dataset)\n",
    "print('anaolyzing')\n",
    "# print(dataframe)\n",
    "dataframe_fields = dataframe['fields']\n",
    "counter_name_column = []\n",
    "sum_couts_holrder = []\n",
    "ids_holder = []\n",
    "id_compteur_holder = []\n",
    "names_holder = []\n",
    "for index, data in enumerate(dataframe_fields):\n",
    "      if(index == 10):\n",
    "            print(data)\n",
    "      counter_name_column.append(data['nom_compteur'])\n",
    "      sum_couts_holrder.append(data['sum_counts'])\n",
    "      ids_holder.append(data['id'])\n",
    "      id_compteur_holder.append(data['id_compteur'])\n",
    "      names_holder.append(data['name'])\n",
    "dataframe['nom_compteur'] = counter_name_column\n",
    "dataframe['sum_counts'] = sum_couts_holrder\n",
    "dataframe['id'] = ids_holder\n",
    "dataframe['id_compteur'] = id_compteur_holder\n",
    "dataframe['name'] = names_holder\n",
    "dataframe.pop('fields')\n",
    "dataframe.pop('datasetid')\n",
    "# dataframe.drop(['fields', 'datasetid'],axis=)\n",
    "print(dataframe)\n",
    "# print(dataframe.loc[dataframe['fields'] ==\n",
    "#       'ef5a8926e5ffa2afe942a22bce813d3b7b5ed91b'])\n",
    "# dataframe.loc(dataframe['nom_compteur' == '97 avenue Denfert Rochereau SO-NE'])\n",
    "print('searching')\n"
   ]
  }
 ],
 "metadata": {
  "interpreter": {
   "hash": "aee8b7b246df8f9039afb4144a1f6fd8d2ca17a180786b69acc140d282b71a49"
  },
  "kernelspec": {
   "display_name": "Python 3.9.7 64-bit",
   "language": "python",
   "name": "python3"
  },
  "language_info": {
   "codemirror_mode": {
    "name": "ipython",
    "version": 3
   },
   "file_extension": ".py",
   "mimetype": "text/x-python",
   "name": "python",
   "nbconvert_exporter": "python",
   "pygments_lexer": "ipython3",
   "version": "3.9.7"
  },
  "orig_nbformat": 4
 },
 "nbformat": 4,
 "nbformat_minor": 2
}
